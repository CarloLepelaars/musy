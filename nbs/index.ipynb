{
 "cells": [
  {
   "cell_type": "code",
   "execution_count": null,
   "metadata": {},
   "outputs": [],
   "source": [
    "#| hide\n",
    "from musy.core import *"
   ]
  },
  {
   "cell_type": "markdown",
   "metadata": {},
   "source": [
    "# musy\n",
    "\n",
    "> Python toolbox for analyzing, creating and visualizing music."
   ]
  },
  {
   "cell_type": "markdown",
   "metadata": {},
   "source": [
    "# Installation"
   ]
  },
  {
   "cell_type": "markdown",
   "metadata": {},
   "source": [
    "```sh\n",
    "pip install musy\n",
    "```"
   ]
  },
  {
   "cell_type": "markdown",
   "metadata": {},
   "source": [
    "# How to use"
   ]
  },
  {
   "cell_type": "markdown",
   "metadata": {},
   "source": [
    "## Note"
   ]
  },
  {
   "cell_type": "code",
   "execution_count": null,
   "metadata": {},
   "outputs": [],
   "source": [
    "from musy import Note, Chord, Scale"
   ]
  },
  {
   "cell_type": "markdown",
   "metadata": {},
   "source": [
    "The `Note` is the basic building block from which you can create chords and songs. "
   ]
  },
  {
   "cell_type": "code",
   "execution_count": null,
   "metadata": {},
   "outputs": [
    {
     "data": {
      "text/plain": [
       "musy.core.Note(note='C#', oct=4)"
      ]
     },
     "execution_count": null,
     "metadata": {},
     "output_type": "execute_result"
    }
   ],
   "source": [
    "c_sharp = Note(\"C#\")\n",
    "c_sharp"
   ]
  },
  {
   "cell_type": "markdown",
   "metadata": {},
   "source": [
    "Notes can be added and subtracted to form new notes. Each added integer represents a semitone."
   ]
  },
  {
   "cell_type": "code",
   "execution_count": null,
   "metadata": {},
   "outputs": [
    {
     "data": {
      "text/plain": [
       "musy.core.Note(note='D', oct=4)"
      ]
     },
     "execution_count": null,
     "metadata": {},
     "output_type": "execute_result"
    }
   ],
   "source": [
    "c_sharp + 1"
   ]
  },
  {
   "cell_type": "code",
   "execution_count": null,
   "metadata": {},
   "outputs": [
    {
     "data": {
      "text/plain": [
       "musy.core.Note(note='C', oct=4)"
      ]
     },
     "execution_count": null,
     "metadata": {},
     "output_type": "execute_result"
    }
   ],
   "source": [
    "c_sharp - 1"
   ]
  },
  {
   "cell_type": "code",
   "execution_count": null,
   "metadata": {},
   "outputs": [
    {
     "data": {
      "text/plain": [
       "musy.core.Note(note='D#', oct=5)"
      ]
     },
     "execution_count": null,
     "metadata": {},
     "output_type": "execute_result"
    }
   ],
   "source": [
    "c_sharp + 14"
   ]
  },
  {
   "cell_type": "markdown",
   "metadata": {},
   "source": [
    "Intervals can be obtained by comparing a note with a different note or string."
   ]
  },
  {
   "cell_type": "code",
   "execution_count": null,
   "metadata": {},
   "outputs": [
    {
     "data": {
      "text/plain": [
       "'perfect fourth'"
      ]
     },
     "execution_count": null,
     "metadata": {},
     "output_type": "execute_result"
    }
   ],
   "source": [
    "c_sharp.interval(\"F#\")"
   ]
  },
  {
   "cell_type": "markdown",
   "metadata": {},
   "source": [
    "Shorthand is also available for intervals."
   ]
  },
  {
   "cell_type": "code",
   "execution_count": null,
   "metadata": {},
   "outputs": [
    {
     "data": {
      "text/plain": [
       "'b7'"
      ]
     },
     "execution_count": null,
     "metadata": {},
     "output_type": "execute_result"
    }
   ],
   "source": [
    "c_sharp.interval(\"B\", short=True)"
   ]
  },
  {
   "cell_type": "markdown",
   "metadata": {},
   "source": [
    "Notes can be converted to its relative major or minor."
   ]
  },
  {
   "cell_type": "code",
   "execution_count": null,
   "metadata": {},
   "outputs": [
    {
     "data": {
      "text/plain": [
       "musy.core.Note(note='A', oct=4)"
      ]
     },
     "execution_count": null,
     "metadata": {},
     "output_type": "execute_result"
    }
   ],
   "source": [
    "Note(\"C\").minor()"
   ]
  },
  {
   "cell_type": "code",
   "execution_count": null,
   "metadata": {},
   "outputs": [
    {
     "data": {
      "text/plain": [
       "musy.core.Note(note='E', oct=4)"
      ]
     },
     "execution_count": null,
     "metadata": {},
     "output_type": "execute_result"
    }
   ],
   "source": [
    "Note(\"C#\").major()"
   ]
  },
  {
   "cell_type": "markdown",
   "metadata": {},
   "source": [
    "# Chord"
   ]
  },
  {
   "cell_type": "markdown",
   "metadata": {},
   "source": [
    "The `Chord` is a collection of `Note` objects played together."
   ]
  },
  {
   "cell_type": "code",
   "execution_count": null,
   "metadata": {},
   "outputs": [
    {
     "data": {
      "text/plain": [
       "Chord: 'C major triad'. Notes: ['C4', 'E4', 'G4']"
      ]
     },
     "execution_count": null,
     "metadata": {},
     "output_type": "execute_result"
    }
   ],
   "source": [
    "c_major = Chord([\"C\", \"E\", \"G\"])\n",
    "c_major"
   ]
  },
  {
   "cell_type": "markdown",
   "metadata": {},
   "source": [
    "`Chord` objects can be initialized from shorthand notation."
   ]
  },
  {
   "cell_type": "code",
   "execution_count": null,
   "metadata": {},
   "outputs": [
    {
     "data": {
      "text/plain": [
       "Chord: 'C major seventh'. Notes: ['C4', 'E4', 'G4', 'B4']"
      ]
     },
     "execution_count": null,
     "metadata": {},
     "output_type": "execute_result"
    }
   ],
   "source": [
    "cmaj7 = Chord.from_short(\"Cmaj7\")\n",
    "cmaj7"
   ]
  },
  {
   "cell_type": "markdown",
   "metadata": {},
   "source": [
    "Like `Note` objects, `Chord` objects can be added and subtracted to transpose them."
   ]
  },
  {
   "cell_type": "code",
   "execution_count": null,
   "metadata": {},
   "outputs": [
    {
     "data": {
      "text/plain": [
       "Chord: 'D major seventh'. Notes: ['D4', 'F#4', 'A4', 'C#5']"
      ]
     },
     "execution_count": null,
     "metadata": {},
     "output_type": "execute_result"
    }
   ],
   "source": [
    "cmaj7 + 2"
   ]
  },
  {
   "cell_type": "markdown",
   "metadata": {},
   "source": [
    "# Scale\n",
    "\n",
    "`Scale` objects are collections of intervals from which we can generate notes and chords around a root note."
   ]
  },
  {
   "cell_type": "code",
   "execution_count": null,
   "metadata": {},
   "outputs": [
    {
     "data": {
      "text/plain": [
       "Dorian. ['1', '2', 'b3', '4', '5', '6', 'b7']"
      ]
     },
     "execution_count": null,
     "metadata": {},
     "output_type": "execute_result"
    }
   ],
   "source": [
    "dorian = Scale(\"dorian\")\n",
    "dorian"
   ]
  },
  {
   "cell_type": "markdown",
   "metadata": {},
   "source": [
    "When given a root note, `Scale` generates the notes of the scale."
   ]
  },
  {
   "cell_type": "code",
   "execution_count": null,
   "metadata": {},
   "outputs": [
    {
     "data": {
      "text/plain": [
       "[musy.core.Note(note='C', oct=4),\n",
       " musy.core.Note(note='D', oct=4),\n",
       " musy.core.Note(note='Eb', oct=4),\n",
       " musy.core.Note(note='F', oct=4),\n",
       " musy.core.Note(note='G', oct=4),\n",
       " musy.core.Note(note='A', oct=4),\n",
       " musy.core.Note(note='Bb', oct=4)]"
      ]
     },
     "execution_count": null,
     "metadata": {},
     "output_type": "execute_result"
    }
   ],
   "source": [
    "dorian.get_notes(\"C\")"
   ]
  },
  {
   "cell_type": "markdown",
   "metadata": {},
   "source": [
    "Intervals can be obtained."
   ]
  },
  {
   "cell_type": "code",
   "execution_count": null,
   "metadata": {},
   "outputs": [
    {
     "data": {
      "text/plain": [
       "['unison',\n",
       " 'major second',\n",
       " 'minor third',\n",
       " 'perfect fourth',\n",
       " 'perfect fifth',\n",
       " 'major sixth',\n",
       " 'minor seventh']"
      ]
     },
     "execution_count": null,
     "metadata": {},
     "output_type": "execute_result"
    }
   ],
   "source": [
    "dorian.get_interval_names()"
   ]
  },
  {
   "cell_type": "markdown",
   "metadata": {},
   "source": [
    "Triads and seventh chords in the scale can be generated around a root note."
   ]
  },
  {
   "cell_type": "code",
   "execution_count": null,
   "metadata": {},
   "outputs": [
    {
     "data": {
      "text/plain": [
       "[Chord: 'D minor triad'. Notes: ['D4', 'F4', 'A4'],\n",
       " Chord: 'E minor triad'. Notes: ['E4', 'G4', 'B4'],\n",
       " Chord: 'F major triad'. Notes: ['F4', 'A4', 'C4'],\n",
       " Chord: 'G major triad'. Notes: ['G4', 'B4', 'D5'],\n",
       " Chord: 'A minor triad'. Notes: ['A4', 'C4', 'E5'],\n",
       " Chord: 'B diminished triad'. Notes: ['B4', 'D5', 'F5'],\n",
       " Chord: 'C major triad'. Notes: ['C5', 'E6', 'G6']]"
      ]
     },
     "execution_count": null,
     "metadata": {},
     "output_type": "execute_result"
    }
   ],
   "source": [
    "dorian.get_triads(\"D\")"
   ]
  },
  {
   "cell_type": "code",
   "execution_count": null,
   "metadata": {},
   "outputs": [
    {
     "data": {
      "text/plain": [
       "[Chord: 'E minor seventh'. Notes: ['E4', 'G4', 'B4', 'D4'],\n",
       " Chord: 'F# minor seventh'. Notes: ['F#4', 'A4', 'C#4', 'E5'],\n",
       " Chord: 'G major seventh'. Notes: ['G4', 'B4', 'D4', 'F#5'],\n",
       " Chord: 'A dominant seventh'. Notes: ['A4', 'C#4', 'E5', 'G5'],\n",
       " Chord: 'B minor seventh'. Notes: ['B4', 'D4', 'F#5', 'A5'],\n",
       " Chord: 'C# half diminished seventh'. Notes: ['C#5', 'E6', 'G6', 'B6'],\n",
       " Chord: 'D major seventh'. Notes: ['D5', 'F#6', 'A6', 'C#6']]"
      ]
     },
     "execution_count": null,
     "metadata": {},
     "output_type": "execute_result"
    }
   ],
   "source": [
    "dorian.get_sevenths(\"E\")"
   ]
  },
  {
   "cell_type": "markdown",
   "metadata": {},
   "source": [
    "Consult `Scale.available_scales` for a list of available scales. If a scale is not available, you can create your own scale from intervals."
   ]
  },
  {
   "cell_type": "code",
   "execution_count": null,
   "metadata": {},
   "outputs": [
    {
     "data": {
      "text/plain": [
       "Persian. ['1', 'b2', '3', '4', 'b5', 'b6', '7']"
      ]
     },
     "execution_count": null,
     "metadata": {},
     "output_type": "execute_result"
    }
   ],
   "source": [
    "persian = Scale.from_intervals(\"persian\", [\"1\", \"b2\", \"3\", \"4\", \"b5\", \"b6\", \"7\"])\n",
    "persian"
   ]
  },
  {
   "cell_type": "code",
   "execution_count": null,
   "metadata": {},
   "outputs": [
    {
     "data": {
      "text/plain": [
       "[musy.core.Note(note='C', oct=4),\n",
       " musy.core.Note(note='Db', oct=4),\n",
       " musy.core.Note(note='E', oct=4),\n",
       " musy.core.Note(note='F', oct=4),\n",
       " musy.core.Note(note='F#', oct=4),\n",
       " musy.core.Note(note='Ab', oct=4),\n",
       " musy.core.Note(note='B', oct=4)]"
      ]
     },
     "execution_count": null,
     "metadata": {},
     "output_type": "execute_result"
    }
   ],
   "source": [
    "persian.get_notes(\"C\")"
   ]
  }
 ],
 "metadata": {
  "kernelspec": {
   "display_name": "python3",
   "language": "python",
   "name": "python3"
  }
 },
 "nbformat": 4,
 "nbformat_minor": 4
}
