{
 "cells": [
  {
   "cell_type": "markdown",
   "metadata": {},
   "source": [
    "# musy\n",
    "\n",
    "> Python toolbox for analyzing, creating and visualizing music."
   ]
  },
  {
   "cell_type": "markdown",
   "metadata": {},
   "source": [
    "`musy` is a comprehensive toolbox for analyzing and visualizing music. It lays the foundation for the Musy web apps.\n",
    "\n",
    "At its core it has basic building blocks from which all theory can be derived:\n",
    "- `Note`: The basic atomic unit of music.\n",
    "- `Chord` and `PolyChord`: A stack of notes played together.\n",
    "- `Scale`: Stack of intervals from which harmony, (diatonic) chords, melody, etc. can be derived.\n",
    "\n",
    "For visualization these objects can be placed on instrument surfaces:\n",
    "- `Piano`: Basic key layout\n",
    "- `Guitar`: Guitar fretboard\n"
   ]
  },
  {
   "cell_type": "markdown",
   "metadata": {},
   "source": [
    "# Installation"
   ]
  },
  {
   "cell_type": "markdown",
   "metadata": {},
   "source": [
    "```sh\n",
    "pip install musy\n",
    "```"
   ]
  },
  {
   "cell_type": "markdown",
   "metadata": {},
   "source": [
    "# Note\n",
    "\n",
    "## Initialization\n",
    "\n",
    "The `Note` is the basic building block from which you can create chords, scales, intervals and songs. "
   ]
  },
  {
   "cell_type": "code",
   "execution_count": null,
   "metadata": {},
   "outputs": [
    {
     "data": {
      "text/plain": [
       "C#4"
      ]
     },
     "execution_count": null,
     "metadata": {},
     "output_type": "execute_result"
    }
   ],
   "source": [
    "from musy import Note\n",
    "\n",
    "c_sharp = Note(\"C#\")\n",
    "c_sharp"
   ]
  },
  {
   "cell_type": "markdown",
   "metadata": {},
   "source": [
    "You can get compact representations of `Note` objects. For example, their MIDI numbers and binary representations."
   ]
  },
  {
   "cell_type": "code",
   "execution_count": null,
   "metadata": {},
   "outputs": [
    {
     "data": {
      "text/plain": [
       "(49, '0b110001', '0x31')"
      ]
     },
     "execution_count": null,
     "metadata": {},
     "output_type": "execute_result"
    }
   ],
   "source": [
    "c_sharp.midi, bin(c_sharp), hex(c_sharp)"
   ]
  },
  {
   "cell_type": "markdown",
   "metadata": {},
   "source": [
    "## Addition and subtraction"
   ]
  },
  {
   "cell_type": "markdown",
   "metadata": {},
   "source": [
    "Notes can be added and subtracted to form new notes. Each added integer represents a semitone."
   ]
  },
  {
   "cell_type": "code",
   "execution_count": null,
   "metadata": {},
   "outputs": [
    {
     "data": {
      "text/plain": [
       "D4"
      ]
     },
     "execution_count": null,
     "metadata": {},
     "output_type": "execute_result"
    }
   ],
   "source": [
    "c_sharp + 1"
   ]
  },
  {
   "cell_type": "code",
   "execution_count": null,
   "metadata": {},
   "outputs": [
    {
     "data": {
      "text/plain": [
       "C4"
      ]
     },
     "execution_count": null,
     "metadata": {},
     "output_type": "execute_result"
    }
   ],
   "source": [
    "c_sharp - 1"
   ]
  },
  {
   "cell_type": "code",
   "execution_count": null,
   "metadata": {},
   "outputs": [
    {
     "data": {
      "text/plain": [
       "D#5"
      ]
     },
     "execution_count": null,
     "metadata": {},
     "output_type": "execute_result"
    }
   ],
   "source": [
    "c_sharp + 14"
   ]
  },
  {
   "cell_type": "markdown",
   "metadata": {},
   "source": [
    "## Comparison\n",
    "\n",
    "Notes can be compared using familiar Python operators."
   ]
  },
  {
   "cell_type": "code",
   "execution_count": null,
   "metadata": {},
   "outputs": [
    {
     "data": {
      "text/plain": [
       "True"
      ]
     },
     "execution_count": null,
     "metadata": {},
     "output_type": "execute_result"
    }
   ],
   "source": [
    "c = Note(\"C\")\n",
    "g = Note(\"G\")\n",
    "\n",
    "c < g"
   ]
  },
  {
   "cell_type": "markdown",
   "metadata": {},
   "source": [
    "Octaves can make a difference in comparisons."
   ]
  },
  {
   "cell_type": "code",
   "execution_count": null,
   "metadata": {},
   "outputs": [
    {
     "data": {
      "text/plain": [
       "True"
      ]
     },
     "execution_count": null,
     "metadata": {},
     "output_type": "execute_result"
    }
   ],
   "source": [
    "Note(\"C\", oct=4) >= Note(\"G\", oct=3)"
   ]
  },
  {
   "cell_type": "markdown",
   "metadata": {},
   "source": [
    "## Relative Major/Minor\n",
    "\n",
    "Notes can be converted to its relative major or minor. As can be found on the circle of fifths."
   ]
  },
  {
   "cell_type": "code",
   "execution_count": null,
   "metadata": {},
   "outputs": [
    {
     "data": {
      "text/plain": [
       "A3"
      ]
     },
     "execution_count": null,
     "metadata": {},
     "output_type": "execute_result"
    }
   ],
   "source": [
    "Note(\"C\").minor()"
   ]
  },
  {
   "cell_type": "code",
   "execution_count": null,
   "metadata": {},
   "outputs": [
    {
     "data": {
      "text/plain": [
       "E4"
      ]
     },
     "execution_count": null,
     "metadata": {},
     "output_type": "execute_result"
    }
   ],
   "source": [
    "Note(\"C#\").major()"
   ]
  },
  {
   "cell_type": "markdown",
   "metadata": {},
   "source": [
    "# Interval\n",
    "\n",
    "## Initialization\n",
    "\n",
    "`Interval` objects can be obtained by calling `interval` on two notes or using the `&` operator."
   ]
  },
  {
   "cell_type": "code",
   "execution_count": null,
   "metadata": {},
   "outputs": [
    {
     "data": {
      "text/plain": [
       "perfect fourth (4)"
      ]
     },
     "execution_count": null,
     "metadata": {},
     "output_type": "execute_result"
    }
   ],
   "source": [
    "f_sharp = Note(\"F#\")\n",
    "\n",
    "P4 = c_sharp & f_sharp\n",
    "P4"
   ]
  },
  {
   "cell_type": "code",
   "execution_count": null,
   "metadata": {},
   "outputs": [
    {
     "data": {
      "text/plain": [
       "(5, 'perfect fourth', '4', 'Contextual', True, False)"
      ]
     },
     "execution_count": null,
     "metadata": {},
     "output_type": "execute_result"
    }
   ],
   "source": [
    "P4.semitones, P4.long, P4.short, P4.type(), P4.is_contextual(), P4.is_consonant()"
   ]
  },
  {
   "cell_type": "markdown",
   "metadata": {},
   "source": [
    "## Comparison"
   ]
  },
  {
   "cell_type": "markdown",
   "metadata": {},
   "source": [
    "Intervals can also be compared."
   ]
  },
  {
   "cell_type": "code",
   "execution_count": null,
   "metadata": {},
   "outputs": [
    {
     "data": {
      "text/plain": [
       "perfect fifth (5)"
      ]
     },
     "execution_count": null,
     "metadata": {},
     "output_type": "execute_result"
    }
   ],
   "source": [
    "P5 = c & g\n",
    "P5"
   ]
  },
  {
   "cell_type": "code",
   "execution_count": null,
   "metadata": {},
   "outputs": [
    {
     "data": {
      "text/plain": [
       "(7, 'perfect fifth', '5', 'Perfect Consonant', True, True)"
      ]
     },
     "execution_count": null,
     "metadata": {},
     "output_type": "execute_result"
    }
   ],
   "source": [
    "P5.semitones, P5.long, P5.short, P5.type(), P5.is_consonant(), P5.is_perfect()"
   ]
  },
  {
   "cell_type": "code",
   "execution_count": null,
   "metadata": {},
   "outputs": [
    {
     "data": {
      "text/plain": [
       "True"
      ]
     },
     "execution_count": null,
     "metadata": {},
     "output_type": "execute_result"
    }
   ],
   "source": [
    "P4 != P5"
   ]
  },
  {
   "cell_type": "code",
   "execution_count": null,
   "metadata": {},
   "outputs": [
    {
     "data": {
      "text/plain": [
       "True"
      ]
     },
     "execution_count": null,
     "metadata": {},
     "output_type": "execute_result"
    }
   ],
   "source": [
    "P4 < P5"
   ]
  },
  {
   "cell_type": "markdown",
   "metadata": {},
   "source": [
    "# Chord"
   ]
  },
  {
   "cell_type": "markdown",
   "metadata": {},
   "source": [
    "## Initialization"
   ]
  },
  {
   "cell_type": "markdown",
   "metadata": {},
   "source": [
    "The `Chord` is a stack of `Note` objects played together."
   ]
  },
  {
   "cell_type": "code",
   "execution_count": null,
   "metadata": {},
   "outputs": [
    {
     "data": {
      "text/plain": [
       "Chord: 'C major triad'. Notes: ['C4', 'E4', 'G4']"
      ]
     },
     "execution_count": null,
     "metadata": {},
     "output_type": "execute_result"
    }
   ],
   "source": [
    "from musy import Chord\n",
    "\n",
    "c_major = Chord([\"C\", \"E\", \"G\"])\n",
    "c_major"
   ]
  },
  {
   "cell_type": "markdown",
   "metadata": {},
   "source": [
    "`Chord` objects can be initialized from shorthand notation."
   ]
  },
  {
   "cell_type": "code",
   "execution_count": null,
   "metadata": {},
   "outputs": [
    {
     "data": {
      "text/plain": [
       "Chord: 'C major seventh'. Notes: ['C4', 'E4', 'G4', 'B4']"
      ]
     },
     "execution_count": null,
     "metadata": {},
     "output_type": "execute_result"
    }
   ],
   "source": [
    "cmaj7 = Chord.from_short(\"Cmaj7\")\n",
    "cmaj7"
   ]
  },
  {
   "cell_type": "markdown",
   "metadata": {},
   "source": [
    "## Analysis"
   ]
  },
  {
   "cell_type": "markdown",
   "metadata": {},
   "source": [
    "You can easily retrieve intervals, related chords and extensions from a `Chord` object."
   ]
  },
  {
   "cell_type": "code",
   "execution_count": null,
   "metadata": {},
   "outputs": [
    {
     "data": {
      "text/plain": [
       "C4"
      ]
     },
     "execution_count": null,
     "metadata": {},
     "output_type": "execute_result"
    }
   ],
   "source": [
    "# Root of Cmaj7 -> C\n",
    "cmaj7.root"
   ]
  },
  {
   "cell_type": "code",
   "execution_count": null,
   "metadata": {},
   "outputs": [
    {
     "data": {
      "text/plain": [
       "Chord: 'G dominant seventh'. Notes: ['G4', 'B4', 'D5', 'F5']"
      ]
     },
     "execution_count": null,
     "metadata": {},
     "output_type": "execute_result"
    }
   ],
   "source": [
    "# Dominant (V7) chord of Cmaj7 -> G7.\n",
    "cmaj7.dominant()"
   ]
  },
  {
   "cell_type": "code",
   "execution_count": null,
   "metadata": {},
   "outputs": [
    {
     "data": {
      "text/plain": [
       "[C#5, D5, D#5, F5, F#5, G#5, A5]"
      ]
     },
     "execution_count": null,
     "metadata": {},
     "output_type": "execute_result"
    }
   ],
   "source": [
    "# Upper extensions (b9, 9, #9, b11, #11, b13, #13)\n",
    "cmaj7.root.ext()"
   ]
  },
  {
   "cell_type": "code",
   "execution_count": null,
   "metadata": {},
   "outputs": [
    {
     "data": {
      "text/plain": [
       "[C#5, D#5, F#5, G#5]"
      ]
     },
     "execution_count": null,
     "metadata": {},
     "output_type": "execute_result"
    }
   ],
   "source": [
    "# Altered extensions (b9, #9, #11, b13)\n",
    "cmaj7.root.alt_ext()"
   ]
  },
  {
   "cell_type": "markdown",
   "metadata": {},
   "source": [
    "Extension can be added and removed."
   ]
  },
  {
   "cell_type": "code",
   "execution_count": null,
   "metadata": {},
   "outputs": [
    {
     "data": {
      "text/plain": [
       "Chord: 'BM6|CM'. Notes: ['C4', 'E4', 'G4', 'B4', 'D#5', 'G#5']"
      ]
     },
     "execution_count": null,
     "metadata": {},
     "output_type": "execute_result"
    }
   ],
   "source": [
    "# Cmaj7#9b13\n",
    "cmaj7_sharp9_flat13 = cmaj7.add_ext(\"#9\").add_ext(\"b13\")\n",
    "cmaj7_sharp9_flat13"
   ]
  },
  {
   "cell_type": "code",
   "execution_count": null,
   "metadata": {},
   "outputs": [
    {
     "data": {
      "text/plain": [
       "Chord: 'C major seventh'. Notes: ['C4', 'G4', 'B4']"
      ]
     },
     "execution_count": null,
     "metadata": {},
     "output_type": "execute_result"
    }
   ],
   "source": [
    "# Cmaj7(no3)\n",
    "cmaj7.remove_ext(\"3\")"
   ]
  },
  {
   "cell_type": "code",
   "execution_count": null,
   "metadata": {},
   "outputs": [
    {
     "data": {
      "text/plain": [
       "Chord: 'No chord found.'. Notes: ['C4', 'D4', 'E4', 'G4', 'B4']"
      ]
     },
     "execution_count": null,
     "metadata": {},
     "output_type": "execute_result"
    }
   ],
   "source": [
    "# Cmaj7(add2)\n",
    "cmaj7.add2()"
   ]
  },
  {
   "cell_type": "markdown",
   "metadata": {},
   "source": [
    "## Inversion"
   ]
  },
  {
   "cell_type": "markdown",
   "metadata": {},
   "source": [
    "Chords can also be inverted with `invert`."
   ]
  },
  {
   "cell_type": "code",
   "execution_count": null,
   "metadata": {},
   "outputs": [
    {
     "data": {
      "text/plain": [
       "Chord: 'C major seventh, first inversion'. Notes: ['E4', 'G4', 'B4', 'C5']"
      ]
     },
     "execution_count": null,
     "metadata": {},
     "output_type": "execute_result"
    }
   ],
   "source": [
    "# Get 1st inversion chord of C major 7th\n",
    "cmaj7.invert(1)"
   ]
  },
  {
   "cell_type": "markdown",
   "metadata": {},
   "source": [
    "## Transposition"
   ]
  },
  {
   "cell_type": "markdown",
   "metadata": {},
   "source": [
    "Like `Note` objects, `Chord` objects can be added and subtracted to transpose them."
   ]
  },
  {
   "cell_type": "code",
   "execution_count": null,
   "metadata": {},
   "outputs": [
    {
     "data": {
      "text/plain": [
       "Chord: 'D major seventh'. Notes: ['D4', 'F#4', 'A4', 'C#5']"
      ]
     },
     "execution_count": null,
     "metadata": {},
     "output_type": "execute_result"
    }
   ],
   "source": [
    "cmaj7 + 2"
   ]
  },
  {
   "cell_type": "markdown",
   "metadata": {},
   "source": [
    "Notes can be multiplied to create chords."
   ]
  },
  {
   "cell_type": "code",
   "execution_count": null,
   "metadata": {},
   "outputs": [
    {
     "data": {
      "text/plain": [
       "Chord: 'C major triad'. Notes: ['C4', 'E4', 'G4']"
      ]
     },
     "execution_count": null,
     "metadata": {},
     "output_type": "execute_result"
    }
   ],
   "source": [
    "Note(\"C\") * Note(\"E\") * Note(\"G\")"
   ]
  },
  {
   "cell_type": "markdown",
   "metadata": {},
   "source": [
    "## Table\n",
    "\n",
    "Each chord can be displayed in a Pandas DataFrame table, which gives a quick overview of the notes and intervals in the chord."
   ]
  },
  {
   "cell_type": "code",
   "execution_count": null,
   "metadata": {},
   "outputs": [
    {
     "data": {
      "text/html": [
       "<div>\n",
       "<style scoped>\n",
       "    .dataframe tbody tr th:only-of-type {\n",
       "        vertical-align: middle;\n",
       "    }\n",
       "\n",
       "    .dataframe tbody tr th {\n",
       "        vertical-align: top;\n",
       "    }\n",
       "\n",
       "    .dataframe thead th {\n",
       "        text-align: right;\n",
       "    }\n",
       "</style>\n",
       "<table border=\"1\" class=\"dataframe\">\n",
       "  <thead>\n",
       "    <tr style=\"text-align: right;\">\n",
       "      <th></th>\n",
       "      <th>Notes</th>\n",
       "      <th>Relative Degree</th>\n",
       "      <th>Relative Interval</th>\n",
       "      <th>Absolute Interval</th>\n",
       "      <th>Absolute Degree</th>\n",
       "    </tr>\n",
       "  </thead>\n",
       "  <tbody>\n",
       "    <tr>\n",
       "      <th>0</th>\n",
       "      <td>C</td>\n",
       "      <td>1</td>\n",
       "      <td>unison</td>\n",
       "      <td>unison</td>\n",
       "      <td>1</td>\n",
       "    </tr>\n",
       "    <tr>\n",
       "      <th>1</th>\n",
       "      <td>E</td>\n",
       "      <td>3</td>\n",
       "      <td>major third</td>\n",
       "      <td>major third</td>\n",
       "      <td>3</td>\n",
       "    </tr>\n",
       "    <tr>\n",
       "      <th>2</th>\n",
       "      <td>G</td>\n",
       "      <td>5</td>\n",
       "      <td>perfect fifth</td>\n",
       "      <td>minor third</td>\n",
       "      <td>b3</td>\n",
       "    </tr>\n",
       "    <tr>\n",
       "      <th>3</th>\n",
       "      <td>B</td>\n",
       "      <td>7</td>\n",
       "      <td>major seventh</td>\n",
       "      <td>major third</td>\n",
       "      <td>3</td>\n",
       "    </tr>\n",
       "  </tbody>\n",
       "</table>\n",
       "</div>"
      ],
      "text/plain": [
       "  Notes Relative Degree Relative Interval Absolute Interval Absolute Degree\n",
       "0     C               1            unison            unison               1\n",
       "1     E               3       major third       major third               3\n",
       "2     G               5     perfect fifth       minor third              b3\n",
       "3     B               7     major seventh       major third               3"
      ]
     },
     "execution_count": null,
     "metadata": {},
     "output_type": "execute_result"
    }
   ],
   "source": [
    "cmaj7.to_frame()"
   ]
  },
  {
   "cell_type": "markdown",
   "metadata": {},
   "source": [
    "This get more interesting when we want to analyze more complicated chords and progressions. Take for example this chord:"
   ]
  },
  {
   "cell_type": "code",
   "execution_count": null,
   "metadata": {},
   "outputs": [
    {
     "data": {
      "text/html": [
       "<div>\n",
       "<style scoped>\n",
       "    .dataframe tbody tr th:only-of-type {\n",
       "        vertical-align: middle;\n",
       "    }\n",
       "\n",
       "    .dataframe tbody tr th {\n",
       "        vertical-align: top;\n",
       "    }\n",
       "\n",
       "    .dataframe thead th {\n",
       "        text-align: right;\n",
       "    }\n",
       "</style>\n",
       "<table border=\"1\" class=\"dataframe\">\n",
       "  <thead>\n",
       "    <tr style=\"text-align: right;\">\n",
       "      <th></th>\n",
       "      <th>Notes</th>\n",
       "      <th>Relative Degree</th>\n",
       "      <th>Relative Interval</th>\n",
       "      <th>Absolute Interval</th>\n",
       "      <th>Absolute Degree</th>\n",
       "    </tr>\n",
       "  </thead>\n",
       "  <tbody>\n",
       "    <tr>\n",
       "      <th>0</th>\n",
       "      <td>C</td>\n",
       "      <td>1</td>\n",
       "      <td>unison</td>\n",
       "      <td>unison</td>\n",
       "      <td>1</td>\n",
       "    </tr>\n",
       "    <tr>\n",
       "      <th>1</th>\n",
       "      <td>D#</td>\n",
       "      <td>b3</td>\n",
       "      <td>minor third</td>\n",
       "      <td>minor third</td>\n",
       "      <td>b3</td>\n",
       "    </tr>\n",
       "    <tr>\n",
       "      <th>2</th>\n",
       "      <td>F#</td>\n",
       "      <td>b5</td>\n",
       "      <td>tritone</td>\n",
       "      <td>minor third</td>\n",
       "      <td>b3</td>\n",
       "    </tr>\n",
       "    <tr>\n",
       "      <th>3</th>\n",
       "      <td>A</td>\n",
       "      <td>6</td>\n",
       "      <td>major sixth</td>\n",
       "      <td>minor third</td>\n",
       "      <td>b3</td>\n",
       "    </tr>\n",
       "    <tr>\n",
       "      <th>4</th>\n",
       "      <td>B</td>\n",
       "      <td>7</td>\n",
       "      <td>major seventh</td>\n",
       "      <td>major second</td>\n",
       "      <td>2</td>\n",
       "    </tr>\n",
       "  </tbody>\n",
       "</table>\n",
       "</div>"
      ],
      "text/plain": [
       "  Notes Relative Degree Relative Interval Absolute Interval Absolute Degree\n",
       "0     C               1            unison            unison               1\n",
       "1    D#              b3       minor third       minor third              b3\n",
       "2    F#              b5           tritone       minor third              b3\n",
       "3     A               6       major sixth       minor third              b3\n",
       "4     B               7     major seventh      major second               2"
      ]
     },
     "execution_count": null,
     "metadata": {},
     "output_type": "execute_result"
    }
   ],
   "source": [
    "Cdim6maj7 = Chord([Note(\"C\"), Note(\"D#\"), Note(\"F#\"), Note(\"A\"), Note(\"B\")])\n",
    "Cdim6maj7.to_frame()"
   ]
  },
  {
   "cell_type": "markdown",
   "metadata": {},
   "source": [
    "We can immediately see that there are 2 minor 3rds (i.e. `b3` and `b5`) so the base is a diminished chord (`Cdim` or `C°`). It is extended with a major 6th (`6`) and a major 7th (`maj7`). So we can describe this as a `C°6maj7` chord."
   ]
  },
  {
   "cell_type": "markdown",
   "metadata": {},
   "source": [
    "# PolyChord\n",
    "\n",
    "## Initialization\n",
    "\n",
    "For polyphonic use cases you can create `PolyChord` objects. This objects inherits the same functionality as `Chord` objects."
   ]
  },
  {
   "cell_type": "code",
   "execution_count": null,
   "metadata": {},
   "outputs": [
    {
     "data": {
      "text/plain": [
       "PolyChord: 'C major triad|Bb major seventh, third inversion'. Notes: ['C4', 'E4', 'G4', 'A4', 'Bb5', 'D5', 'F5']"
      ]
     },
     "execution_count": null,
     "metadata": {},
     "output_type": "execute_result"
    }
   ],
   "source": [
    "from musy import PolyChord\n",
    "\n",
    "c = Chord.from_short(\"C\")\n",
    "bbmaj7_3_inv = Chord.from_short(\"Bbmaj7\").invert(3)\n",
    "\n",
    "poly_chord = PolyChord([c, bbmaj7_3_inv])\n",
    "poly_chord"
   ]
  },
  {
   "cell_type": "markdown",
   "metadata": {},
   "source": [
    "Within `PolyChord` objects we can treat it as a single chord or analyze the underlying chords separately. For example, here we display 2 tables to analyze the underlying chords of the `PolyChord` object."
   ]
  },
  {
   "cell_type": "code",
   "execution_count": null,
   "metadata": {},
   "outputs": [
    {
     "name": "stdout",
     "output_type": "stream",
     "text": [
      "Chord 1: C major triad\n"
     ]
    },
    {
     "data": {
      "text/html": [
       "<div>\n",
       "<style scoped>\n",
       "    .dataframe tbody tr th:only-of-type {\n",
       "        vertical-align: middle;\n",
       "    }\n",
       "\n",
       "    .dataframe tbody tr th {\n",
       "        vertical-align: top;\n",
       "    }\n",
       "\n",
       "    .dataframe thead th {\n",
       "        text-align: right;\n",
       "    }\n",
       "</style>\n",
       "<table border=\"1\" class=\"dataframe\">\n",
       "  <thead>\n",
       "    <tr style=\"text-align: right;\">\n",
       "      <th></th>\n",
       "      <th>Notes</th>\n",
       "      <th>Relative Degree</th>\n",
       "      <th>Relative Interval</th>\n",
       "      <th>Absolute Interval</th>\n",
       "      <th>Absolute Degree</th>\n",
       "    </tr>\n",
       "  </thead>\n",
       "  <tbody>\n",
       "    <tr>\n",
       "      <th>0</th>\n",
       "      <td>C</td>\n",
       "      <td>1</td>\n",
       "      <td>unison</td>\n",
       "      <td>unison</td>\n",
       "      <td>1</td>\n",
       "    </tr>\n",
       "    <tr>\n",
       "      <th>1</th>\n",
       "      <td>E</td>\n",
       "      <td>3</td>\n",
       "      <td>major third</td>\n",
       "      <td>major third</td>\n",
       "      <td>3</td>\n",
       "    </tr>\n",
       "    <tr>\n",
       "      <th>2</th>\n",
       "      <td>G</td>\n",
       "      <td>5</td>\n",
       "      <td>perfect fifth</td>\n",
       "      <td>minor third</td>\n",
       "      <td>b3</td>\n",
       "    </tr>\n",
       "  </tbody>\n",
       "</table>\n",
       "</div>"
      ],
      "text/plain": [
       "  Notes Relative Degree Relative Interval Absolute Interval Absolute Degree\n",
       "0     C               1            unison            unison               1\n",
       "1     E               3       major third       major third               3\n",
       "2     G               5     perfect fifth       minor third              b3"
      ]
     },
     "metadata": {},
     "output_type": "display_data"
    },
    {
     "name": "stdout",
     "output_type": "stream",
     "text": [
      "Chord 2: Bb major seventh, third inversion\n"
     ]
    },
    {
     "data": {
      "text/html": [
       "<div>\n",
       "<style scoped>\n",
       "    .dataframe tbody tr th:only-of-type {\n",
       "        vertical-align: middle;\n",
       "    }\n",
       "\n",
       "    .dataframe tbody tr th {\n",
       "        vertical-align: top;\n",
       "    }\n",
       "\n",
       "    .dataframe thead th {\n",
       "        text-align: right;\n",
       "    }\n",
       "</style>\n",
       "<table border=\"1\" class=\"dataframe\">\n",
       "  <thead>\n",
       "    <tr style=\"text-align: right;\">\n",
       "      <th></th>\n",
       "      <th>Notes</th>\n",
       "      <th>Relative Degree</th>\n",
       "      <th>Relative Interval</th>\n",
       "      <th>Absolute Interval</th>\n",
       "      <th>Absolute Degree</th>\n",
       "    </tr>\n",
       "  </thead>\n",
       "  <tbody>\n",
       "    <tr>\n",
       "      <th>0</th>\n",
       "      <td>A</td>\n",
       "      <td>1</td>\n",
       "      <td>unison</td>\n",
       "      <td>unison</td>\n",
       "      <td>1</td>\n",
       "    </tr>\n",
       "    <tr>\n",
       "      <th>1</th>\n",
       "      <td>Bb</td>\n",
       "      <td>b9</td>\n",
       "      <td>minor ninth</td>\n",
       "      <td>minor ninth</td>\n",
       "      <td>b9</td>\n",
       "    </tr>\n",
       "    <tr>\n",
       "      <th>2</th>\n",
       "      <td>D</td>\n",
       "      <td>4</td>\n",
       "      <td>perfect fourth</td>\n",
       "      <td>minor sixth</td>\n",
       "      <td>b6</td>\n",
       "    </tr>\n",
       "    <tr>\n",
       "      <th>3</th>\n",
       "      <td>F</td>\n",
       "      <td>b6</td>\n",
       "      <td>minor sixth</td>\n",
       "      <td>minor third</td>\n",
       "      <td>b3</td>\n",
       "    </tr>\n",
       "  </tbody>\n",
       "</table>\n",
       "</div>"
      ],
      "text/plain": [
       "  Notes Relative Degree Relative Interval Absolute Interval Absolute Degree\n",
       "0     A               1            unison            unison               1\n",
       "1    Bb              b9       minor ninth       minor ninth              b9\n",
       "2     D               4    perfect fourth       minor sixth              b6\n",
       "3     F              b6       minor sixth       minor third              b3"
      ]
     },
     "metadata": {},
     "output_type": "display_data"
    }
   ],
   "source": [
    "poly_chord_tables = poly_chord.to_frame()\n",
    "print(f\"Chord 1: {poly_chord.chords[0].name}\")\n",
    "display(poly_chord_tables[0])\n",
    "print(f\"Chord 2: {poly_chord.chords[1].name}\")\n",
    "display(poly_chord_tables[1])"
   ]
  },
  {
   "cell_type": "markdown",
   "metadata": {},
   "source": [
    "# Scale\n",
    "\n",
    "## Initialization\n",
    "\n",
    "`Scale` objects are collections of intervals from which we can generate notes and chords around a root note."
   ]
  },
  {
   "cell_type": "code",
   "execution_count": null,
   "metadata": {},
   "outputs": [
    {
     "data": {
      "text/plain": [
       "Scale: Dorian. Intervals: ['1', '2', 'b3', '4', '5', '6', 'b7']"
      ]
     },
     "execution_count": null,
     "metadata": {},
     "output_type": "execute_result"
    }
   ],
   "source": [
    "from musy import Scale\n",
    "\n",
    "dorian = Scale(\"dorian\")\n",
    "dorian"
   ]
  },
  {
   "cell_type": "markdown",
   "metadata": {},
   "source": [
    "## Note Generation"
   ]
  },
  {
   "cell_type": "markdown",
   "metadata": {},
   "source": [
    "When given a root note, `Scale` generates the notes of the scale."
   ]
  },
  {
   "cell_type": "code",
   "execution_count": null,
   "metadata": {},
   "outputs": [
    {
     "data": {
      "text/plain": [
       "[C4, D4, D#4, F4, G4, A4, A#4]"
      ]
     },
     "execution_count": null,
     "metadata": {},
     "output_type": "execute_result"
    }
   ],
   "source": [
    "dorian.get_notes(\"C\")"
   ]
  },
  {
   "cell_type": "markdown",
   "metadata": {},
   "source": [
    "## Mode Generation\n",
    "\n",
    "All the modes of any `Scale` can be generated."
   ]
  },
  {
   "cell_type": "code",
   "execution_count": null,
   "metadata": {},
   "outputs": [
    {
     "data": {
      "text/plain": [
       "[Scale: Dorian. Intervals: ['1', '2', 'b3', '4', '5', '6', 'b7'],\n",
       " Scale: Phrygian. Intervals: ['1', 'b2', 'b3', '4', '5', 'b6', 'b7'],\n",
       " Scale: Lydian. Intervals: ['1', '2', '3', '#4', '5', '6', '7'],\n",
       " Scale: Mixolydian. Intervals: ['1', '2', '3', '4', '5', '6', 'b7'],\n",
       " Scale: Minor. Intervals: ['1', '2', 'b3', '4', '5', 'b6', 'b7'],\n",
       " Scale: Locrian. Intervals: ['1', 'b2', 'b3', '4', 'b5', 'b6', 'b7'],\n",
       " Scale: Ionian. Intervals: ['1', '2', '3', '4', '5', '6', '7']]"
      ]
     },
     "execution_count": null,
     "metadata": {},
     "output_type": "execute_result"
    }
   ],
   "source": [
    "dorian.get_modes()"
   ]
  },
  {
   "cell_type": "markdown",
   "metadata": {},
   "source": [
    "## Triad Generation"
   ]
  },
  {
   "cell_type": "markdown",
   "metadata": {},
   "source": [
    "Triads and seventh chords in the scale can be generated around a root note."
   ]
  },
  {
   "cell_type": "code",
   "execution_count": null,
   "metadata": {},
   "outputs": [
    {
     "data": {
      "text/plain": [
       "[Chord: 'D minor triad'. Notes: ['D4', 'F4', 'A4'],\n",
       " Chord: 'E minor triad'. Notes: ['E4', 'G4', 'B4'],\n",
       " Chord: 'F major triad'. Notes: ['F4', 'A4', 'C4'],\n",
       " Chord: 'G major triad'. Notes: ['G4', 'B4', 'D5'],\n",
       " Chord: 'A minor triad'. Notes: ['A4', 'C4', 'E5'],\n",
       " Chord: 'B diminished triad'. Notes: ['B4', 'D5', 'F5'],\n",
       " Chord: 'C major triad'. Notes: ['C5', 'E6', 'G6']]"
      ]
     },
     "execution_count": null,
     "metadata": {},
     "output_type": "execute_result"
    }
   ],
   "source": [
    "dorian.get_triads(\"D\")"
   ]
  },
  {
   "cell_type": "markdown",
   "metadata": {},
   "source": [
    "## Secondary Dominants\n",
    "\n",
    "You can get all the secondary dominants (i.e. `V7` chords) of a given `Scale`."
   ]
  },
  {
   "cell_type": "code",
   "execution_count": null,
   "metadata": {},
   "outputs": [
    {
     "data": {
      "text/plain": [
       "[Chord: 'G dominant seventh'. Notes: ['G4', 'B4', 'D5', 'F5'],\n",
       " Chord: 'A dominant seventh'. Notes: ['A4', 'C#5', 'E5', 'G5'],\n",
       " Chord: 'B dominant seventh'. Notes: ['B4', 'D#5', 'F#5', 'A5'],\n",
       " Chord: 'No chord found.'. Notes: ['C5', 'E5', 'G5', 'A#5'],\n",
       " Chord: 'D dominant seventh'. Notes: ['D5', 'F#5', 'A5', 'C6'],\n",
       " Chord: 'E dominant seventh'. Notes: ['E5', 'G#5', 'B5', 'D6'],\n",
       " Chord: 'F# dominant seventh'. Notes: ['F#5', 'A#5', 'C#6', 'E6']]"
      ]
     },
     "execution_count": null,
     "metadata": {},
     "output_type": "execute_result"
    }
   ],
   "source": [
    "Scale(\"major\").secondary_dominants(\"C\")"
   ]
  },
  {
   "cell_type": "markdown",
   "metadata": {},
   "source": [
    "## Seventh Chord Generation"
   ]
  },
  {
   "cell_type": "code",
   "execution_count": null,
   "metadata": {},
   "outputs": [
    {
     "data": {
      "text/plain": [
       "[Chord: 'E minor seventh'. Notes: ['E4', 'G4', 'B4', 'D4'],\n",
       " Chord: 'F# minor seventh'. Notes: ['F#4', 'A4', 'C#4', 'E5'],\n",
       " Chord: 'G major seventh'. Notes: ['G4', 'B4', 'D4', 'F#5'],\n",
       " Chord: 'A dominant seventh'. Notes: ['A4', 'C#4', 'E5', 'G5'],\n",
       " Chord: 'B minor seventh'. Notes: ['B4', 'D4', 'F#5', 'A5'],\n",
       " Chord: 'C# half diminished seventh'. Notes: ['C#5', 'E6', 'G6', 'B6'],\n",
       " Chord: 'D major seventh'. Notes: ['D5', 'F#6', 'A6', 'C#6']]"
      ]
     },
     "execution_count": null,
     "metadata": {},
     "output_type": "execute_result"
    }
   ],
   "source": [
    "dorian.get_sevenths(\"E\")"
   ]
  },
  {
   "cell_type": "markdown",
   "metadata": {},
   "source": [
    "All information can be conveniently retrieved and displayed as a Pandas DataFrame with `to_frame`."
   ]
  },
  {
   "cell_type": "markdown",
   "metadata": {},
   "source": [
    "## Table"
   ]
  },
  {
   "cell_type": "code",
   "execution_count": null,
   "metadata": {},
   "outputs": [
    {
     "data": {
      "text/html": [
       "<div>\n",
       "<style scoped>\n",
       "    .dataframe tbody tr th:only-of-type {\n",
       "        vertical-align: middle;\n",
       "    }\n",
       "\n",
       "    .dataframe tbody tr th {\n",
       "        vertical-align: top;\n",
       "    }\n",
       "\n",
       "    .dataframe thead th {\n",
       "        text-align: right;\n",
       "    }\n",
       "</style>\n",
       "<table border=\"1\" class=\"dataframe\">\n",
       "  <thead>\n",
       "    <tr style=\"text-align: right;\">\n",
       "      <th></th>\n",
       "      <th>Degree</th>\n",
       "      <th>Relative Interval</th>\n",
       "      <th>Mode</th>\n",
       "      <th>Relative Semitones</th>\n",
       "      <th>Absolute Semitones</th>\n",
       "      <th>Notes</th>\n",
       "      <th>Triad</th>\n",
       "      <th>Seventh Chord</th>\n",
       "    </tr>\n",
       "  </thead>\n",
       "  <tbody>\n",
       "    <tr>\n",
       "      <th>0</th>\n",
       "      <td>1</td>\n",
       "      <td>unison</td>\n",
       "      <td>dorian</td>\n",
       "      <td>0</td>\n",
       "      <td>2</td>\n",
       "      <td>E</td>\n",
       "      <td>E minor triad</td>\n",
       "      <td>E minor seventh</td>\n",
       "    </tr>\n",
       "    <tr>\n",
       "      <th>1</th>\n",
       "      <td>2</td>\n",
       "      <td>major second</td>\n",
       "      <td>phrygian</td>\n",
       "      <td>2</td>\n",
       "      <td>1</td>\n",
       "      <td>F#</td>\n",
       "      <td>F# minor triad</td>\n",
       "      <td>F# minor seventh</td>\n",
       "    </tr>\n",
       "    <tr>\n",
       "      <th>2</th>\n",
       "      <td>b3</td>\n",
       "      <td>minor third</td>\n",
       "      <td>lydian</td>\n",
       "      <td>3</td>\n",
       "      <td>2</td>\n",
       "      <td>G</td>\n",
       "      <td>G major triad</td>\n",
       "      <td>G major seventh</td>\n",
       "    </tr>\n",
       "    <tr>\n",
       "      <th>3</th>\n",
       "      <td>4</td>\n",
       "      <td>perfect fourth</td>\n",
       "      <td>mixolydian</td>\n",
       "      <td>5</td>\n",
       "      <td>2</td>\n",
       "      <td>A</td>\n",
       "      <td>A major triad</td>\n",
       "      <td>A dominant seventh</td>\n",
       "    </tr>\n",
       "    <tr>\n",
       "      <th>4</th>\n",
       "      <td>5</td>\n",
       "      <td>perfect fifth</td>\n",
       "      <td>minor</td>\n",
       "      <td>7</td>\n",
       "      <td>2</td>\n",
       "      <td>B</td>\n",
       "      <td>B minor triad</td>\n",
       "      <td>B minor seventh</td>\n",
       "    </tr>\n",
       "    <tr>\n",
       "      <th>5</th>\n",
       "      <td>6</td>\n",
       "      <td>major sixth</td>\n",
       "      <td>locrian</td>\n",
       "      <td>9</td>\n",
       "      <td>1</td>\n",
       "      <td>C#</td>\n",
       "      <td>C# diminished triad</td>\n",
       "      <td>C# half diminished seventh</td>\n",
       "    </tr>\n",
       "    <tr>\n",
       "      <th>6</th>\n",
       "      <td>b7</td>\n",
       "      <td>minor seventh</td>\n",
       "      <td>ionian</td>\n",
       "      <td>10</td>\n",
       "      <td>2</td>\n",
       "      <td>D</td>\n",
       "      <td>D major triad</td>\n",
       "      <td>D major seventh</td>\n",
       "    </tr>\n",
       "  </tbody>\n",
       "</table>\n",
       "</div>"
      ],
      "text/plain": [
       "  Degree Relative Interval        Mode  Relative Semitones  \\\n",
       "0      1            unison      dorian                   0   \n",
       "1      2      major second    phrygian                   2   \n",
       "2     b3       minor third      lydian                   3   \n",
       "3      4    perfect fourth  mixolydian                   5   \n",
       "4      5     perfect fifth       minor                   7   \n",
       "5      6       major sixth     locrian                   9   \n",
       "6     b7     minor seventh      ionian                  10   \n",
       "\n",
       "   Absolute Semitones Notes                Triad               Seventh Chord  \n",
       "0                   2     E        E minor triad             E minor seventh  \n",
       "1                   1    F#       F# minor triad            F# minor seventh  \n",
       "2                   2     G        G major triad             G major seventh  \n",
       "3                   2     A        A major triad          A dominant seventh  \n",
       "4                   2     B        B minor triad             B minor seventh  \n",
       "5                   1    C#  C# diminished triad  C# half diminished seventh  \n",
       "6                   2     D        D major triad             D major seventh  "
      ]
     },
     "execution_count": null,
     "metadata": {},
     "output_type": "execute_result"
    }
   ],
   "source": [
    "dorian.to_frame(root=\"E\")"
   ]
  },
  {
   "cell_type": "markdown",
   "metadata": {},
   "source": [
    "## Custom Scales\n",
    "\n",
    "Consult `Scale.available_scales` for a list of available scales. If a scale is not available, you can create your own scale from intervals."
   ]
  },
  {
   "cell_type": "code",
   "execution_count": null,
   "metadata": {},
   "outputs": [
    {
     "data": {
      "text/plain": [
       "Scale: Persian. Intervals: ['1', 'b2', '3', '4', 'b5', 'b6', '7']"
      ]
     },
     "execution_count": null,
     "metadata": {},
     "output_type": "execute_result"
    }
   ],
   "source": [
    "persian = Scale.from_intervals([\"1\", \"b2\", \"3\", \"4\", \"b5\", \"b6\", \"7\"], \"persian\")\n",
    "persian"
   ]
  },
  {
   "cell_type": "code",
   "execution_count": null,
   "metadata": {},
   "outputs": [
    {
     "data": {
      "text/plain": [
       "[C4, C#4, E4, F4, F#4, G#4, B4]"
      ]
     },
     "execution_count": null,
     "metadata": {},
     "output_type": "execute_result"
    }
   ],
   "source": [
    "persian.get_notes(\"C\")"
   ]
  },
  {
   "cell_type": "code",
   "execution_count": null,
   "metadata": {},
   "outputs": [
    {
     "data": {
      "text/plain": [
       "[Chord: 'No chord found.'. Notes: ['C4', 'E4', 'F#4'],\n",
       " Chord: 'No chord found.'. Notes: ['C#4', 'F4', 'G#4'],\n",
       " Chord: 'E suspended second triad'. Notes: ['E4', 'F#4', 'B4'],\n",
       " Chord: 'No chord found.'. Notes: ['F4', 'G#4', 'C5'],\n",
       " Chord: 'F# suspended fourth triad'. Notes: ['F#4', 'B4', 'C#5'],\n",
       " Chord: 'C augmented triad, second inversion'. Notes: ['G#4', 'C5', 'E5'],\n",
       " Chord: 'No chord found.'. Notes: ['B4', 'C#5', 'F5']]"
      ]
     },
     "execution_count": null,
     "metadata": {},
     "output_type": "execute_result"
    }
   ],
   "source": [
    "persian.get_triads(\"C\")"
   ]
  },
  {
   "cell_type": "markdown",
   "metadata": {},
   "source": [
    "## Listening"
   ]
  },
  {
   "cell_type": "markdown",
   "metadata": {},
   "source": [
    "`Note`, `Chord`, `PolyChord` and `Scale` objects can all be heard by calling the `play` method on them. Check out the [musy documentation](https://carlolepelaars.github.io/musy) on `Note`, `Chord`, `PolyChord` and `Scale` for example code and audio playbacks."
   ]
  },
  {
   "cell_type": "markdown",
   "metadata": {},
   "source": [
    "# Visualization\n",
    "\n",
    "`musy` objects can be visualized on a piano or guitar by providing a list of `Note` objects to the rendering method. Notes can easily be retrieved from `Chord` and `Scale` objects."
   ]
  },
  {
   "cell_type": "markdown",
   "metadata": {},
   "source": [
    "## Piano\n",
    "\n",
    "`musy` will show the minimum octaves on the piano needed to show the object. Here for example a single `C#` on one octave."
   ]
  },
  {
   "cell_type": "code",
   "execution_count": null,
   "metadata": {},
   "outputs": [
    {
     "data": {
      "text/html": [
       "<style>\n",
       ".piano { background: #222; padding: 20px 0; position: relative; }\n",
       ".white-keys { display: flex; }\n",
       ".white-key, .black-key { text-align: center; font-family: Arial; position: relative; }\n",
       ".white-key { width: 40px; height: 125px; background: #fff; border: 1px solid #000; \n",
       "    color: #111; font-size: 18px; line-height: 200px; z-index: 1; }\n",
       ".black-key { width: 20px; height: 80px; background: #000; color: #fff; border: 1px solid #333;\n",
       "    position: absolute; z-index: 2; line-height: 100px; font-size: 14px; top: 20px; }\n",
       ".highlight { background: #ff0 !important; color: #000 !important; }\n",
       "</style><div class=\"piano\" style=\"width:280px\"><div class=\"white-keys\"><div class=\"white-key\">C</div><div class=\"white-key\">D</div><div class=\"white-key\">E</div><div class=\"white-key\">F</div><div class=\"white-key\">G</div><div class=\"white-key\">A</div><div class=\"white-key\">B</div></div><div class=\"black-key highlight\" style=\"left:29px\">C#</div><div class=\"black-key\" style=\"left:69px\">D#</div><div class=\"black-key\" style=\"left:149px\">F#</div><div class=\"black-key\" style=\"left:189px\">G#</div><div class=\"black-key\" style=\"left:229px\">A#</div></div>"
      ],
      "text/plain": [
       "<IPython.core.display.HTML object>"
      ]
     },
     "execution_count": null,
     "metadata": {},
     "output_type": "execute_result"
    }
   ],
   "source": [
    "from musy.viz import Piano\n",
    "\n",
    "Piano().visualize_note(Note(\"C#\"))"
   ]
  },
  {
   "cell_type": "markdown",
   "metadata": {},
   "source": [
    "Here is an example of visualize a `Cmaj9/B` chord where we need multiple octaves."
   ]
  },
  {
   "cell_type": "code",
   "execution_count": null,
   "metadata": {},
   "outputs": [
    {
     "data": {
      "text/html": [
       "<style>\n",
       ".piano { background: #222; padding: 20px 0; position: relative; }\n",
       ".white-keys { display: flex; }\n",
       ".white-key, .black-key { text-align: center; font-family: Arial; position: relative; }\n",
       ".white-key { width: 40px; height: 125px; background: #fff; border: 1px solid #000; \n",
       "    color: #111; font-size: 18px; line-height: 200px; z-index: 1; }\n",
       ".black-key { width: 20px; height: 80px; background: #000; color: #fff; border: 1px solid #333;\n",
       "    position: absolute; z-index: 2; line-height: 100px; font-size: 14px; top: 20px; }\n",
       ".highlight { background: #ff0 !important; color: #000 !important; }\n",
       "</style><div class=\"piano\" style=\"width:840px\"><div class=\"white-keys\"><div class=\"white-key\">C</div><div class=\"white-key\">D</div><div class=\"white-key\">E</div><div class=\"white-key\">F</div><div class=\"white-key\">G</div><div class=\"white-key\">A</div><div class=\"white-key highlight\">B</div><div class=\"white-key\">C</div><div class=\"white-key\">D</div><div class=\"white-key highlight\">E</div><div class=\"white-key\">F</div><div class=\"white-key highlight\">G</div><div class=\"white-key\">A</div><div class=\"white-key\">B</div><div class=\"white-key highlight\">C</div><div class=\"white-key highlight\">D</div><div class=\"white-key\">E</div><div class=\"white-key\">F</div><div class=\"white-key\">G</div><div class=\"white-key\">A</div><div class=\"white-key\">B</div></div><div class=\"black-key\" style=\"left:29px\">C#</div><div class=\"black-key\" style=\"left:69px\">D#</div><div class=\"black-key\" style=\"left:149px\">F#</div><div class=\"black-key\" style=\"left:189px\">G#</div><div class=\"black-key\" style=\"left:229px\">A#</div><div class=\"black-key\" style=\"left:309px\">C#</div><div class=\"black-key\" style=\"left:349px\">D#</div><div class=\"black-key\" style=\"left:429px\">F#</div><div class=\"black-key\" style=\"left:469px\">G#</div><div class=\"black-key\" style=\"left:509px\">A#</div><div class=\"black-key\" style=\"left:589px\">C#</div><div class=\"black-key\" style=\"left:629px\">D#</div><div class=\"black-key\" style=\"left:709px\">F#</div><div class=\"black-key\" style=\"left:749px\">G#</div><div class=\"black-key\" style=\"left:789px\">A#</div></div>"
      ],
      "text/plain": [
       "<IPython.core.display.HTML object>"
      ]
     },
     "execution_count": null,
     "metadata": {},
     "output_type": "execute_result"
    }
   ],
   "source": [
    "cmaj9_over_b = Chord([Note(\"B\", 2), Note(\"C\", 4), Note(\"E\", 3), Note(\"G\", 3), Note(\"D\", 4)])\n",
    "Piano().visualize_chord(cmaj9_over_b)"
   ]
  },
  {
   "cell_type": "markdown",
   "metadata": {},
   "source": [
    "For scale visualization on `Piano` we show 2 octaves by default, but this can be controlled with the `octs` parameter."
   ]
  },
  {
   "cell_type": "code",
   "execution_count": null,
   "metadata": {},
   "outputs": [
    {
     "data": {
      "text/html": [
       "<style>\n",
       ".piano { background: #222; padding: 20px 0; position: relative; }\n",
       ".white-keys { display: flex; }\n",
       ".white-key, .black-key { text-align: center; font-family: Arial; position: relative; }\n",
       ".white-key { width: 40px; height: 125px; background: #fff; border: 1px solid #000; \n",
       "    color: #111; font-size: 18px; line-height: 200px; z-index: 1; }\n",
       ".black-key { width: 20px; height: 80px; background: #000; color: #fff; border: 1px solid #333;\n",
       "    position: absolute; z-index: 2; line-height: 100px; font-size: 14px; top: 20px; }\n",
       ".highlight { background: #ff0 !important; color: #000 !important; }\n",
       "</style><div class=\"piano\" style=\"width:840px\"><div class=\"white-keys\"><div class=\"white-key highlight\">C</div><div class=\"white-key\">D</div><div class=\"white-key highlight\">E</div><div class=\"white-key highlight\">F</div><div class=\"white-key highlight\">G</div><div class=\"white-key\">A</div><div class=\"white-key highlight\">B</div><div class=\"white-key highlight\">C</div><div class=\"white-key\">D</div><div class=\"white-key highlight\">E</div><div class=\"white-key highlight\">F</div><div class=\"white-key highlight\">G</div><div class=\"white-key\">A</div><div class=\"white-key highlight\">B</div><div class=\"white-key highlight\">C</div><div class=\"white-key\">D</div><div class=\"white-key highlight\">E</div><div class=\"white-key highlight\">F</div><div class=\"white-key highlight\">G</div><div class=\"white-key\">A</div><div class=\"white-key highlight\">B</div></div><div class=\"black-key highlight\" style=\"left:29px\">C#</div><div class=\"black-key\" style=\"left:69px\">D#</div><div class=\"black-key\" style=\"left:149px\">F#</div><div class=\"black-key highlight\" style=\"left:189px\">G#</div><div class=\"black-key\" style=\"left:229px\">A#</div><div class=\"black-key highlight\" style=\"left:309px\">C#</div><div class=\"black-key\" style=\"left:349px\">D#</div><div class=\"black-key\" style=\"left:429px\">F#</div><div class=\"black-key highlight\" style=\"left:469px\">G#</div><div class=\"black-key\" style=\"left:509px\">A#</div><div class=\"black-key highlight\" style=\"left:589px\">C#</div><div class=\"black-key\" style=\"left:629px\">D#</div><div class=\"black-key\" style=\"left:709px\">F#</div><div class=\"black-key highlight\" style=\"left:749px\">G#</div><div class=\"black-key\" style=\"left:789px\">A#</div></div>"
      ],
      "text/plain": [
       "<IPython.core.display.HTML object>"
      ]
     },
     "execution_count": null,
     "metadata": {},
     "output_type": "execute_result"
    }
   ],
   "source": [
    "Piano().visualize_scale(Scale(\"double harmonic major\"), root=\"C\", octs=3)"
   ]
  },
  {
   "cell_type": "markdown",
   "metadata": {},
   "source": [
    "## Guitar"
   ]
  },
  {
   "cell_type": "markdown",
   "metadata": {},
   "source": [
    "`visualize_note` shows you different option for a given note in a certain octave. Here a `C4`."
   ]
  },
  {
   "cell_type": "code",
   "execution_count": null,
   "metadata": {},
   "outputs": [
    {
     "data": {
      "text/html": [
       "<style>\n",
       ".guitar-fretboard { background: #c49e60; border-radius: 8px; padding: 8px; display: inline-block; }\n",
       ".guitar-fret-nums { display: flex; font-size: 12px; color: #333; margin-bottom: 2px; }\n",
       ".guitar-fret-num { width: 32px; text-align: center; font-weight: bold; border-right: 2.5px solid #888; }\n",
       ".guitar-dot { height: 6px; text-align: center; color: #444; font-size: 10px; }\n",
       ".guitar-row { display: flex; align-items: center; position: relative; }\n",
       ".guitar-string-name { width: 24px; text-align: right; margin-right: 0px; font-weight: bold; color: #444; }\n",
       ".guitar-cell, .guitar-note { width: 32px; height: 32px; display: flex; align-items: center; justify-content: center; border-right: 2.5px solid #888; position: relative; }\n",
       ".guitar-cell { border-bottom: 1.2px solid #bbb; background: none; }\n",
       ".guitar-note { background: rgba(255, 255, 0, 0.7); color: #222; \n",
       "</style><div class=\"guitar-fretboard\"><div class=\"guitar-fret-nums\"><div class=\"guitar-string-name\"></div><div class=\"guitar-fret-num\">0</div><div class=\"guitar-fret-num\">1</div><div class=\"guitar-fret-num\">2</div><div class=\"guitar-fret-num\">3</div><div class=\"guitar-fret-num\">4</div><div class=\"guitar-fret-num\">5</div><div class=\"guitar-fret-num\">6</div><div class=\"guitar-fret-num\">7</div><div class=\"guitar-fret-num\">8</div><div class=\"guitar-fret-num\">9</div><div class=\"guitar-fret-num\">10</div><div class=\"guitar-fret-num\">11</div><div class=\"guitar-fret-num\">12</div><div class=\"guitar-fret-num\">13</div><div class=\"guitar-fret-num\">14</div><div class=\"guitar-fret-num\">15</div><div class=\"guitar-fret-num\">16</div><div class=\"guitar-fret-num\">17</div><div class=\"guitar-fret-num\">18</div><div class=\"guitar-fret-num\">19</div><div class=\"guitar-fret-num\">20</div><div class=\"guitar-fret-num\">21</div><div class=\"guitar-fret-num\">22</div></div><div class=\"guitar-row\"><div class=\"guitar-string-name\">E</div><div class=\"guitar-cell\"></div><div class=\"guitar-cell\"></div><div class=\"guitar-cell\"></div><div class=\"guitar-cell\"></div><div class=\"guitar-cell\"></div><div class=\"guitar-cell\"></div><div class=\"guitar-cell\"></div><div class=\"guitar-cell\"></div><div class=\"guitar-cell\"></div><div class=\"guitar-cell\"></div><div class=\"guitar-cell\"></div><div class=\"guitar-cell\"></div><div class=\"guitar-cell\"></div><div class=\"guitar-cell\"></div><div class=\"guitar-cell\"></div><div class=\"guitar-cell\"></div><div class=\"guitar-cell\"></div><div class=\"guitar-cell\"></div><div class=\"guitar-cell\"></div><div class=\"guitar-cell\"></div><div class=\"guitar-cell\"></div><div class=\"guitar-cell\"></div><div class=\"guitar-cell\"></div></div><div class=\"guitar-row\"><div class=\"guitar-string-name\">B</div><div class=\"guitar-cell\"></div><div class=\"guitar-cell\"></div><div class=\"guitar-cell\"></div><div class=\"guitar-cell\"></div><div class=\"guitar-cell\"></div><div class=\"guitar-cell\"></div><div class=\"guitar-cell\"></div><div class=\"guitar-cell\"></div><div class=\"guitar-cell\"></div><div class=\"guitar-cell\"></div><div class=\"guitar-cell\"></div><div class=\"guitar-cell\"></div><div class=\"guitar-cell\"></div><div class=\"guitar-cell\"></div><div class=\"guitar-cell\"></div><div class=\"guitar-cell\"></div><div class=\"guitar-cell\"></div><div class=\"guitar-cell\"></div><div class=\"guitar-cell\"></div><div class=\"guitar-cell\"></div><div class=\"guitar-cell\"></div><div class=\"guitar-cell\"></div><div class=\"guitar-cell\"></div></div><div class=\"guitar-row\"><div class=\"guitar-string-name\">G</div><div class=\"guitar-cell\"></div><div class=\"guitar-cell\"></div><div class=\"guitar-cell\"></div><div class=\"guitar-cell\"></div><div class=\"guitar-cell\"></div><div class=\"guitar-cell\"></div><div class=\"guitar-cell\"></div><div class=\"guitar-cell\"></div><div class=\"guitar-cell\"></div><div class=\"guitar-cell\"></div><div class=\"guitar-cell\"></div><div class=\"guitar-cell\"></div><div class=\"guitar-cell\"></div><div class=\"guitar-cell\"></div><div class=\"guitar-cell\"></div><div class=\"guitar-cell\"></div><div class=\"guitar-cell\"></div><div class=\"guitar-cell\"></div><div class=\"guitar-cell\"></div><div class=\"guitar-cell\"></div><div class=\"guitar-cell\"></div><div class=\"guitar-cell\"></div><div class=\"guitar-cell\"></div></div><div class=\"guitar-row\"><div class=\"guitar-string-name\">D</div><div class=\"guitar-cell\"></div><div class=\"guitar-cell\"></div><div class=\"guitar-cell\"></div><div class=\"guitar-cell\"></div><div class=\"guitar-cell\"></div><div class=\"guitar-cell\"></div><div class=\"guitar-cell\"></div><div class=\"guitar-cell\"></div><div class=\"guitar-cell\"></div><div class=\"guitar-cell\"></div><div class=\"guitar-cell\"></div><div class=\"guitar-cell\"></div><div class=\"guitar-cell\"></div><div class=\"guitar-cell\"></div><div class=\"guitar-cell\"></div><div class=\"guitar-cell\"></div><div class=\"guitar-cell\"></div><div class=\"guitar-cell\"></div><div class=\"guitar-cell\"></div><div class=\"guitar-cell\"></div><div class=\"guitar-cell\"></div><div class=\"guitar-cell\"></div><div class=\"guitar-cell\"></div></div><div class=\"guitar-row\"><div class=\"guitar-string-name\">A</div><div class=\"guitar-cell\"></div><div class=\"guitar-cell\"></div><div class=\"guitar-cell\"></div><div class=\"guitar-note\">C</div><div class=\"guitar-cell\"></div><div class=\"guitar-cell\"></div><div class=\"guitar-cell\"></div><div class=\"guitar-cell\"></div><div class=\"guitar-cell\"></div><div class=\"guitar-cell\"></div><div class=\"guitar-cell\"></div><div class=\"guitar-cell\"></div><div class=\"guitar-cell\"></div><div class=\"guitar-cell\"></div><div class=\"guitar-cell\"></div><div class=\"guitar-cell\"></div><div class=\"guitar-cell\"></div><div class=\"guitar-cell\"></div><div class=\"guitar-cell\"></div><div class=\"guitar-cell\"></div><div class=\"guitar-cell\"></div><div class=\"guitar-cell\"></div><div class=\"guitar-cell\"></div></div><div class=\"guitar-row\"><div class=\"guitar-string-name\">E</div><div class=\"guitar-cell\"></div><div class=\"guitar-cell\"></div><div class=\"guitar-cell\"></div><div class=\"guitar-cell\"></div><div class=\"guitar-cell\"></div><div class=\"guitar-cell\"></div><div class=\"guitar-cell\"></div><div class=\"guitar-cell\"></div><div class=\"guitar-note\">C</div><div class=\"guitar-cell\"></div><div class=\"guitar-cell\"></div><div class=\"guitar-cell\"></div><div class=\"guitar-cell\"></div><div class=\"guitar-cell\"></div><div class=\"guitar-cell\"></div><div class=\"guitar-cell\"></div><div class=\"guitar-cell\"></div><div class=\"guitar-cell\"></div><div class=\"guitar-cell\"></div><div class=\"guitar-cell\"></div><div class=\"guitar-cell\"></div><div class=\"guitar-cell\"></div><div class=\"guitar-cell\"></div></div></div>"
      ],
      "text/plain": [
       "<IPython.core.display.HTML object>"
      ]
     },
     "execution_count": null,
     "metadata": {},
     "output_type": "execute_result"
    }
   ],
   "source": [
    "from musy.viz import Guitar\n",
    "\n",
    "Guitar().visualize_note(Note(\"C\", oct=4))"
   ]
  },
  {
   "cell_type": "markdown",
   "metadata": {},
   "source": [
    "`visualize_chord` shows you all the notes across octaves so you can spot different voicings."
   ]
  },
  {
   "cell_type": "code",
   "execution_count": null,
   "metadata": {},
   "outputs": [
    {
     "data": {
      "text/html": [
       "<style>\n",
       ".guitar-fretboard { background: #c49e60; border-radius: 8px; padding: 8px; display: inline-block; }\n",
       ".guitar-fret-nums { display: flex; font-size: 12px; color: #333; margin-bottom: 2px; }\n",
       ".guitar-fret-num { width: 32px; text-align: center; font-weight: bold; border-right: 2.5px solid #888; }\n",
       ".guitar-dot { height: 6px; text-align: center; color: #444; font-size: 10px; }\n",
       ".guitar-row { display: flex; align-items: center; position: relative; }\n",
       ".guitar-string-name { width: 24px; text-align: right; margin-right: 0px; font-weight: bold; color: #444; }\n",
       ".guitar-cell, .guitar-note { width: 32px; height: 32px; display: flex; align-items: center; justify-content: center; border-right: 2.5px solid #888; position: relative; }\n",
       ".guitar-cell { border-bottom: 1.2px solid #bbb; background: none; }\n",
       ".guitar-note { background: rgba(255, 255, 0, 0.7); color: #222; \n",
       "</style><div class=\"guitar-fretboard\"><div class=\"guitar-fret-nums\"><div class=\"guitar-string-name\"></div><div class=\"guitar-fret-num\">0</div><div class=\"guitar-fret-num\">1</div><div class=\"guitar-fret-num\">2</div><div class=\"guitar-fret-num\">3</div><div class=\"guitar-fret-num\">4</div><div class=\"guitar-fret-num\">5</div><div class=\"guitar-fret-num\">6</div><div class=\"guitar-fret-num\">7</div><div class=\"guitar-fret-num\">8</div><div class=\"guitar-fret-num\">9</div><div class=\"guitar-fret-num\">10</div><div class=\"guitar-fret-num\">11</div><div class=\"guitar-fret-num\">12</div><div class=\"guitar-fret-num\">13</div><div class=\"guitar-fret-num\">14</div><div class=\"guitar-fret-num\">15</div><div class=\"guitar-fret-num\">16</div><div class=\"guitar-fret-num\">17</div><div class=\"guitar-fret-num\">18</div><div class=\"guitar-fret-num\">19</div><div class=\"guitar-fret-num\">20</div><div class=\"guitar-fret-num\">21</div><div class=\"guitar-fret-num\">22</div></div><div class=\"guitar-row\"><div class=\"guitar-string-name\">E</div><div class=\"guitar-note\">E</div><div class=\"guitar-cell\"></div><div class=\"guitar-cell\"></div><div class=\"guitar-note\">G</div><div class=\"guitar-cell\"></div><div class=\"guitar-cell\"></div><div class=\"guitar-cell\"></div><div class=\"guitar-note\">B</div><div class=\"guitar-note\">C</div><div class=\"guitar-cell\"></div><div class=\"guitar-note\">D</div><div class=\"guitar-cell\"></div><div class=\"guitar-note\">E</div><div class=\"guitar-cell\"></div><div class=\"guitar-cell\"></div><div class=\"guitar-note\">G</div><div class=\"guitar-cell\"></div><div class=\"guitar-cell\"></div><div class=\"guitar-cell\"></div><div class=\"guitar-note\">B</div><div class=\"guitar-note\">C</div><div class=\"guitar-cell\"></div><div class=\"guitar-note\">D</div></div><div class=\"guitar-row\"><div class=\"guitar-string-name\">B</div><div class=\"guitar-note\">B</div><div class=\"guitar-note\">C</div><div class=\"guitar-cell\"></div><div class=\"guitar-note\">D</div><div class=\"guitar-cell\"></div><div class=\"guitar-note\">E</div><div class=\"guitar-cell\"></div><div class=\"guitar-cell\"></div><div class=\"guitar-note\">G</div><div class=\"guitar-cell\"></div><div class=\"guitar-cell\"></div><div class=\"guitar-cell\"></div><div class=\"guitar-note\">B</div><div class=\"guitar-note\">C</div><div class=\"guitar-cell\"></div><div class=\"guitar-note\">D</div><div class=\"guitar-cell\"></div><div class=\"guitar-note\">E</div><div class=\"guitar-cell\"></div><div class=\"guitar-cell\"></div><div class=\"guitar-note\">G</div><div class=\"guitar-cell\"></div><div class=\"guitar-cell\"></div></div><div class=\"guitar-row\"><div class=\"guitar-string-name\">G</div><div class=\"guitar-note\">G</div><div class=\"guitar-cell\"></div><div class=\"guitar-cell\"></div><div class=\"guitar-cell\"></div><div class=\"guitar-note\">B</div><div class=\"guitar-note\">C</div><div class=\"guitar-cell\"></div><div class=\"guitar-note\">D</div><div class=\"guitar-cell\"></div><div class=\"guitar-note\">E</div><div class=\"guitar-cell\"></div><div class=\"guitar-cell\"></div><div class=\"guitar-note\">G</div><div class=\"guitar-cell\"></div><div class=\"guitar-cell\"></div><div class=\"guitar-cell\"></div><div class=\"guitar-note\">B</div><div class=\"guitar-note\">C</div><div class=\"guitar-cell\"></div><div class=\"guitar-note\">D</div><div class=\"guitar-cell\"></div><div class=\"guitar-note\">E</div><div class=\"guitar-cell\"></div></div><div class=\"guitar-row\"><div class=\"guitar-string-name\">D</div><div class=\"guitar-note\">D</div><div class=\"guitar-cell\"></div><div class=\"guitar-note\">E</div><div class=\"guitar-cell\"></div><div class=\"guitar-cell\"></div><div class=\"guitar-note\">G</div><div class=\"guitar-cell\"></div><div class=\"guitar-cell\"></div><div class=\"guitar-cell\"></div><div class=\"guitar-note\">B</div><div class=\"guitar-note\">C</div><div class=\"guitar-cell\"></div><div class=\"guitar-note\">D</div><div class=\"guitar-cell\"></div><div class=\"guitar-note\">E</div><div class=\"guitar-cell\"></div><div class=\"guitar-cell\"></div><div class=\"guitar-note\">G</div><div class=\"guitar-cell\"></div><div class=\"guitar-cell\"></div><div class=\"guitar-cell\"></div><div class=\"guitar-note\">B</div><div class=\"guitar-note\">C</div></div><div class=\"guitar-row\"><div class=\"guitar-string-name\">A</div><div class=\"guitar-cell\"></div><div class=\"guitar-cell\"></div><div class=\"guitar-note\">B</div><div class=\"guitar-note\">C</div><div class=\"guitar-cell\"></div><div class=\"guitar-note\">D</div><div class=\"guitar-cell\"></div><div class=\"guitar-note\">E</div><div class=\"guitar-cell\"></div><div class=\"guitar-cell\"></div><div class=\"guitar-note\">G</div><div class=\"guitar-cell\"></div><div class=\"guitar-cell\"></div><div class=\"guitar-cell\"></div><div class=\"guitar-note\">B</div><div class=\"guitar-note\">C</div><div class=\"guitar-cell\"></div><div class=\"guitar-note\">D</div><div class=\"guitar-cell\"></div><div class=\"guitar-note\">E</div><div class=\"guitar-cell\"></div><div class=\"guitar-cell\"></div><div class=\"guitar-note\">G</div></div><div class=\"guitar-row\"><div class=\"guitar-string-name\">E</div><div class=\"guitar-note\">E</div><div class=\"guitar-cell\"></div><div class=\"guitar-cell\"></div><div class=\"guitar-note\">G</div><div class=\"guitar-cell\"></div><div class=\"guitar-cell\"></div><div class=\"guitar-cell\"></div><div class=\"guitar-note\">B</div><div class=\"guitar-note\">C</div><div class=\"guitar-cell\"></div><div class=\"guitar-note\">D</div><div class=\"guitar-cell\"></div><div class=\"guitar-note\">E</div><div class=\"guitar-cell\"></div><div class=\"guitar-cell\"></div><div class=\"guitar-note\">G</div><div class=\"guitar-cell\"></div><div class=\"guitar-cell\"></div><div class=\"guitar-cell\"></div><div class=\"guitar-note\">B</div><div class=\"guitar-note\">C</div><div class=\"guitar-cell\"></div><div class=\"guitar-note\">D</div></div></div>"
      ],
      "text/plain": [
       "<IPython.core.display.HTML object>"
      ]
     },
     "execution_count": null,
     "metadata": {},
     "output_type": "execute_result"
    }
   ],
   "source": [
    "Guitar().visualize_chord(Chord.from_short(\"Cmaj9\"))"
   ]
  },
  {
   "cell_type": "markdown",
   "metadata": {},
   "source": [
    "`visualize_scale` shows all note in the scale from a given root note."
   ]
  },
  {
   "cell_type": "code",
   "execution_count": null,
   "metadata": {},
   "outputs": [
    {
     "data": {
      "text/html": [
       "<style>\n",
       ".guitar-fretboard { background: #c49e60; border-radius: 8px; padding: 8px; display: inline-block; }\n",
       ".guitar-fret-nums { display: flex; font-size: 12px; color: #333; margin-bottom: 2px; }\n",
       ".guitar-fret-num { width: 32px; text-align: center; font-weight: bold; border-right: 2.5px solid #888; }\n",
       ".guitar-dot { height: 6px; text-align: center; color: #444; font-size: 10px; }\n",
       ".guitar-row { display: flex; align-items: center; position: relative; }\n",
       ".guitar-string-name { width: 24px; text-align: right; margin-right: 0px; font-weight: bold; color: #444; }\n",
       ".guitar-cell, .guitar-note { width: 32px; height: 32px; display: flex; align-items: center; justify-content: center; border-right: 2.5px solid #888; position: relative; }\n",
       ".guitar-cell { border-bottom: 1.2px solid #bbb; background: none; }\n",
       ".guitar-note { background: rgba(255, 255, 0, 0.7); color: #222; \n",
       "</style><div class=\"guitar-fretboard\"><div class=\"guitar-fret-nums\"><div class=\"guitar-string-name\"></div><div class=\"guitar-fret-num\">0</div><div class=\"guitar-fret-num\">1</div><div class=\"guitar-fret-num\">2</div><div class=\"guitar-fret-num\">3</div><div class=\"guitar-fret-num\">4</div><div class=\"guitar-fret-num\">5</div><div class=\"guitar-fret-num\">6</div><div class=\"guitar-fret-num\">7</div><div class=\"guitar-fret-num\">8</div><div class=\"guitar-fret-num\">9</div><div class=\"guitar-fret-num\">10</div><div class=\"guitar-fret-num\">11</div><div class=\"guitar-fret-num\">12</div><div class=\"guitar-fret-num\">13</div><div class=\"guitar-fret-num\">14</div><div class=\"guitar-fret-num\">15</div><div class=\"guitar-fret-num\">16</div><div class=\"guitar-fret-num\">17</div><div class=\"guitar-fret-num\">18</div><div class=\"guitar-fret-num\">19</div><div class=\"guitar-fret-num\">20</div><div class=\"guitar-fret-num\">21</div><div class=\"guitar-fret-num\">22</div></div><div class=\"guitar-row\"><div class=\"guitar-string-name\">E</div><div class=\"guitar-note\">E</div><div class=\"guitar-note\">F</div><div class=\"guitar-cell\"></div><div class=\"guitar-note\">G</div><div class=\"guitar-note\">G#</div><div class=\"guitar-cell\"></div><div class=\"guitar-note\">A#</div><div class=\"guitar-cell\"></div><div class=\"guitar-note\">C</div><div class=\"guitar-note\">C#</div><div class=\"guitar-cell\"></div><div class=\"guitar-cell\"></div><div class=\"guitar-note\">E</div><div class=\"guitar-note\">F</div><div class=\"guitar-cell\"></div><div class=\"guitar-note\">G</div><div class=\"guitar-note\">G#</div><div class=\"guitar-cell\"></div><div class=\"guitar-note\">A#</div><div class=\"guitar-cell\"></div><div class=\"guitar-note\">C</div><div class=\"guitar-note\">C#</div><div class=\"guitar-cell\"></div></div><div class=\"guitar-row\"><div class=\"guitar-string-name\">B</div><div class=\"guitar-cell\"></div><div class=\"guitar-note\">C</div><div class=\"guitar-note\">C#</div><div class=\"guitar-cell\"></div><div class=\"guitar-cell\"></div><div class=\"guitar-note\">E</div><div class=\"guitar-note\">F</div><div class=\"guitar-cell\"></div><div class=\"guitar-note\">G</div><div class=\"guitar-note\">G#</div><div class=\"guitar-cell\"></div><div class=\"guitar-note\">A#</div><div class=\"guitar-cell\"></div><div class=\"guitar-note\">C</div><div class=\"guitar-note\">C#</div><div class=\"guitar-cell\"></div><div class=\"guitar-cell\"></div><div class=\"guitar-note\">E</div><div class=\"guitar-note\">F</div><div class=\"guitar-cell\"></div><div class=\"guitar-note\">G</div><div class=\"guitar-note\">G#</div><div class=\"guitar-cell\"></div></div><div class=\"guitar-row\"><div class=\"guitar-string-name\">G</div><div class=\"guitar-note\">G</div><div class=\"guitar-note\">G#</div><div class=\"guitar-cell\"></div><div class=\"guitar-note\">A#</div><div class=\"guitar-cell\"></div><div class=\"guitar-note\">C</div><div class=\"guitar-note\">C#</div><div class=\"guitar-cell\"></div><div class=\"guitar-cell\"></div><div class=\"guitar-note\">E</div><div class=\"guitar-note\">F</div><div class=\"guitar-cell\"></div><div class=\"guitar-note\">G</div><div class=\"guitar-note\">G#</div><div class=\"guitar-cell\"></div><div class=\"guitar-note\">A#</div><div class=\"guitar-cell\"></div><div class=\"guitar-note\">C</div><div class=\"guitar-note\">C#</div><div class=\"guitar-cell\"></div><div class=\"guitar-cell\"></div><div class=\"guitar-note\">E</div><div class=\"guitar-note\">F</div></div><div class=\"guitar-row\"><div class=\"guitar-string-name\">D</div><div class=\"guitar-cell\"></div><div class=\"guitar-cell\"></div><div class=\"guitar-note\">E</div><div class=\"guitar-note\">F</div><div class=\"guitar-cell\"></div><div class=\"guitar-note\">G</div><div class=\"guitar-note\">G#</div><div class=\"guitar-cell\"></div><div class=\"guitar-note\">A#</div><div class=\"guitar-cell\"></div><div class=\"guitar-note\">C</div><div class=\"guitar-note\">C#</div><div class=\"guitar-cell\"></div><div class=\"guitar-cell\"></div><div class=\"guitar-note\">E</div><div class=\"guitar-note\">F</div><div class=\"guitar-cell\"></div><div class=\"guitar-note\">G</div><div class=\"guitar-note\">G#</div><div class=\"guitar-cell\"></div><div class=\"guitar-note\">A#</div><div class=\"guitar-cell\"></div><div class=\"guitar-note\">C</div></div><div class=\"guitar-row\"><div class=\"guitar-string-name\">A</div><div class=\"guitar-cell\"></div><div class=\"guitar-note\">A#</div><div class=\"guitar-cell\"></div><div class=\"guitar-note\">C</div><div class=\"guitar-note\">C#</div><div class=\"guitar-cell\"></div><div class=\"guitar-cell\"></div><div class=\"guitar-note\">E</div><div class=\"guitar-note\">F</div><div class=\"guitar-cell\"></div><div class=\"guitar-note\">G</div><div class=\"guitar-note\">G#</div><div class=\"guitar-cell\"></div><div class=\"guitar-note\">A#</div><div class=\"guitar-cell\"></div><div class=\"guitar-note\">C</div><div class=\"guitar-note\">C#</div><div class=\"guitar-cell\"></div><div class=\"guitar-cell\"></div><div class=\"guitar-note\">E</div><div class=\"guitar-note\">F</div><div class=\"guitar-cell\"></div><div class=\"guitar-note\">G</div></div><div class=\"guitar-row\"><div class=\"guitar-string-name\">E</div><div class=\"guitar-note\">E</div><div class=\"guitar-note\">F</div><div class=\"guitar-cell\"></div><div class=\"guitar-note\">G</div><div class=\"guitar-note\">G#</div><div class=\"guitar-cell\"></div><div class=\"guitar-note\">A#</div><div class=\"guitar-cell\"></div><div class=\"guitar-note\">C</div><div class=\"guitar-note\">C#</div><div class=\"guitar-cell\"></div><div class=\"guitar-cell\"></div><div class=\"guitar-note\">E</div><div class=\"guitar-note\">F</div><div class=\"guitar-cell\"></div><div class=\"guitar-note\">G</div><div class=\"guitar-note\">G#</div><div class=\"guitar-cell\"></div><div class=\"guitar-note\">A#</div><div class=\"guitar-cell\"></div><div class=\"guitar-note\">C</div><div class=\"guitar-note\">C#</div><div class=\"guitar-cell\"></div></div></div>"
      ],
      "text/plain": [
       "<IPython.core.display.HTML object>"
      ]
     },
     "execution_count": null,
     "metadata": {},
     "output_type": "execute_result"
    }
   ],
   "source": [
    "Guitar().visualize_scale(Scale(\"phrygian dominant\"), root=\"C\")"
   ]
  },
  {
   "cell_type": "markdown",
   "metadata": {},
   "source": [
    "----------------------------------"
   ]
  }
 ],
 "metadata": {
  "kernelspec": {
   "display_name": "python3",
   "language": "python",
   "name": "python3"
  }
 },
 "nbformat": 4,
 "nbformat_minor": 4
}
