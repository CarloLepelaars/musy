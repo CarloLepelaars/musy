{
 "cells": [
  {
   "cell_type": "code",
   "execution_count": null,
   "metadata": {},
   "outputs": [],
   "source": [
    "#| hide\n",
    "from musy.core import *"
   ]
  },
  {
   "cell_type": "markdown",
   "metadata": {},
   "source": [
    "# musy\n",
    "\n",
    "> Python toolbox for analyzing, creating and visualizing music."
   ]
  },
  {
   "cell_type": "markdown",
   "metadata": {},
   "source": [
    "# Installation"
   ]
  },
  {
   "cell_type": "markdown",
   "metadata": {},
   "source": [
    "```sh\n",
    "pip install musy\n",
    "```"
   ]
  },
  {
   "cell_type": "markdown",
   "metadata": {},
   "source": [
    "# How to use"
   ]
  },
  {
   "cell_type": "markdown",
   "metadata": {},
   "source": [
    "## Note"
   ]
  },
  {
   "cell_type": "code",
   "execution_count": null,
   "metadata": {},
   "outputs": [],
   "source": [
    "from musy import Note, Chord, Scale"
   ]
  },
  {
   "cell_type": "markdown",
   "metadata": {},
   "source": [
    "The `Note` is the basic building block from which you can create chords and songs. "
   ]
  },
  {
   "cell_type": "code",
   "execution_count": null,
   "metadata": {},
   "outputs": [
    {
     "data": {
      "text/plain": [
       "musy.core.Note(note='C#', oct=4)"
      ]
     },
     "execution_count": null,
     "metadata": {},
     "output_type": "execute_result"
    }
   ],
   "source": [
    "c_sharp = Note(\"C#\")\n",
    "c_sharp"
   ]
  },
  {
   "cell_type": "markdown",
   "metadata": {},
   "source": [
    "Notes can be added and subtracted to form new notes. Each added integer represents a semitone."
   ]
  },
  {
   "cell_type": "code",
   "execution_count": null,
   "metadata": {},
   "outputs": [
    {
     "data": {
      "text/plain": [
       "musy.core.Note(note='D', oct=4)"
      ]
     },
     "execution_count": null,
     "metadata": {},
     "output_type": "execute_result"
    }
   ],
   "source": [
    "c_sharp + 1"
   ]
  },
  {
   "cell_type": "code",
   "execution_count": null,
   "metadata": {},
   "outputs": [
    {
     "data": {
      "text/plain": [
       "musy.core.Note(note='C', oct=4)"
      ]
     },
     "execution_count": null,
     "metadata": {},
     "output_type": "execute_result"
    }
   ],
   "source": [
    "c_sharp - 1"
   ]
  },
  {
   "cell_type": "code",
   "execution_count": null,
   "metadata": {},
   "outputs": [
    {
     "data": {
      "text/plain": [
       "musy.core.Note(note='D#', oct=5)"
      ]
     },
     "execution_count": null,
     "metadata": {},
     "output_type": "execute_result"
    }
   ],
   "source": [
    "c_sharp + 14"
   ]
  },
  {
   "cell_type": "markdown",
   "metadata": {},
   "source": [
    "Intervals can be obtained by comparing a note with a different note or string."
   ]
  },
  {
   "cell_type": "code",
   "execution_count": null,
   "metadata": {},
   "outputs": [
    {
     "data": {
      "text/plain": [
       "'perfect fourth'"
      ]
     },
     "execution_count": null,
     "metadata": {},
     "output_type": "execute_result"
    }
   ],
   "source": [
    "c_sharp.interval(\"F#\")"
   ]
  },
  {
   "cell_type": "markdown",
   "metadata": {},
   "source": [
    "Shorthand is also available for intervals."
   ]
  },
  {
   "cell_type": "code",
   "execution_count": null,
   "metadata": {},
   "outputs": [
    {
     "data": {
      "text/plain": [
       "'b7'"
      ]
     },
     "execution_count": null,
     "metadata": {},
     "output_type": "execute_result"
    }
   ],
   "source": [
    "c_sharp.interval(\"B\", short=True)"
   ]
  },
  {
   "cell_type": "markdown",
   "metadata": {},
   "source": [
    "Notes can be converted to its relative major or minor."
   ]
  },
  {
   "cell_type": "code",
   "execution_count": null,
   "metadata": {},
   "outputs": [
    {
     "data": {
      "text/plain": [
       "musy.core.Note(note='A', oct=4)"
      ]
     },
     "execution_count": null,
     "metadata": {},
     "output_type": "execute_result"
    }
   ],
   "source": [
    "Note(\"C\").minor()"
   ]
  },
  {
   "cell_type": "code",
   "execution_count": null,
   "metadata": {},
   "outputs": [
    {
     "data": {
      "text/plain": [
       "musy.core.Note(note='E', oct=4)"
      ]
     },
     "execution_count": null,
     "metadata": {},
     "output_type": "execute_result"
    }
   ],
   "source": [
    "Note(\"C#\").major()"
   ]
  },
  {
   "cell_type": "markdown",
   "metadata": {},
   "source": [
    "# Chord"
   ]
  },
  {
   "cell_type": "markdown",
   "metadata": {},
   "source": [
    "The `Chord` is a collection of `Note` objects played together."
   ]
  },
  {
   "cell_type": "code",
   "execution_count": null,
   "metadata": {},
   "outputs": [
    {
     "data": {
      "text/plain": [
       "Chord: 'C major triad'. Notes: ['C4', 'E4', 'G4']"
      ]
     },
     "execution_count": null,
     "metadata": {},
     "output_type": "execute_result"
    }
   ],
   "source": [
    "c_major = Chord([\"C\", \"E\", \"G\"])\n",
    "c_major"
   ]
  },
  {
   "cell_type": "markdown",
   "metadata": {},
   "source": [
    "`Chord` objects can be initialized from shorthand notation."
   ]
  },
  {
   "cell_type": "code",
   "execution_count": null,
   "metadata": {},
   "outputs": [
    {
     "data": {
      "text/plain": [
       "Chord: 'C major seventh'. Notes: ['C4', 'E4', 'G4', 'B4']"
      ]
     },
     "execution_count": null,
     "metadata": {},
     "output_type": "execute_result"
    }
   ],
   "source": [
    "cmaj7 = Chord.from_short(\"Cmaj7\")\n",
    "cmaj7"
   ]
  },
  {
   "cell_type": "markdown",
   "metadata": {},
   "source": [
    "Chords can also be inverted with `invert`."
   ]
  },
  {
   "cell_type": "code",
   "execution_count": null,
   "metadata": {},
   "outputs": [
    {
     "data": {
      "text/plain": [
       "Chord: 'C major seventh, first inversion'. Notes: ['E4', 'G4', 'B4', 'C5']"
      ]
     },
     "execution_count": null,
     "metadata": {},
     "output_type": "execute_result"
    }
   ],
   "source": [
    "cmaj7.invert(1)"
   ]
  },
  {
   "cell_type": "markdown",
   "metadata": {},
   "source": [
    "Like `Note` objects, `Chord` objects can be added and subtracted to transpose them."
   ]
  },
  {
   "cell_type": "code",
   "execution_count": null,
   "metadata": {},
   "outputs": [
    {
     "data": {
      "text/plain": [
       "Chord: 'D major seventh'. Notes: ['D4', 'F#4', 'A4', 'C#5']"
      ]
     },
     "execution_count": null,
     "metadata": {},
     "output_type": "execute_result"
    }
   ],
   "source": [
    "cmaj7 + 2"
   ]
  },
  {
   "cell_type": "markdown",
   "metadata": {},
   "source": [
    "Notes can be multiplied to create chords."
   ]
  },
  {
   "cell_type": "code",
   "execution_count": null,
   "metadata": {},
   "outputs": [
    {
     "data": {
      "text/plain": [
       "Chord: 'C major triad'. Notes: ['C4', 'E4', 'G4']"
      ]
     },
     "execution_count": null,
     "metadata": {},
     "output_type": "execute_result"
    }
   ],
   "source": [
    "Note(\"C\") * Note(\"E\") * Note(\"G\")"
   ]
  },
  {
   "cell_type": "markdown",
   "metadata": {},
   "source": [
    "For advanced usage there is even a way to create `PolyChord` objects, which have much of the same functionality as `Chord` objects and more."
   ]
  },
  {
   "cell_type": "code",
   "execution_count": null,
   "metadata": {},
   "outputs": [
    {
     "data": {
      "text/plain": [
       "PolyChord: 'C major triad|Bb major seventh, third inversion'. Notes: ['C4', 'E4', 'G4', 'A4', 'Bb5', 'D5', 'F5']"
      ]
     },
     "execution_count": null,
     "metadata": {},
     "output_type": "execute_result"
    }
   ],
   "source": [
    "Chord.from_short(\"C\") % Chord.from_short(\"Bbmaj7\").invert(3)"
   ]
  },
  {
   "cell_type": "markdown",
   "metadata": {},
   "source": [
    "# Scale\n",
    "\n",
    "`Scale` objects are collections of intervals from which we can generate notes and chords around a root note."
   ]
  },
  {
   "cell_type": "code",
   "execution_count": null,
   "metadata": {},
   "outputs": [
    {
     "data": {
      "text/plain": [
       "Scale: Dorian. Intervals: ['1', '2', 'b3', '4', '5', '6', 'b7']"
      ]
     },
     "execution_count": null,
     "metadata": {},
     "output_type": "execute_result"
    }
   ],
   "source": [
    "dorian = Scale(\"dorian\")\n",
    "dorian"
   ]
  },
  {
   "cell_type": "markdown",
   "metadata": {},
   "source": [
    "When given a root note, `Scale` generates the notes of the scale."
   ]
  },
  {
   "cell_type": "code",
   "execution_count": null,
   "metadata": {},
   "outputs": [
    {
     "data": {
      "text/plain": [
       "[musy.core.Note(note='C', oct=4),\n",
       " musy.core.Note(note='D', oct=4),\n",
       " musy.core.Note(note='Eb', oct=4),\n",
       " musy.core.Note(note='F', oct=4),\n",
       " musy.core.Note(note='G', oct=4),\n",
       " musy.core.Note(note='A', oct=4),\n",
       " musy.core.Note(note='Bb', oct=4)]"
      ]
     },
     "execution_count": null,
     "metadata": {},
     "output_type": "execute_result"
    }
   ],
   "source": [
    "dorian.get_notes(\"C\")"
   ]
  },
  {
   "cell_type": "markdown",
   "metadata": {},
   "source": [
    "Intervals can be obtained."
   ]
  },
  {
   "cell_type": "code",
   "execution_count": null,
   "metadata": {},
   "outputs": [
    {
     "data": {
      "text/plain": [
       "['unison',\n",
       " 'major second',\n",
       " 'minor third',\n",
       " 'perfect fourth',\n",
       " 'perfect fifth',\n",
       " 'major sixth',\n",
       " 'minor seventh']"
      ]
     },
     "execution_count": null,
     "metadata": {},
     "output_type": "execute_result"
    }
   ],
   "source": [
    "dorian.get_interval_names()"
   ]
  },
  {
   "cell_type": "markdown",
   "metadata": {},
   "source": [
    "Triads and seventh chords in the scale can be generated around a root note."
   ]
  },
  {
   "cell_type": "code",
   "execution_count": null,
   "metadata": {},
   "outputs": [
    {
     "data": {
      "text/plain": [
       "[Chord: 'D minor triad'. Notes: ['D4', 'F4', 'A4'],\n",
       " Chord: 'E minor triad'. Notes: ['E4', 'G4', 'B4'],\n",
       " Chord: 'F major triad'. Notes: ['F4', 'A4', 'C4'],\n",
       " Chord: 'G major triad'. Notes: ['G4', 'B4', 'D5'],\n",
       " Chord: 'A minor triad'. Notes: ['A4', 'C4', 'E5'],\n",
       " Chord: 'B diminished triad'. Notes: ['B4', 'D5', 'F5'],\n",
       " Chord: 'C major triad'. Notes: ['C5', 'E6', 'G6']]"
      ]
     },
     "execution_count": null,
     "metadata": {},
     "output_type": "execute_result"
    }
   ],
   "source": [
    "dorian.get_triads(\"D\")"
   ]
  },
  {
   "cell_type": "code",
   "execution_count": null,
   "metadata": {},
   "outputs": [
    {
     "data": {
      "text/plain": [
       "[Chord: 'E minor seventh'. Notes: ['E4', 'G4', 'B4', 'D4'],\n",
       " Chord: 'F# minor seventh'. Notes: ['F#4', 'A4', 'C#4', 'E5'],\n",
       " Chord: 'G major seventh'. Notes: ['G4', 'B4', 'D4', 'F#5'],\n",
       " Chord: 'A dominant seventh'. Notes: ['A4', 'C#4', 'E5', 'G5'],\n",
       " Chord: 'B minor seventh'. Notes: ['B4', 'D4', 'F#5', 'A5'],\n",
       " Chord: 'C# half diminished seventh'. Notes: ['C#5', 'E6', 'G6', 'B6'],\n",
       " Chord: 'D major seventh'. Notes: ['D5', 'F#6', 'A6', 'C#6']]"
      ]
     },
     "execution_count": null,
     "metadata": {},
     "output_type": "execute_result"
    }
   ],
   "source": [
    "dorian.get_sevenths(\"E\")"
   ]
  },
  {
   "cell_type": "markdown",
   "metadata": {},
   "source": [
    "Consult `Scale.available_scales` for a list of available scales. If a scale is not available, you can create your own scale from intervals."
   ]
  },
  {
   "cell_type": "code",
   "execution_count": null,
   "metadata": {},
   "outputs": [
    {
     "data": {
      "text/plain": [
       "Scale: Persian. Intervals: ['1', 'b2', '3', '4', 'b5', 'b6', '7']"
      ]
     },
     "execution_count": null,
     "metadata": {},
     "output_type": "execute_result"
    }
   ],
   "source": [
    "persian = Scale.from_intervals(\"persian\", [\"1\", \"b2\", \"3\", \"4\", \"b5\", \"b6\", \"7\"])\n",
    "persian"
   ]
  },
  {
   "cell_type": "code",
   "execution_count": null,
   "metadata": {},
   "outputs": [
    {
     "data": {
      "text/plain": [
       "[musy.core.Note(note='C', oct=4),\n",
       " musy.core.Note(note='Db', oct=4),\n",
       " musy.core.Note(note='E', oct=4),\n",
       " musy.core.Note(note='F', oct=4),\n",
       " musy.core.Note(note='F#', oct=4),\n",
       " musy.core.Note(note='Ab', oct=4),\n",
       " musy.core.Note(note='B', oct=4)]"
      ]
     },
     "execution_count": null,
     "metadata": {},
     "output_type": "execute_result"
    }
   ],
   "source": [
    "persian.get_notes(\"C\")"
   ]
  },
  {
   "cell_type": "markdown",
   "metadata": {},
   "source": [
    "`Note`, `Chord`, `PolyChord` and `Scale` objects can all be heard by calling the `play` method on them."
   ]
  },
  {
   "cell_type": "markdown",
   "metadata": {},
   "source": [
    "# Visualization\n",
    "\n",
    "`musy` objects can be visualized on a piano or guitar by providing a list of `Note` objects to the rendering method. Notes can easily be retrieved from `Chord` and `Scale` objects."
   ]
  },
  {
   "cell_type": "code",
   "execution_count": null,
   "metadata": {},
   "outputs": [
    {
     "data": {
      "text/html": [
       "\n",
       "    <style>\n",
       "    .piano { background: #222; padding: 20px 0; position: relative; width: 480px; }\n",
       "    .white-keys { display: flex; }\n",
       "    .white-key {\n",
       "        width: 40px; height: 125px; background: #fff;\n",
       "        border: 1px solid #000;\n",
       "        color: #111; font-size: 18px; text-align: center; line-height: 200px; font-family: Arial;\n",
       "        position: relative; z-index: 1;\n",
       "    }\n",
       "    .black-key {\n",
       "        width: 20px; height: 80px; background: #000; color: #fff;\n",
       "        border: 1px solid #333; position: absolute; z-index: 2;\n",
       "        text-align: center; line-height: 100px; font-family: Arial; font-size: 14px;\n",
       "        left: 0; top: 20px; pointer-events: none;\n",
       "    }\n",
       "    .highlight { background: #ff0 !important; color: #000 !important; }\n",
       "    .highlight-black { background: #ff0 !important; color: #000 !important; }\n",
       "    </style>\n",
       "    <div class=\"piano\" style=\"width:440px\"><div class=\"white-keys\"><div class=\"white-key\">C</div><div class=\"white-key\">D</div><div class=\"white-key\">E</div><div class=\"white-key\">F</div><div class=\"white-key\">G</div><div class=\"white-key\">A</div><div class=\"white-key\">B</div><div class=\"white-key\">C</div><div class=\"white-key\">D</div><div class=\"white-key\">E</div><div class=\"white-key\">F</div><div class=\"black-key highlight-black\" style=\"left:26px\">C#</div><div class=\"black-key\" style=\"left:66px\">D#</div><div class=\"black-key\" style=\"left:146px\">F#</div><div class=\"black-key\" style=\"left:186px\">G#</div><div class=\"black-key\" style=\"left:226px\">A#</div><div class=\"black-key highlight-black\" style=\"left:306px\">C#</div><div class=\"black-key\" style=\"left:346px\">D#</div><div class=\"black-key\" style=\"left:426px\">F#</div></div>"
      ],
      "text/plain": [
       "<IPython.core.display.HTML object>"
      ]
     },
     "execution_count": null,
     "metadata": {},
     "output_type": "execute_result"
    }
   ],
   "source": [
    "from musy import Piano, Guitar\n",
    "\n",
    "Piano()(Note(\"C#\"))"
   ]
  },
  {
   "cell_type": "code",
   "execution_count": null,
   "metadata": {},
   "outputs": [
    {
     "data": {
      "text/html": [
       "\n",
       "    <style>\n",
       "    .piano { background: #222; padding: 20px 0; position: relative; width: 480px; }\n",
       "    .white-keys { display: flex; }\n",
       "    .white-key {\n",
       "        width: 40px; height: 125px; background: #fff;\n",
       "        border: 1px solid #000;\n",
       "        color: #111; font-size: 18px; text-align: center; line-height: 200px; font-family: Arial;\n",
       "        position: relative; z-index: 1;\n",
       "    }\n",
       "    .black-key {\n",
       "        width: 20px; height: 80px; background: #000; color: #fff;\n",
       "        border: 1px solid #333; position: absolute; z-index: 2;\n",
       "        text-align: center; line-height: 100px; font-family: Arial; font-size: 14px;\n",
       "        left: 0; top: 20px; pointer-events: none;\n",
       "    }\n",
       "    .highlight { background: #ff0 !important; color: #000 !important; }\n",
       "    .highlight-black { background: #ff0 !important; color: #000 !important; }\n",
       "    </style>\n",
       "    <div class=\"piano\" style=\"width:440px\"><div class=\"white-keys\"><div class=\"white-key highlight\">C</div><div class=\"white-key\">D</div><div class=\"white-key highlight\">E</div><div class=\"white-key\">F</div><div class=\"white-key highlight\">G</div><div class=\"white-key\">A</div><div class=\"white-key highlight\">B</div><div class=\"white-key highlight\">C</div><div class=\"white-key\">D</div><div class=\"white-key highlight\">E</div><div class=\"white-key\">F</div><div class=\"black-key\" style=\"left:26px\">C#</div><div class=\"black-key\" style=\"left:66px\">D#</div><div class=\"black-key\" style=\"left:146px\">F#</div><div class=\"black-key\" style=\"left:186px\">G#</div><div class=\"black-key\" style=\"left:226px\">A#</div><div class=\"black-key\" style=\"left:306px\">C#</div><div class=\"black-key\" style=\"left:346px\">D#</div><div class=\"black-key\" style=\"left:426px\">F#</div></div>"
      ],
      "text/plain": [
       "<IPython.core.display.HTML object>"
      ]
     },
     "execution_count": null,
     "metadata": {},
     "output_type": "execute_result"
    }
   ],
   "source": [
    "Piano()(list(Chord.from_short(\"Cmaj7\")))"
   ]
  },
  {
   "cell_type": "code",
   "execution_count": null,
   "metadata": {},
   "outputs": [
    {
     "data": {
      "text/html": [
       "\n",
       "    <style>\n",
       "    .piano { background: #222; padding: 20px 0; position: relative; width: 480px; }\n",
       "    .white-keys { display: flex; }\n",
       "    .white-key {\n",
       "        width: 40px; height: 125px; background: #fff;\n",
       "        border: 1px solid #000;\n",
       "        color: #111; font-size: 18px; text-align: center; line-height: 200px; font-family: Arial;\n",
       "        position: relative; z-index: 1;\n",
       "    }\n",
       "    .black-key {\n",
       "        width: 20px; height: 80px; background: #000; color: #fff;\n",
       "        border: 1px solid #333; position: absolute; z-index: 2;\n",
       "        text-align: center; line-height: 100px; font-family: Arial; font-size: 14px;\n",
       "        left: 0; top: 20px; pointer-events: none;\n",
       "    }\n",
       "    .highlight { background: #ff0 !important; color: #000 !important; }\n",
       "    .highlight-black { background: #ff0 !important; color: #000 !important; }\n",
       "    </style>\n",
       "    <div class=\"piano\" style=\"width:440px\"><div class=\"white-keys\"><div class=\"white-key\">C</div><div class=\"white-key highlight\">D</div><div class=\"white-key highlight\">E</div><div class=\"white-key\">F</div><div class=\"white-key highlight\">G</div><div class=\"white-key highlight\">A</div><div class=\"white-key highlight\">B</div><div class=\"white-key\">C</div><div class=\"white-key highlight\">D</div><div class=\"white-key highlight\">E</div><div class=\"white-key\">F</div><div class=\"black-key highlight-black\" style=\"left:26px\">C#</div><div class=\"black-key\" style=\"left:66px\">D#</div><div class=\"black-key highlight-black\" style=\"left:146px\">F#</div><div class=\"black-key\" style=\"left:186px\">G#</div><div class=\"black-key\" style=\"left:226px\">A#</div><div class=\"black-key highlight-black\" style=\"left:306px\">C#</div><div class=\"black-key\" style=\"left:346px\">D#</div><div class=\"black-key highlight-black\" style=\"left:426px\">F#</div></div>"
      ],
      "text/plain": [
       "<IPython.core.display.HTML object>"
      ]
     },
     "execution_count": null,
     "metadata": {},
     "output_type": "execute_result"
    }
   ],
   "source": [
    "Piano()(Scale(\"major\").get_notes(\"D\"))"
   ]
  },
  {
   "cell_type": "code",
   "execution_count": null,
   "metadata": {},
   "outputs": [
    {
     "data": {
      "text/html": [
       "\n",
       "    <style>\n",
       "    .piano { background: #222; padding: 20px 0; position: relative; width: 480px; }\n",
       "    .white-keys { display: flex; }\n",
       "    .white-key {\n",
       "        width: 40px; height: 125px; background: #fff;\n",
       "        border: 1px solid #000;\n",
       "        color: #111; font-size: 18px; text-align: center; line-height: 200px; font-family: Arial;\n",
       "        position: relative; z-index: 1;\n",
       "    }\n",
       "    .black-key {\n",
       "        width: 20px; height: 80px; background: #000; color: #fff;\n",
       "        border: 1px solid #333; position: absolute; z-index: 2;\n",
       "        text-align: center; line-height: 100px; font-family: Arial; font-size: 14px;\n",
       "        left: 0; top: 20px; pointer-events: none;\n",
       "    }\n",
       "    .highlight { background: #ff0 !important; color: #000 !important; }\n",
       "    .highlight-black { background: #ff0 !important; color: #000 !important; }\n",
       "    </style>\n",
       "    <div class=\"piano\" style=\"width:440px\"><div class=\"white-keys\"><div class=\"white-key highlight\">C</div><div class=\"white-key highlight\">D</div><div class=\"white-key\">E</div><div class=\"white-key\">F</div><div class=\"white-key highlight\">G</div><div class=\"white-key highlight\">A</div><div class=\"white-key\">B</div><div class=\"white-key highlight\">C</div><div class=\"white-key highlight\">D</div><div class=\"white-key\">E</div><div class=\"white-key\">F</div><div class=\"black-key\" style=\"left:26px\">C#</div><div class=\"black-key highlight-black\" style=\"left:66px\">D#</div><div class=\"black-key highlight-black\" style=\"left:146px\">F#</div><div class=\"black-key\" style=\"left:186px\">G#</div><div class=\"black-key highlight-black\" style=\"left:226px\">A#</div><div class=\"black-key\" style=\"left:306px\">C#</div><div class=\"black-key highlight-black\" style=\"left:346px\">D#</div><div class=\"black-key highlight-black\" style=\"left:426px\">F#</div></div>"
      ],
      "text/plain": [
       "<IPython.core.display.HTML object>"
      ]
     },
     "execution_count": null,
     "metadata": {},
     "output_type": "execute_result"
    }
   ],
   "source": [
    "Piano()(Scale(\"phrygian dominant\").get_notes(\"D\"))"
   ]
  },
  {
   "cell_type": "code",
   "execution_count": null,
   "metadata": {},
   "outputs": [
    {
     "data": {
      "text/html": [
       "\n",
       "    <style>\n",
       "    .piano { background: #222; padding: 20px 0; position: relative; width: 480px; }\n",
       "    .white-keys { display: flex; }\n",
       "    .white-key {\n",
       "        width: 40px; height: 125px; background: #fff;\n",
       "        border: 1px solid #000;\n",
       "        color: #111; font-size: 18px; text-align: center; line-height: 200px; font-family: Arial;\n",
       "        position: relative; z-index: 1;\n",
       "    }\n",
       "    .black-key {\n",
       "        width: 20px; height: 80px; background: #000; color: #fff;\n",
       "        border: 1px solid #333; position: absolute; z-index: 2;\n",
       "        text-align: center; line-height: 100px; font-family: Arial; font-size: 14px;\n",
       "        left: 0; top: 20px; pointer-events: none;\n",
       "    }\n",
       "    .highlight { background: #ff0 !important; color: #000 !important; }\n",
       "    .highlight-black { background: #ff0 !important; color: #000 !important; }\n",
       "    </style>\n",
       "    <div class=\"piano\" style=\"width:440px\"><div class=\"white-keys\"><div class=\"white-key highlight\">C</div><div class=\"white-key\">D</div><div class=\"white-key highlight\">E</div><div class=\"white-key\">F</div><div class=\"white-key\">G</div><div class=\"white-key highlight\">A</div><div class=\"white-key highlight\">B</div><div class=\"white-key highlight\">C</div><div class=\"white-key\">D</div><div class=\"white-key highlight\">E</div><div class=\"white-key\">F</div><div class=\"black-key\" style=\"left:26px\">C#</div><div class=\"black-key\" style=\"left:66px\">D#</div><div class=\"black-key\" style=\"left:146px\">F#</div><div class=\"black-key highlight-black\" style=\"left:186px\">G#</div><div class=\"black-key\" style=\"left:226px\">A#</div><div class=\"black-key\" style=\"left:306px\">C#</div><div class=\"black-key\" style=\"left:346px\">D#</div><div class=\"black-key\" style=\"left:426px\">F#</div></div>"
      ],
      "text/plain": [
       "<IPython.core.display.HTML object>"
      ]
     },
     "execution_count": null,
     "metadata": {},
     "output_type": "execute_result"
    }
   ],
   "source": [
    "Piano()(PolyChord([Chord.from_short(\"E\"), Chord.from_short(\"Am\")]))"
   ]
  }
 ],
 "metadata": {
  "kernelspec": {
   "display_name": "py312",
   "language": "python",
   "name": "python3"
  },
  "language_info": {
   "name": "python",
   "version": "3.12.0"
  }
 },
 "nbformat": 4,
 "nbformat_minor": 4
}
