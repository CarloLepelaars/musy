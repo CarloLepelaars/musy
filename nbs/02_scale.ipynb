{
 "cells": [
  {
   "cell_type": "markdown",
   "metadata": {},
   "source": [
    "# Scale\n",
    "\n",
    "> Stack of intervals"
   ]
  },
  {
   "cell_type": "code",
   "execution_count": null,
   "metadata": {},
   "outputs": [],
   "source": [
    "#|default_exp scale"
   ]
  },
  {
   "cell_type": "code",
   "execution_count": null,
   "metadata": {},
   "outputs": [],
   "source": [
    "#|hide\n",
    "from nbdev.showdoc import *"
   ]
  },
  {
   "cell_type": "code",
   "execution_count": null,
   "metadata": {},
   "outputs": [],
   "source": [
    "#|export\n",
    "import numpy as np\n",
    "import pandas as pd\n",
    "from fastcore.all import *\n",
    "from IPython.display import Audio\n",
    "from itertools import combinations, accumulate\n",
    "from collections import defaultdict\n",
    "\n",
    "from musy import Note, Chord, Interval"
   ]
  },
  {
   "cell_type": "code",
   "execution_count": null,
   "metadata": {},
   "outputs": [],
   "source": [
    "#|export\n",
    "INTERVAL_NAMES = {\n",
    "    \"1\": \"unison\",\n",
    "    \"b2\": \"minor second\",\n",
    "    \"2\": \"major second\",\n",
    "    \"#2\": \"augmented second\",\n",
    "    \"b3\": \"minor third\",\n",
    "    \"3\": \"major third\",\n",
    "    \"#3\": \"augmented third\",\n",
    "    \"b4\": \"minor fourth\",\n",
    "    \"4\": \"perfect fourth\",\n",
    "    \"#4\": \"augmented fourth\",\n",
    "    \"b5\": \"diminished fifth\",\n",
    "    \"5\": \"perfect fifth\",\n",
    "    \"#5\": \"augmented fifth\",\n",
    "    \"b6\": \"minor sixth\",\n",
    "    \"6\": \"major sixth\",\n",
    "    \"#6\": \"augmented sixth\",\n",
    "    \"b7\": \"minor seventh\",\n",
    "    \"7\": \"major seventh\",\n",
    "    \"8\": \"octave\",\n",
    "    \"b9\": \"minor ninth\",\n",
    "    \"9\": \"major ninth\",\n",
    "    \"#9\": \"augmented ninth\",\n",
    "    \"b10\": \"minor tenth\",\n",
    "    \"10\": \"major tenth\",\n",
    "    \"b11\": \"minor eleventh\",\n",
    "    \"11\": \"major eleventh\",\n",
    "    \"#11\": \"augmented eleventh\",\n",
    "    \"b12\": \"minor twelfth\",\n",
    "    \"12\": \"major twelfth\",\n",
    "    \"b13\": \"minor thirteenth\",\n",
    "    \"13\": \"major thirteenth\",\n",
    "    \"#13\": \"augmented thirteenth\"\n",
    "}\n",
    "INTERVAL_HALF_STEPS = {\n",
    "    \"1\": 0,\n",
    "    \"#1\": 1,\n",
    "    \"b2\": 1,\n",
    "    \"2\": 2,\n",
    "    \"#2\": 3,\n",
    "    \"b3\": 3,\n",
    "    \"3\": 4,\n",
    "    \"b4\": 4,\n",
    "    \"4\": 5,\n",
    "    \"#4\": 6,\n",
    "    \"b5\": 6,\n",
    "    \"5\": 7,\n",
    "    \"#5\": 8,\n",
    "    \"b6\": 8,\n",
    "    \"6\": 9,\n",
    "    \"#6\": 10,\n",
    "    \"b7\": 10,\n",
    "    \"7\": 11,\n",
    "    \"8\": 12,\n",
    "    \"b9\": 13,\n",
    "    \"9\": 14,\n",
    "    \"#9\": 15,\n",
    "    \"10\": 16,\n",
    "    \"11\": 17,\n",
    "    \"#11\": 18,\n",
    "    \"12\": 19,\n",
    "    \"b13\": 20,\n",
    "    \"13\": 21,\n",
    "    \"#13\": 22,\n",
    "    \"14\": 23,\n",
    "    \"15\": 24\n",
    "}\n",
    "\n",
    "\n",
    "SCALES = {# Major modes\n",
    "          \"ionian\": [\"1\", \"2\", \"3\", \"4\", \"5\", \"6\", \"7\"],\n",
    "          \"major\": [\"1\", \"2\", \"3\", \"4\", \"5\", \"6\", \"7\"],\n",
    "          \"minor\": [\"1\", \"2\", \"b3\", \"4\", \"5\", \"b6\", \"b7\"],\n",
    "          \"natural minor\": [\"1\", \"2\", \"b3\", \"4\", \"5\", \"b6\", \"b7\"],\n",
    "          \"dorian\": [\"1\", \"2\", \"b3\", \"4\", \"5\", \"6\", \"b7\"],\n",
    "          \"phrygian\": [\"1\", \"b2\", \"b3\", \"4\", \"5\", \"b6\", \"b7\"],\n",
    "          \"lydian\": [\"1\", \"2\", \"3\", \"#4\", \"5\", \"6\", \"7\"],\n",
    "          \"mixolydian\": [\"1\", \"2\", \"3\", \"4\", \"5\", \"6\", \"b7\"],\n",
    "          \"aeolian\": [\"1\", \"2\", \"b3\", \"4\", \"5\", \"b6\", \"b7\"],\n",
    "          \"locrian\": [\"1\", \"b2\", \"b3\", \"4\", \"b5\", \"b6\", \"b7\"],\n",
    "          # Melodic Minor modes\n",
    "          \"melodic minor\": [\"1\", \"2\", \"b3\", \"4\", \"5\", \"6\", \"7\"],\n",
    "          \"dorian b2\": [\"1\", \"b2\", \"b3\", \"4\", \"5\", \"6\", \"b7\"],\n",
    "          \"lydian augmented\": [\"1\", \"2\", \"3\", \"#4\", \"#5\", \"6\", \"7\"],\n",
    "          \"lydian b7\": [\"1\", \"2\", \"3\", \"#4\", \"5\", \"6\", \"b7\"],\n",
    "          \"lydian dominant\": [\"1\", \"2\", \"3\", \"#4\", \"5\", \"6\", \"b7\"],\n",
    "          \"acoustic\": [\"1\", \"2\", \"3\", \"#4\", \"5\", \"6\", \"b7\"],\n",
    "          \"mixolydian #11\": [\"1\", \"2\", \"3\", \"#4\", \"5\", \"6\", \"b7\"],\n",
    "          \"locrian n2\": [\"1\", \"2\", \"b3\", \"4\", \"b5\", \"b6\", \"7\"],\n",
    "          \"altered\": [\"1\", \"b2\", \"b3\", \"b4\", \"b5\", \"b6\", \"b7\"],\n",
    "          \"altered dominant\": [\"1\", \"b2\", \"b3\", \"b4\", \"b5\", \"b6\", \"b7\"],\n",
    "          \"diminished whole-tone\": [\"1\", \"b2\", \"b3\", \"b4\", \"b5\", \"b6\", \"b7\"],\n",
    "          \"dominant whole-tone\": [\"1\", \"b2\", \"b3\", \"b4\", \"b5\", \"b6\", \"b7\"],\n",
    "          \"aeolian dominant\": [\"1\", \"2\", \"3\", \"4\", \"5\", \"b6\", \"b7\"],\n",
    "          # Harmonic minor modes\n",
    "          \"harmonic minor\": [\"1\", \"2\", \"b3\", \"4\", \"5\", \"b6\", \"7\"],\n",
    "          \"locrian 6\": [\"1\", \"b2\", \"b3\", \"4\", \"b5\", \"6\", \"b7\"],\n",
    "          \"ionian augmented\": [\"1\", \"2\", \"3\", \"4\", \"#5\", \"6\", \"7\"],\n",
    "          \"dorian #4\": [\"1\", \"2\", \"b3\", \"#4\", \"5\", \"6\", \"b7\"],\n",
    "          \"phrygian major\": [\"1\", \"b2\", \"3\", \"4\", \"5\", \"b6\", \"b7\"],\n",
    "          \"phrygian dominant\": [\"1\", \"b2\", \"3\", \"4\", \"5\", \"b6\", \"b7\"],\n",
    "          \"spanish phrygian\": [\"1\", \"b2\", \"3\", \"4\", \"5\", \"b6\", \"b7\"],\n",
    "          \"spanish major\": [\"1\", \"b2\", \"3\", \"4\", \"5\", \"b6\", \"b7\"],\n",
    "          \"spanish\": [\"1\", \"b2\", \"3\", \"4\", \"5\", \"b6\", \"b7\"],\n",
    "          \"lydian #2\": [\"1\", \"#2\", \"3\", \"#4\", \"5\", \"6\", \"7\"],\n",
    "          \"lydian #9\": [\"1\", \"#2\", \"3\", \"#4\", \"5\", \"6\", \"7\"],\n",
    "          \"altered dominant bb7\": [\"1\", \"b2\", \"b3\", \"b4\", \"b5\", \"b6\", \"6\"],\n",
    "          \"altered 13\": [\"1\", \"b2\", \"b3\", \"b4\", \"b5\", \"b6\", \"6\"],\n",
    "          # Harmonic major modes\n",
    "          \"harmonic major\": [\"1\", \"2\", \"3\", \"4\", \"5\", \"b6\", \"7\"],\n",
    "          \"ionian b6\": [\"1\", \"2\", \"3\", \"4\", \"5\", \"b6\", \"7\"],\n",
    "          \"dorian b5\": [\"1\", \"2\", \"b3\", \"4\", \"b5\", \"6\", \"b7\"],\n",
    "          \"phrygian b4\": [\"1\", \"b2\", \"b3\", \"b4\", \"5\", \"b6\", \"b7\"],\n",
    "          \"lydian b3\": [\"1\", \"2\", \"b3\", \"#4\", \"5\", \"6\", \"7\"],\n",
    "          \"melodic minor #4\": [\"1\", \"2\", \"b3\", \"#4\", \"5\", \"6\", \"7\"],\n",
    "          \"mixolydian b2\": [\"1\", \"b2\", \"3\", \"4\", \"5\", \"6\", \"b7\"],\n",
    "          # Lydian augmented already defined in melodic minor modes\n",
    "          \"locrian bb7\": [\"1\", \"b2\", \"b3\", \"4\", \"b5\", \"b6\", \"6\"],\n",
    "          # Double harmonic major modes\n",
    "          \"double harmonic major\": [\"1\", \"b2\", \"3\", \"4\", \"5\", \"b6\", \"7\"],\n",
    "          \"double harmonic\": [\"1\", \"b2\", \"3\", \"4\", \"5\", \"b6\", \"7\"],\n",
    "          \"lydian #2#6\": [\"1\", \"#2\", \"3\", \"#4\", \"5\", \"#6\", \"7\"],\n",
    "          \"ultraphrygian\": [\"1\", \"b2\", \"b3\", \"b4\", \"5\", \"b6\", \"6\"],\n",
    "          \"hungarian minor\": [\"1\", \"2\", \"b3\", \"#4\", \"5\", \"b6\", \"7\"],\n",
    "          \"oriental\": [\"1\", \"b2\", \"3\", \"4\", \"b5\", \"6\", \"b7\"], # Mixolydian b2 with lowered 5\n",
    "          \"ionian aug#2\": [\"1\", \"#2\", \"3\", \"4\", \"#5\", \"6\", \"7\"],\n",
    "          \"locrian bb3bb7\": [\"1\", \"b2\", \"2\", \"4\", \"b5\", \"b6\", \"6\"],\n",
    "          # Bebop scales\n",
    "          \"bebop dominant\": [\"1\", \"2\", \"3\", \"4\", \"5\", \"6\", \"#6\", \"7\"],\n",
    "          \"bebop major\": [\"1\", \"2\", \"3\", \"4\", \"5\", \"b6\", \"6\", \"7\"],\n",
    "          \"bebop blues\": [\"1\", \"2\", \"b3\", \"3\", \"4\", \"5\", \"6\", \"b7\"],\n",
    "          \"bebop melodic minor\": [\"1\", \"2\", \"b3\", \"4\", \"5\", \"b6\", \"6\", \"7\"],\n",
    "          # Pentatonic scales\n",
    "          \"pentatonic major\": [\"1\", \"2\", \"3\", \"5\", \"6\"],\n",
    "          \"major pentatonic\": [\"1\", \"2\", \"3\", \"5\", \"6\"],\n",
    "          \"pentatonic minor\": [\"1\", \"b3\", \"4\", \"5\", \"b7\"],\n",
    "          \"minor pentatonic\": [\"1\", \"b3\", \"4\", \"5\", \"b7\"],\n",
    "          \"pentatonic blues\": [\"1\", \"b3\", \"4\", \"b5\", \"5\", \"b7\"],\n",
    "          \"blues pentatonic\": [\"1\", \"b3\", \"4\", \"b5\", \"5\", \"b7\"],\n",
    "          \"pentatonic neutral\": [\"1\", \"2\", \"4\", \"5\", \"b7\"],\n",
    "          \"neutral pentatonic\": [\"1\", \"2\", \"4\", \"5\", \"b7\"],\n",
    "          \"pentatonic rock\": [\"1\", \"b3\", \"4\", \"#5\", \"b7\"],\n",
    "          \"rock pentatonic\": [\"1\", \"b3\", \"4\", \"#5\", \"b7\"],\n",
    "          \"jue\": [\"1\", \"b3\", \"4\", \"#5\", \"b7\"], # Same intervals as rock pentatonic\n",
    "          \"pentatonic scottish\": [\"1\", \"2\", \"4\", \"5\", \"6\"],\n",
    "          \"scottish pentatonic\": [\"1\", \"2\", \"4\", \"5\", \"6\"],\n",
    "          # Blues scales\n",
    "          \"blues major\": [\"1\", \"2\", \"b3\", \"3\", \"5\", \"6\"],\n",
    "          \"blues minor\": [\"1\", \"b3\", \"4\", \"b5\", \"5\", \"b7\"],\n",
    "          \"blues\": [\"1\", \"b3\", \"4\", \"b5\", \"5\", \"b7\"], # Shorthand for Blues Minor\n",
    "          \"blues diminished\": [\"1\", \"b2\", \"b3\", \"3\", \"b5\", \"5\", \"6\", \"b7\"],\n",
    "          \"aux diminished blues\": [\"1\", \"b2\", \"b3\", \"3\", \"b5\", \"5\", \"6\", \"b7\"], \n",
    "          \"half-whole\": [\"1\", \"b2\", \"b3\", \"3\", \"b5\", \"5\", \"6\", \"b7\"],\n",
    "          \"balinese\": [\"1\", \"b2\", \"b3\", \"3\", \"b5\", \"5\", \"6\", \"b7\"], \n",
    "          # Gypsy scales\n",
    "          \"gypsy major\": [\"1\", \"b2\", \"3\", \"4\", \"5\", \"b6\", \"7\"],\n",
    "          \"gypsy minor\": [\"1\", \"2\", \"b3\", \"b5\", \"5\", \"b6\", \"7\"],\n",
    "          \"spanish gypsy\": [\"1\", \"b2\", \"3\", \"4\", \"5\", \"b6\", \"b7\"], # Same as Phrygian dominant\n",
    "          \"hungarian gypsy\": [\"1\", \"2\", \"b3\", \"#4\", \"5\", \"b6\", \"b7\"], # Hungarian minor with lowered 7\n",
    "          # Diminished scales\n",
    "          \"diminished\": [\"1\", \"2\", \"b3\", \"4\", \"b5\", \"b6\", \"6\", \"7\"],\n",
    "          \"tonic diminished\": [\"1\", \"2\", \"b3\", \"4\", \"b5\", \"b6\", \"6\", \"7\"],\n",
    "          \"whole-half\": [\"1\", \"2\", \"b3\", \"4\", \"#4\", \"#5\", \"6\", \"7\"],\n",
    "          \"dominant diminished\": [\"1\", \"b2\", \"b3\", \"3\", \"#4\", \"5\", \"6\", \"b7\"],\n",
    "          \"whole\": [\"1\", \"2\", \"3\", \"#4\", \"#5\", \"#6\"],\n",
    "          \"whole-tone\": [\"1\", \"2\", \"3\", \"#4\", \"#5\", \"#6\"],\n",
    "          \"aux augmented\": [\"1\", \"2\", \"3\", \"#4\", \"#5\", \"#6\"],\n",
    "          # Maqam\n",
    "          \"bayati shuri\": [\"1\", \"2\", \"b3\", \"4\", \"b5\", \"6\", \"b7\"],\n",
    "          \"hijaz\": [\"1\", \"b2\", \"3\", \"4\", \"5\", \"b6\", \"b7\"],\n",
    "          \"hijaz kar\": [\"1\", \"b2\", \"3\", \"4\", \"5\", \"6\", \"7\"],\n",
    "          \"huzam\": [\"1\", \"b2\", \"b3\", \"3\", \"5\", \"b6\", \"b7\"],\n",
    "          \"nikriz\": [\"1\", \"2\", \"3\", \"#4\", \"5\", \"6\", \"7\"],\n",
    "          \"tunisian\": [\"1\", \"2\", \"3\", \"#4\", \"5\", \"6\", \"7\"],\n",
    "          \"saba\": [\"1\", \"2\", \"b3\", \"3\", \"5\", \"b6\", \"b7\"],\n",
    "          \"sabah\": [\"1\", \"2\", \"b3\", \"3\", \"5\", \"b6\", \"b7\"],\n",
    "          \"suznak\": [\"1\", \"2\", \"3\", \"4\", \"5\", \"#5\", \"7\"],\n",
    "          \"neveseri\": [\"1\", \"b2\", \"b3\", \"3\", \"5\", \"b6\", \"b7\", \"7\"],\n",
    "          # Greek\n",
    "          \"pireaus\": [\"1\", \"b2\", \"3\", \"#4\", \"5\", \"#5\", \"7\"],\n",
    "          \"tsinganikos\": [\"1\", \"b2\", \"3\", \"4\", \"#4\", \"6\", \"#6\"],\n",
    "          # Hindustani\n",
    "          \"marwa\": [\"1\", \"b2\", \"3\", \"#4\", \"5\", \"6\", \"7\"],\n",
    "          \"poorvi\": [\"1\", \"b2\", \"3\", \"#4\", \"5\", \"6\", \"7\"],\n",
    "          \"segah\": [\"1\", \"#2\", \"3\", \"4\", \"5\", \"#5\", \"7\"],\n",
    "          \"todi\": [\"1\", \"b2\", \"b3\", \"#4\", \"5\", \"b6\", \"7\"],\n",
    "          # Carnatic\n",
    "          \"charukeshi\": [\"1\", \"2\", \"3\", \"4\", \"5\", \"b6\", \"b7\"],\n",
    "          \"dharmaavati\": [\"1\", \"2\", \"b3\", \"b5\", \"5\", \"6\", \"7\"],\n",
    "          \"lataangi\": [\"1\", \"2\", \"3\", \"#4\", \"5\", \"6\", \"7\"],\n",
    "          \"vachaspati\": [\"1\", \"2\", \"3\", \"#4\", \"5\", \"6\", \"#6\"],\n",
    "          \"natakpriya\": [\"1\", \"b2\", \"b3\", \"4\", \"5\", \"6\", \"b7\"],\n",
    "          \"rampriya\": [\"1\", \"b2\", \"3\", \"#4\", \"5\", \"6\", \"#6\"],\n",
    "          \"suryakant\": [\"1\", \"b2\", \"3\", \"4\", \"5\", \"6\", \"7\"],\n",
    "          # Japanese\n",
    "          \"joshi akikaze\": [\"1\", \"2\", \"b3\", \"5\", \"6\"],\n",
    "          \"akikaze joshi\": [\"1\", \"2\", \"b3\", \"5\", \"6\"],\n",
    "          \"joshi hira\": [\"1\", \"2\", \"b3\", \"5\", \"b6\"],\n",
    "          \"hira joshi\": [\"1\", \"2\", \"b3\", \"5\", \"b6\"],\n",
    "          \"joshi iwato\": [\"1\", \"b2\", \"4\", \"b5\", \"b7\"],\n",
    "          \"iwato joshi\": [\"1\", \"b2\", \"4\", \"b5\", \"b7\"],\n",
    "          \"joshi kokin\": [\"1\", \"2\", \"4\", \"5\", \"b6\"],\n",
    "          \"kokin joshi\": [\"1\", \"2\", \"4\", \"5\", \"b6\"],\n",
    "          \"joshi kumoi\": [\"1\", \"b2\", \"4\", \"5\", \"b6\"],\n",
    "          \"kumoi joshi\": [\"1\", \"b2\", \"4\", \"5\", \"b6\"],\n",
    "          \"joshi okinawa\": [\"1\", \"3\", \"4\", \"5\", \"7\"],\n",
    "          \"okinawa joshi\": [\"1\", \"3\", \"4\", \"5\", \"7\"],\n",
    "          \"sen in\": [\"1\", \"b2\", \"4\", \"5\", \"b7\"],\n",
    "          \"in sen\": [\"1\", \"b2\", \"4\", \"5\", \"b7\"],\n",
    "          # Misc.\n",
    "          \"chromatic\": [\"1\", \"b2\", \"2\", \"b3\", \"3\", \"4\", \"#4\", \"5\", \"#5\", \"6\", \"b7\", \"7\"],\n",
    "          \"augmented\": [\"1\", \"#2\", \"3\", \"5\", \"#5\", \"7\"],\n",
    "          \"enigmatic ascending\": [\"1\", \"b2\", \"3\", \"#4\", \"#5\", \"#6\", \"7\"],\n",
    "          \"enigmatic descending\": [\"1\", \"b2\", \"3\", \"4\", \"b6\", \"b7\", \"7\"],\n",
    "          \"hungarian major\": [\"1\", \"b3\", \"3\", \"b5\", \"5\", \"6\", \"b7\"],\n",
    "          \"neapolitan major\": [\"1\", \"b2\", \"b3\", \"4\", \"5\", \"6\", \"7\"],\n",
    "          \"neapolitan minor\": [\"1\", \"b2\", \"b3\", \"4\", \"5\", \"b6\", \"7\"],\n",
    "          \"prometheus\": [\"1\", \"2\", \"3\", \"b5\", \"6\", \"b7\"],\n",
    "          \"mystic\": [\"1\", \"2\", \"3\", \"b5\", \"6\", \"b7\"],\n",
    "          \"prometheus neapolitan\": [\"1\", \"b2\", \"3\", \"b5\", \"6\", \"b7\"], # Prometheus with lowered 2\n",
    "          \"spanish 8 tone\": [\"1\", \"b2\", \"b3\", \"3\", \"4\", \"b5\", \"b6\", \"b7\"],\n",
    "          }\n",
    "\n",
    "# Invert scales so alternative names can be identified by intervals or name\n",
    "d = defaultdict(list)\n",
    "[d[tuple(v)].append(k) for k,v in SCALES.items()]\n",
    "INV_SCALES_BY_INTERVAL = dict(d)\n",
    "INV_SCALES_BY_NAME = {k: d[tuple(v)] for k,v in SCALES.items()}"
   ]
  },
  {
   "cell_type": "code",
   "execution_count": null,
   "metadata": {},
   "outputs": [],
   "source": [
    "#|hide\n",
    "assert len(SCALES) == len(INV_SCALES_BY_NAME)"
   ]
  },
  {
   "cell_type": "markdown",
   "metadata": {},
   "source": [
    "The `Scale` object is a collection of intervals and agnostic to any key. From the basic scale, notes can be derived by providing a root note."
   ]
  },
  {
   "cell_type": "code",
   "execution_count": null,
   "metadata": {},
   "outputs": [],
   "source": [
    "#|export\n",
    "class Scale:\n",
    "    def __init__(self, name: str):\n",
    "        self.name = name.lower()\n",
    "        self.intervals = SCALES.get(self.name, [])\n",
    "        self.flats = sum(1 for i in self.intervals if i.startswith(\"b\"))\n",
    "        self.sharps = sum(1 for i in self.intervals if i.startswith(\"#\"))\n",
    "        self.naturals = len(self.intervals) - self.flats - self.sharps\n",
    "\n",
    "    @classmethod\n",
    "    def available_scales(cls): return list(SCALES.keys())\n",
    "    \n",
    "    @classmethod\n",
    "    def from_intervals(cls, intervals: list[str], name: str = None):\n",
    "        \"\"\"Create a custom scale from a list of intervals.\"\"\"\n",
    "        for i in intervals:\n",
    "            assert i in list(INTERVAL_NAMES), f\"Interval '{i}' not valid. Available intervals: '{list(INTERVAL_NAMES.keys())}'\"\n",
    "        # Infer name if not given\n",
    "        custom_scale = cls(INV_SCALES_BY_INTERVAL.get(tuple(intervals), [\"unknown\"])[0] if not name else name)\n",
    "        custom_scale.intervals = intervals\n",
    "        return custom_scale\n",
    "    \n",
    "    @property\n",
    "    def rel_semitones(self):\n",
    "        return [INTERVAL_HALF_STEPS[interval] for interval in self.intervals]\n",
    "    \n",
    "    @property\n",
    "    def abs_semitones(self):\n",
    "        rel = self.rel_semitones\n",
    "        abs = []\n",
    "        for i, r in enumerate(rel[1:]):\n",
    "            abs.append(r - rel[i])\n",
    "        # Last remaining interval\n",
    "        abs.append(12-sum(abs))\n",
    "        return abs\n",
    "    \n",
    "    def __repr__(self): return f\"Scale: {self.name.title()}. Intervals: {self.intervals}\"\n",
    "    def __eq__(self, other): return self.intervals == other.intervals\n",
    "    def __ne__(self, other): return not self == other\n",
    "    def __iter__(self) -> list[str]: return iter(self.intervals)\n",
    "    def __len__(self): return len(self.intervals)"
   ]
  },
  {
   "cell_type": "markdown",
   "metadata": {},
   "source": [
    "## Initialization\n",
    "\n",
    "The `Scale` representation gives you the name and intervals of the scale."
   ]
  },
  {
   "cell_type": "code",
   "execution_count": null,
   "metadata": {},
   "outputs": [
    {
     "data": {
      "text/plain": [
       "Scale: Major. Intervals: ['1', '2', '3', '4', '5', '6', '7']"
      ]
     },
     "execution_count": null,
     "metadata": {},
     "output_type": "execute_result"
    }
   ],
   "source": [
    "major = Scale(\"major\")\n",
    "major"
   ]
  },
  {
   "cell_type": "code",
   "execution_count": null,
   "metadata": {},
   "outputs": [
    {
     "data": {
      "text/plain": [
       "Scale: Dorian. Intervals: ['1', '2', 'b3', '4', '5', '6', 'b7']"
      ]
     },
     "execution_count": null,
     "metadata": {},
     "output_type": "execute_result"
    }
   ],
   "source": [
    "dorian = Scale(\"dorian\")\n",
    "dorian"
   ]
  },
  {
   "cell_type": "code",
   "execution_count": null,
   "metadata": {},
   "outputs": [
    {
     "data": {
      "text/plain": [
       "Scale: Lydian. Intervals: ['1', '2', '3', '#4', '5', '6', '7']"
      ]
     },
     "execution_count": null,
     "metadata": {},
     "output_type": "execute_result"
    }
   ],
   "source": [
    "lydian = Scale(\"lydian\")\n",
    "lydian"
   ]
  },
  {
   "cell_type": "markdown",
   "metadata": {},
   "source": [
    "### Properties\n",
    "\n",
    "The `Scale` object stores how many flats, sharps and naturals are in the key.\n",
    "\n",
    "For example, a major scale contains only naturals. No flats or sharps."
   ]
  },
  {
   "cell_type": "code",
   "execution_count": null,
   "metadata": {},
   "outputs": [
    {
     "data": {
      "text/plain": [
       "(7, 0, 0)"
      ]
     },
     "execution_count": null,
     "metadata": {},
     "output_type": "execute_result"
    }
   ],
   "source": [
    "major.naturals, major.sharps, major.flats"
   ]
  },
  {
   "cell_type": "markdown",
   "metadata": {},
   "source": [
    "A dorian scale has 2 flats (the 3rd and 7th degrees)."
   ]
  },
  {
   "cell_type": "code",
   "execution_count": null,
   "metadata": {},
   "outputs": [
    {
     "data": {
      "text/plain": [
       "2"
      ]
     },
     "execution_count": null,
     "metadata": {},
     "output_type": "execute_result"
    }
   ],
   "source": [
    "dorian.flats"
   ]
  },
  {
   "cell_type": "markdown",
   "metadata": {},
   "source": [
    "A lydian scale has 1 sharp (the 4th degree)."
   ]
  },
  {
   "cell_type": "code",
   "execution_count": null,
   "metadata": {},
   "outputs": [
    {
     "data": {
      "text/plain": [
       "1"
      ]
     },
     "execution_count": null,
     "metadata": {},
     "output_type": "execute_result"
    }
   ],
   "source": [
    "lydian.sharps"
   ]
  },
  {
   "cell_type": "markdown",
   "metadata": {},
   "source": [
    "Listify the scale to get the intervals or call `.intervals`."
   ]
  },
  {
   "cell_type": "code",
   "execution_count": null,
   "metadata": {},
   "outputs": [
    {
     "data": {
      "text/plain": [
       "['1', '2', '3', '#4', '5', '6', '7']"
      ]
     },
     "execution_count": null,
     "metadata": {},
     "output_type": "execute_result"
    }
   ],
   "source": [
    "list(lydian)"
   ]
  },
  {
   "cell_type": "markdown",
   "metadata": {},
   "source": [
    "Semitones for the invervals in a scale can be retrieved in an absolute (intervals between notes) or relative (intervals from root)."
   ]
  },
  {
   "cell_type": "code",
   "execution_count": null,
   "metadata": {},
   "outputs": [
    {
     "data": {
      "text/plain": [
       "[0, 2, 4, 5, 7, 9, 11]"
      ]
     },
     "execution_count": null,
     "metadata": {},
     "output_type": "execute_result"
    }
   ],
   "source": [
    "assert major.rel_semitones == [0, 2, 4, 5, 7, 9, 11]\n",
    "major.rel_semitones"
   ]
  },
  {
   "cell_type": "code",
   "execution_count": null,
   "metadata": {},
   "outputs": [
    {
     "data": {
      "text/plain": [
       "[2, 2, 1, 2, 2, 2, 1]"
      ]
     },
     "execution_count": null,
     "metadata": {},
     "output_type": "execute_result"
    }
   ],
   "source": [
    "assert major.abs_semitones == [2, 2, 1, 2, 2, 2, 1]\n",
    "assert sum(major.abs_semitones) == 12\n",
    "major.abs_semitones"
   ]
  },
  {
   "cell_type": "markdown",
   "metadata": {},
   "source": [
    "## Comparison\n",
    "\n",
    "Scales can be compared to each other."
   ]
  },
  {
   "cell_type": "code",
   "execution_count": null,
   "metadata": {},
   "outputs": [],
   "source": [
    "assert Scale(\"minor\") == Scale(\"aeolian\") == Scale(\"natural minor\")\n",
    "assert not major == dorian\n",
    "assert lydian != dorian\n",
    "assert lydian == lydian\n",
    "assert Scale(\"minor\") == Scale(\"aeolian\")"
   ]
  },
  {
   "cell_type": "markdown",
   "metadata": {},
   "source": [
    "## Custom Scales\n",
    "\n",
    "Almost all scales are available to initialize by name, but custom scales can be created with `from_intervals`. Consult `Scale.available_scales` to get the built-in scales."
   ]
  },
  {
   "cell_type": "markdown",
   "metadata": {},
   "source": [
    "For example, we can create a custom `persian` scale."
   ]
  },
  {
   "cell_type": "code",
   "execution_count": null,
   "metadata": {},
   "outputs": [
    {
     "data": {
      "text/plain": [
       "Scale: Persian. Intervals: ['1', 'b2', '3', '4', 'b5', 'b6', '7']"
      ]
     },
     "execution_count": null,
     "metadata": {},
     "output_type": "execute_result"
    }
   ],
   "source": [
    "persian = Scale.from_intervals([\"1\", \"b2\", \"3\", \"4\", \"b5\", \"b6\", \"7\"], \"persian\")\n",
    "persian"
   ]
  },
  {
   "cell_type": "markdown",
   "metadata": {},
   "source": [
    "If no name is given, `Scale` will try to infer the name."
   ]
  },
  {
   "cell_type": "code",
   "execution_count": null,
   "metadata": {},
   "outputs": [
    {
     "data": {
      "text/plain": [
       "Scale: Melodic Minor. Intervals: ['1', '2', 'b3', '4', '5', '6', '7']"
      ]
     },
     "execution_count": null,
     "metadata": {},
     "output_type": "execute_result"
    }
   ],
   "source": [
    "mel_minor = Scale.from_intervals([\"1\", \"2\", \"b3\", \"4\", \"5\", \"6\", \"7\"])\n",
    "assert mel_minor.name == \"melodic minor\"\n",
    "mel_minor"
   ]
  },
  {
   "cell_type": "markdown",
   "metadata": {},
   "source": [
    "## Note Generation\n",
    "\n",
    "From a `Scale` object, we can get the notes given a root note."
   ]
  },
  {
   "cell_type": "code",
   "execution_count": null,
   "metadata": {},
   "outputs": [],
   "source": [
    "#|export\n",
    "@patch\n",
    "def get_notes(self:Scale, root, oct=4):\n",
    "    \"\"\"Get the notes of a scale from a root note.\"\"\"\n",
    "    root = Note(root, oct=oct) if isinstance(root, str) else root\n",
    "    return [root + int(INTERVAL_HALF_STEPS[i]) for i in self.intervals]"
   ]
  },
  {
   "cell_type": "code",
   "execution_count": null,
   "metadata": {},
   "outputs": [
    {
     "data": {
      "text/plain": [
       "[C4, D4, E4, F4, G4, A4, B4]"
      ]
     },
     "execution_count": null,
     "metadata": {},
     "output_type": "execute_result"
    }
   ],
   "source": [
    "c_major = Scale(\"major\").get_notes(\"C\")\n",
    "assert [str(n) for n in c_major] == ['C', 'D', 'E', 'F', 'G', 'A', 'B']\n",
    "c_major"
   ]
  },
  {
   "cell_type": "code",
   "execution_count": null,
   "metadata": {},
   "outputs": [
    {
     "data": {
      "text/plain": [
       "[G4, A4, B4, C5, D5, E5, F#5]"
      ]
     },
     "execution_count": null,
     "metadata": {},
     "output_type": "execute_result"
    }
   ],
   "source": [
    "g_major = Scale(\"major\").get_notes(\"G\")\n",
    "g_major"
   ]
  },
  {
   "cell_type": "code",
   "execution_count": null,
   "metadata": {},
   "outputs": [
    {
     "data": {
      "text/plain": [
       "[C4, D4, D#4, F4, G4, A4, A#4]"
      ]
     },
     "execution_count": null,
     "metadata": {},
     "output_type": "execute_result"
    }
   ],
   "source": [
    "c_dorian = Scale(\"dorian\").get_notes(\"C\")\n",
    "assert [str(n) for n in c_dorian] == ['C', 'D', 'D#', 'F', 'G', 'A', 'A#']\n",
    "c_dorian"
   ]
  },
  {
   "cell_type": "markdown",
   "metadata": {},
   "source": [
    "## Exhaustive Diatonic Chords\n",
    "\n",
    "We can get all diatonic chords in the scale with `get_diatonic_chords`. "
   ]
  },
  {
   "cell_type": "code",
   "execution_count": null,
   "metadata": {},
   "outputs": [],
   "source": [
    "#|export\n",
    "@patch\n",
    "def get_diatonic_chords(self:Scale, root, min_notes=3):\n",
    "    assert min_notes > 1, \"min_notes must be greater than 1.\"\n",
    "    notes = self.get_notes(root)\n",
    "    return [Chord(combo) for n in range(min_notes, len(notes)+1) for combo in combinations(notes, n)]"
   ]
  },
  {
   "cell_type": "markdown",
   "metadata": {},
   "source": [
    "For example, let's look at all the diatonic E chords in the C major scale we can identify."
   ]
  },
  {
   "cell_type": "code",
   "execution_count": null,
   "metadata": {},
   "outputs": [
    {
     "ename": "TypeError",
     "evalue": "argument of type 'method' is not iterable",
     "output_type": "error",
     "traceback": [
      "\u001b[31m---------------------------------------------------------------------------\u001b[39m",
      "\u001b[31mTypeError\u001b[39m                                 Traceback (most recent call last)",
      "\u001b[36mCell\u001b[39m\u001b[36m \u001b[39m\u001b[32mIn[24]\u001b[39m\u001b[32m, line 1\u001b[39m\n\u001b[32m----> \u001b[39m\u001b[32m1\u001b[39m [c \u001b[38;5;28;01mfor\u001b[39;00m c \u001b[38;5;129;01min\u001b[39;00m Scale(\u001b[33m\"\u001b[39m\u001b[33mmajor\u001b[39m\u001b[33m\"\u001b[39m).get_diatonic_chords(\u001b[33m\"\u001b[39m\u001b[33mC\u001b[39m\u001b[33m\"\u001b[39m) \u001b[38;5;28;01mif\u001b[39;00m \u001b[33;43m\"\u001b[39;49m\u001b[33;43mE\u001b[39;49m\u001b[33;43m\"\u001b[39;49m\u001b[43m \u001b[49m\u001b[38;5;129;43;01min\u001b[39;49;00m\u001b[43m \u001b[49m\u001b[43mc\u001b[49m\u001b[43m.\u001b[49m\u001b[43mname\u001b[49m]\n",
      "\u001b[31mTypeError\u001b[39m: argument of type 'method' is not iterable"
     ]
    }
   ],
   "source": [
    "[c for c in Scale(\"major\").get_diatonic_chords(\"C\") if \"E\" in c.name]"
   ]
  },
  {
   "cell_type": "markdown",
   "metadata": {},
   "source": [
    "## Interval Names\n",
    "\n",
    "You can easily get relative and absolute interval names. Both shorthand and full names are available."
   ]
  },
  {
   "cell_type": "code",
   "execution_count": null,
   "metadata": {},
   "outputs": [],
   "source": [
    "#|export\n",
    "@patch\n",
    "def rel_interval_names(self:Scale, short=False):\n",
    "        return self.intervals if short else [INTERVAL_NAMES[i] for i in self.intervals[1:]]\n",
    "\n",
    "@patch\n",
    "def abs_interval_names(self:Scale, short=False):\n",
    "    return [getattr(Interval.from_semitones(i), \"long\" if not short else \"short\") for i in self.abs_semitones]"
   ]
  },
  {
   "cell_type": "code",
   "execution_count": null,
   "metadata": {},
   "outputs": [],
   "source": [
    "assert major.rel_interval_names() == ['major second', 'major third', 'perfect fourth', 'perfect fifth', 'major sixth', 'major seventh']\n",
    "assert major.rel_interval_names(short=True) == ['1', '2', '3', '4', '5', '6', '7']\n",
    "assert major.abs_interval_names() == ['major second', 'major second', 'minor second', 'major second', 'major second', 'major second', 'minor second']\n",
    "assert major.abs_interval_names(short=True) == ['2', '2', 'b2', '2', '2', '2', 'b2']\n",
    "major.rel_interval_names()"
   ]
  },
  {
   "cell_type": "code",
   "execution_count": null,
   "metadata": {},
   "outputs": [],
   "source": [
    "Scale(\"locrian\").rel_interval_names()"
   ]
  },
  {
   "cell_type": "markdown",
   "metadata": {},
   "source": [
    "## Alternative Scale Names\n",
    "\n",
    "Many scales have alternative names. We can derive them using `get_scale_names`."
   ]
  },
  {
   "cell_type": "code",
   "execution_count": null,
   "metadata": {},
   "outputs": [],
   "source": [
    "#|export\n",
    "@patch\n",
    "def get_scale_names(self:Scale):\n",
    "    return INV_SCALES_BY_INTERVAL.get(tuple(self.intervals), [])"
   ]
  },
  {
   "cell_type": "code",
   "execution_count": null,
   "metadata": {},
   "outputs": [],
   "source": [
    "assert major.get_scale_names() == [\"ionian\", \"major\"]\n",
    "major.get_scale_names()"
   ]
  },
  {
   "cell_type": "markdown",
   "metadata": {},
   "source": [
    "## Modes of scale\n",
    "\n",
    "A mode is a scale derived from a note on the scale. We can build a new `Scale` on every step of a `Scale` by cycling through the modes.\n",
    "\n",
    "For this to work, we first need to shift the semitones of our scale and get a new set of relative semitones."
   ]
  },
  {
   "cell_type": "code",
   "execution_count": null,
   "metadata": {},
   "outputs": [],
   "source": [
    "#|export\n",
    "@patch\n",
    "def _shift_abs_semitones(self:Scale, n):\n",
    "    \"\"\" Shift the absolute semitones of a scale by n steps. \"\"\"\n",
    "    return self.abs_semitones[n:] + self.abs_semitones[:n]\n",
    "\n",
    "@patch\n",
    "def _shift_rel_semitones(self:Scale, n:int):\n",
    "    \"\"\" Shift relative semitones by n steps. \"\"\"\n",
    "    return [0] + list(accumulate(self._shift_abs_semitones(n)[:-1]))"
   ]
  },
  {
   "cell_type": "code",
   "execution_count": null,
   "metadata": {},
   "outputs": [],
   "source": [
    "assert major.abs_semitones == [2, 2, 1, 2, 2, 2, 1]\n",
    "assert major._shift_abs_semitones(1) == [2, 1, 2, 2, 2, 1, 2]\n",
    "# Semitones for dorian scale (shift semitones 1 to the left)\n",
    "major._shift_abs_semitones(1)"
   ]
  },
  {
   "cell_type": "markdown",
   "metadata": {},
   "source": [
    "When we accumulate the absolute semitones of a scale, we get the relative semitones."
   ]
  },
  {
   "cell_type": "code",
   "execution_count": null,
   "metadata": {},
   "outputs": [],
   "source": [
    "assert major.rel_semitones == [0, 2, 4, 5, 7, 9, 11]\n",
    "assert major._shift_rel_semitones(1) == [0, 2, 3, 5, 7, 9, 10]\n",
    "# Relative semitones for dorian scale\n",
    "major._shift_rel_semitones(1)"
   ]
  },
  {
   "cell_type": "markdown",
   "metadata": {},
   "source": [
    "We can now reconstruct the intervals from the relative semitones."
   ]
  },
  {
   "cell_type": "code",
   "execution_count": null,
   "metadata": {},
   "outputs": [],
   "source": [
    "#|export\n",
    "def semi_to_intvals(semitones):\n",
    "    \"\"\"Convert relative semitone values to interval names.\"\"\"\n",
    "    # Major scale is the baseline for accidentals\n",
    "    maj = [0, 2, 4, 5, 7, 9, 11, 12, 14, 16, 17, 19, 21, 23, 24, 26, 28, 29, 31, 33, 35]\n",
    "    acc = {-1: 'b', 0: '', 1: '#'}\n",
    "    intervals = []\n",
    "    for i, s in enumerate(semitones):\n",
    "        deg = i + 1\n",
    "        diff = (s - maj[i]) % 12\n",
    "        if diff > 6: diff -= 12\n",
    "        if diff == 2: intervals.append(f'{deg+1}')\n",
    "        elif diff == -2: intervals.append(f'{deg-1}')\n",
    "        else: intervals.append(f'{acc.get(diff, \"\")}{deg}')\n",
    "    return intervals"
   ]
  },
  {
   "cell_type": "code",
   "execution_count": null,
   "metadata": {},
   "outputs": [],
   "source": [
    "dorian_intervals = semi_to_intvals(major._shift_rel_semitones(1))\n",
    "assert dorian_intervals == ['1', '2', 'b3', '4', '5', '6', 'b7']\n",
    "dorian_intervals"
   ]
  },
  {
   "cell_type": "markdown",
   "metadata": {},
   "source": [
    "Now let's reconstruct a new `Scale` object from these intervals."
   ]
  },
  {
   "cell_type": "code",
   "execution_count": null,
   "metadata": {},
   "outputs": [],
   "source": [
    "dorian = Scale.from_intervals(dorian_intervals)\n",
    "assert dorian.name == \"dorian\"\n",
    "dorian"
   ]
  },
  {
   "cell_type": "markdown",
   "metadata": {},
   "source": [
    "Now we can create a method to retrieve all modes for any given `Scale`."
   ]
  },
  {
   "cell_type": "code",
   "execution_count": null,
   "metadata": {},
   "outputs": [],
   "source": [
    "#|export\n",
    "@patch\n",
    "def shift_intvals(self:Scale, n:int) -> list[str]:\n",
    "    \"\"\"Shift the intervals of a scale by n steps.\"\"\"\n",
    "    return semi_to_intvals(self._shift_rel_semitones(n))\n",
    "\n",
    "@patch\n",
    "def get_modes(self:Scale) -> list[Scale]:\n",
    "    return [Scale.from_intervals(self.shift_intvals(i)) for i in range_of(self)]"
   ]
  },
  {
   "cell_type": "markdown",
   "metadata": {},
   "source": [
    "The most well known modes are the modes of the major scale, which are:\n",
    "1. `Ionian` (Major)\n",
    "2. `Dorian`\n",
    "3. `Phrygian`\n",
    "4. `Lydian`\n",
    "5. `Mixolydian`\n",
    "6. `Aeolian` (Natural Minor)\n",
    "7. `Locrian`\n",
    "\n",
    "\n",
    "\n",
    "\n"
   ]
  },
  {
   "cell_type": "code",
   "execution_count": null,
   "metadata": {},
   "outputs": [],
   "source": [
    "maj_modes = major.get_modes()\n",
    "assert [m.name for m in maj_modes] == [\"ionian\", \"dorian\", \"phrygian\", \"lydian\", \"mixolydian\", \"minor\", \"locrian\"]\n",
    "maj_modes"
   ]
  },
  {
   "cell_type": "markdown",
   "metadata": {},
   "source": [
    "If we take the modes of one of these modes we get the same modes in a different order. For example, the phrygian modes are:\n",
    "1. `Phrygian`\n",
    "2. `Lydian`\n",
    "3. `Mixolydian`\n",
    "4. `Aeolian` (Natural Minor)\n",
    "5. `Locrian`\n",
    "6. `Ionian` (Major)\n",
    "\n",
    "\n",
    "\n",
    "\n"
   ]
  },
  {
   "cell_type": "code",
   "execution_count": null,
   "metadata": {},
   "outputs": [],
   "source": [
    "phrygian = maj_modes[2]\n",
    "phrygian_modes = phrygian.get_modes()\n",
    "assert [m.name for m in phrygian_modes] == [\"phrygian\", \"lydian\", \"mixolydian\", \"minor\", \"locrian\", \"ionian\", \"dorian\"]\n",
    "phrygian_modes"
   ]
  },
  {
   "cell_type": "markdown",
   "metadata": {},
   "source": [
    "Let's take a more complicated example, like the `Double Harmonic Major` scale. The modes of this scale are:\n",
    "1. Double Harmonic Major\n",
    "2. Lydian with `#2` and `#6`\n",
    "3. Ultraphrygian\n",
    "4. Hungarian Minor\n",
    "5. Oriental\n",
    "6. Ionian with `#2` and `#5` (i.e. `aug#2`)\n",
    "7. Locrian with `bb3` and `bb7`"
   ]
  },
  {
   "cell_type": "code",
   "execution_count": null,
   "metadata": {},
   "outputs": [],
   "source": [
    "dhm = Scale(\"double harmonic major\")\n",
    "dhm"
   ]
  },
  {
   "cell_type": "code",
   "execution_count": null,
   "metadata": {},
   "outputs": [],
   "source": [
    "dhm_modes = dhm.get_modes()\n",
    "assert [m.name for m in dhm_modes] == [\"double harmonic major\", \"lydian #2#6\", \"ultraphrygian\", \"hungarian minor\", \"oriental\", \"ionian aug#2\", \"locrian bb3bb7\"]\n",
    "dhm_modes"
   ]
  },
  {
   "cell_type": "markdown",
   "metadata": {},
   "source": [
    "## Scale Audio"
   ]
  },
  {
   "cell_type": "markdown",
   "metadata": {},
   "source": [
    "Like with `Note` and `Chord` objects, `Scale` objects can be played in any given key with the `play` method."
   ]
  },
  {
   "cell_type": "code",
   "execution_count": null,
   "metadata": {},
   "outputs": [],
   "source": [
    "#|export\n",
    "@patch\n",
    "def get_audio_array(self:Scale, root, oct=4, length=0.3):\n",
    "    notes = self.get_notes(root, oct=oct)\n",
    "    octave = Note(root, oct=oct+1).get_audio_array(length=length)\n",
    "    return np.concatenate([n.get_audio_array(length) for n in notes] + [octave])\n",
    "\n",
    "@patch\n",
    "def play(self:Scale, root, oct=4, length=0.3): \n",
    "    return Audio(self.get_audio_array(root, oct=oct, length=length), rate=44100)"
   ]
  },
  {
   "cell_type": "code",
   "execution_count": null,
   "metadata": {},
   "outputs": [],
   "source": [
    "major.play(\"C\")"
   ]
  },
  {
   "cell_type": "code",
   "execution_count": null,
   "metadata": {},
   "outputs": [],
   "source": [
    "persian.play(\"C\")"
   ]
  },
  {
   "cell_type": "markdown",
   "metadata": {},
   "source": [
    "`length` and `oct` can be customized for the `play` method."
   ]
  },
  {
   "cell_type": "code",
   "execution_count": null,
   "metadata": {},
   "outputs": [],
   "source": [
    "Scale(\"altered\").play(\"C\", length=0.2, oct=3)"
   ]
  },
  {
   "cell_type": "code",
   "execution_count": null,
   "metadata": {},
   "outputs": [],
   "source": [
    "Scale(\"aeolian dominant\").play(\"C\", length=0.2, oct=3)"
   ]
  },
  {
   "cell_type": "markdown",
   "metadata": {},
   "source": [
    "## Triads"
   ]
  },
  {
   "cell_type": "markdown",
   "metadata": {},
   "source": [
    "We can derive all triads in the `Scale`."
   ]
  },
  {
   "cell_type": "markdown",
   "metadata": {},
   "source": [
    "### Derive Triads"
   ]
  },
  {
   "cell_type": "code",
   "execution_count": null,
   "metadata": {},
   "outputs": [],
   "source": [
    "#|export\n",
    "@patch\n",
    "def get_triads(self:Scale, root):\n",
    "    \"\"\"Get all triads in scale starting from root note.\"\"\"\n",
    "    notes = self.get_notes(root)\n",
    "    return [Chord([notes[i], \n",
    "                  Note(str(notes[(i+2)%7]), oct=notes[i].oct + (i+2)//7),\n",
    "                  Note(str(notes[(i+4)%7]), oct=notes[i].oct + (i+4)//7)]) \n",
    "            for i in range(len(notes))]"
   ]
  },
  {
   "cell_type": "code",
   "execution_count": null,
   "metadata": {},
   "outputs": [],
   "source": [
    "major.get_triads(\"C\")"
   ]
  },
  {
   "cell_type": "code",
   "execution_count": null,
   "metadata": {},
   "outputs": [],
   "source": [
    "Scale(\"phrygian\").get_triads(\"D\")"
   ]
  },
  {
   "cell_type": "markdown",
   "metadata": {},
   "source": [
    "### Audio Triads\n",
    "\n",
    "All triads in a given `Scale` can be played."
   ]
  },
  {
   "cell_type": "code",
   "execution_count": null,
   "metadata": {},
   "outputs": [],
   "source": [
    "#|export\n",
    "@patch\n",
    "def play_triads(self:Scale, root):\n",
    "    \"\"\"Play all triads in scale starting from root note.\"\"\"\n",
    "    return Audio(np.concatenate([c.get_audio_array() for c in self.get_triads(root)]), rate=44100)"
   ]
  },
  {
   "cell_type": "code",
   "execution_count": null,
   "metadata": {},
   "outputs": [],
   "source": [
    "major.play_triads(\"C\")"
   ]
  },
  {
   "cell_type": "markdown",
   "metadata": {},
   "source": [
    "## Scale Seventh Chords\n",
    "\n",
    "### Deriving Seventh Chords\n",
    "\n",
    "We can also get all seventh chords in the `Scale`."
   ]
  },
  {
   "cell_type": "code",
   "execution_count": null,
   "metadata": {},
   "outputs": [],
   "source": [
    "#|export\n",
    "@patch\n",
    "def get_sevenths(self:Scale, root):\n",
    "    \"\"\"Get all seventh chords in scale starting from root note.\"\"\"\n",
    "    notes = self.get_notes(root)\n",
    "    return [Chord([notes[i], \n",
    "                  Note(str(notes[(i+2)%7]), oct=notes[i].oct + (i+2)//7),\n",
    "                  Note(str(notes[(i+4)%7]), oct=notes[i].oct + (i+4)//7),\n",
    "                  Note(str(notes[(i+6)%7]), oct=notes[i].oct + (i+6)//7)]) \n",
    "            for i in range(len(notes))]"
   ]
  },
  {
   "cell_type": "code",
   "execution_count": null,
   "metadata": {},
   "outputs": [],
   "source": [
    "c_seventh_triads = major.get_sevenths(\"C\")\n",
    "c_seventh_triads"
   ]
  },
  {
   "cell_type": "markdown",
   "metadata": {},
   "source": [
    "### Audio Seventh Chords"
   ]
  },
  {
   "cell_type": "code",
   "execution_count": null,
   "metadata": {},
   "outputs": [],
   "source": [
    "#|export\n",
    "@patch\n",
    "def play_sevenths(self:Scale, root):\n",
    "    \"\"\"Play all seventh chords in scale starting from root note.\"\"\"\n",
    "    return Audio(np.concatenate([c.get_audio_array() for c in self.get_sevenths(root)]), rate=44100)"
   ]
  },
  {
   "cell_type": "code",
   "execution_count": null,
   "metadata": {},
   "outputs": [],
   "source": [
    "major.play_sevenths(\"C\")"
   ]
  },
  {
   "cell_type": "code",
   "execution_count": null,
   "metadata": {},
   "outputs": [],
   "source": [
    "lydian.get_sevenths(\"D\")"
   ]
  },
  {
   "cell_type": "markdown",
   "metadata": {},
   "source": [
    "## Scale Table\n",
    "\n",
    "We can display all relevant information from the scale in a Pandas DataFrame table."
   ]
  },
  {
   "cell_type": "code",
   "execution_count": null,
   "metadata": {},
   "outputs": [],
   "source": [
    "#|export\n",
    "@patch\n",
    "def to_frame(self:Scale, root=None):\n",
    "    d = {\n",
    "        \"Degree\": self.intervals,\n",
    "        \"Relative Interval\": [\"unison\"] + self.rel_interval_names(),\n",
    "        \"Mode\": [m.name for m in self.get_modes()],\n",
    "        \"Relative Semitones\": self.rel_semitones,\n",
    "        \"Absolute Semitones\": self.abs_semitones,\n",
    "    }\n",
    "    if root:\n",
    "        d.update({\n",
    "            \"Notes\": self.get_notes(root),\n",
    "            \"Triad\": [t.name for t in self.get_triads(root)],\n",
    "            \"Seventh Chord\": [s.name for s in self.get_sevenths(root)],\n",
    "        })\n",
    "    return pd.DataFrame(d)"
   ]
  },
  {
   "cell_type": "markdown",
   "metadata": {},
   "source": [
    "The `to_frame` method can be called without a root note, but is most informative when given a root note. In that case it shows additional information such as the triads and seventh chords.\n"
   ]
  },
  {
   "cell_type": "code",
   "execution_count": null,
   "metadata": {},
   "outputs": [],
   "source": [
    "major.to_frame(root=\"D\")"
   ]
  },
  {
   "cell_type": "markdown",
   "metadata": {},
   "source": [
    "TODO: Comparison method for scales"
   ]
  },
  {
   "cell_type": "markdown",
   "metadata": {},
   "source": [
    "-------------------"
   ]
  },
  {
   "cell_type": "code",
   "execution_count": null,
   "metadata": {},
   "outputs": [],
   "source": [
    "#|hide\n",
    "import nbdev; nbdev.nbdev_export()"
   ]
  }
 ],
 "metadata": {
  "kernelspec": {
   "display_name": "python3",
   "language": "python",
   "name": "python3"
  }
 },
 "nbformat": 4,
 "nbformat_minor": 2
}
