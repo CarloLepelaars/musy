{
 "cells": [
  {
   "cell_type": "markdown",
   "metadata": {},
   "source": [
    "# viz\n",
    "\n",
    "> Visualization tools"
   ]
  },
  {
   "cell_type": "code",
   "execution_count": null,
   "metadata": {},
   "outputs": [],
   "source": [
    "#|default_exp viz"
   ]
  },
  {
   "cell_type": "code",
   "execution_count": null,
   "metadata": {},
   "outputs": [],
   "source": [
    "#|hide\n",
    "from nbdev.showdoc import *"
   ]
  },
  {
   "cell_type": "code",
   "execution_count": null,
   "metadata": {},
   "outputs": [],
   "source": [
    "#|export\n",
    "from fasthtml import *\n",
    "from fastcore.all import *\n",
    "from fasthtml.jupyter import render_ft\n",
    "from IPython.display import HTML\n",
    "\n",
    "from musy.core import *\n",
    "\n",
    "render_ft()"
   ]
  },
  {
   "cell_type": "markdown",
   "metadata": {},
   "source": [
    "# Piano"
   ]
  },
  {
   "cell_type": "markdown",
   "metadata": {},
   "source": [
    "The `Piano` object is the basic piano visualization on which we will place `Note`, `Chord` and `Scale` objects."
   ]
  },
  {
   "cell_type": "code",
   "execution_count": null,
   "metadata": {},
   "outputs": [
    {
     "data": {
      "text/plain": [
       "[musy.core.Note(note='C', oct=4),\n",
       " musy.core.Note(note='D', oct=4),\n",
       " musy.core.Note(note='E', oct=4),\n",
       " musy.core.Note(note='F', oct=4),\n",
       " musy.core.Note(note='G', oct=4),\n",
       " musy.core.Note(note='A', oct=4),\n",
       " musy.core.Note(note='B', oct=4)]"
      ]
     },
     "execution_count": null,
     "metadata": {},
     "output_type": "execute_result"
    }
   ],
   "source": [
    "Scale('major').get_notes(\"C\")"
   ]
  },
  {
   "cell_type": "code",
   "execution_count": null,
   "metadata": {},
   "outputs": [],
   "source": [
    "#|export\n",
    "class Piano:\n",
    "    def __ft__(self, highlight: list[Note] = None):\n",
    "        notes = [str(n) for n in listify(highlight)] if highlight else []\n",
    "        css = \"\"\"\n",
    "    <style>\n",
    "    .piano { background: #222; padding: 20px 0; position: relative; width: 480px; }\n",
    "    .white-keys { display: flex; }\n",
    "    .white-key {\n",
    "        width: 40px; height: 125px; background: #fff;\n",
    "        border: 1px solid #000;\n",
    "        color: #111; font-size: 18px; text-align: center; line-height: 200px; font-family: Arial;\n",
    "        position: relative; z-index: 1;\n",
    "    }\n",
    "    .black-key {\n",
    "        width: 20px; height: 80px; background: #000; color: #fff;\n",
    "        border: 1px solid #333; position: absolute; z-index: 2;\n",
    "        text-align: center; line-height: 100px; font-family: Arial; font-size: 14px;\n",
    "        left: 0; top: 20px; pointer-events: none;\n",
    "    }\n",
    "    .highlight { background: #ff0 !important; color: #000 !important; }\n",
    "    .highlight-black { background: #ff0 !important; color: #000 !important; }\n",
    "    </style>\n",
    "    \"\"\"\n",
    "        white_notes = ['C', 'D', 'E', 'F', 'G', 'A', 'B', 'C', 'D', 'E', 'F']\n",
    "        black_keys = [\n",
    "            (0, ('C#', 'Db')), (1, ('D#', 'Eb')), (3, ('F#', 'Gb')), (4, ('G#', 'Ab')), (5, ('A#', 'Bb')),\n",
    "            (7, ('C#', 'Db')), (8, ('D#', 'Eb')), (10, ('F#', 'Gb'))\n",
    "        ]\n",
    "        html = f'<div class=\"piano\" style=\"width:{len(white_notes)*40}px\">'\n",
    "        html += '<div class=\"white-keys\">'\n",
    "        for note in white_notes:\n",
    "            cls = \"white-key\"\n",
    "            if note in notes:\n",
    "                cls += \" highlight\"\n",
    "            html += f'<div class=\"{cls}\">{note}</div>'\n",
    "        for idx, (sharp, flat) in black_keys:\n",
    "            cls = \"black-key\"\n",
    "            if sharp in notes or flat in notes:\n",
    "                cls += \" highlight-black\"\n",
    "            left = (idx + 1) * 40 - 14\n",
    "            html += f'<div class=\"{cls}\" style=\"left:{left}px\">{sharp}</div>'\n",
    "        html += '</div>'\n",
    "        return HTML(css + html)\n",
    "    \n",
    "    def __call__(self, highlight=list[Note]):\n",
    "        return self.__ft__(highlight)"
   ]
  },
  {
   "cell_type": "code",
   "execution_count": null,
   "metadata": {},
   "outputs": [
    {
     "data": {
      "text/html": [
       "\n",
       "    <style>\n",
       "    .piano { background: #222; padding: 20px 0; position: relative; width: 480px; }\n",
       "    .white-keys { display: flex; }\n",
       "    .white-key {\n",
       "        width: 40px; height: 125px; background: #fff;\n",
       "        border: 1px solid #000;\n",
       "        color: #111; font-size: 18px; text-align: center; line-height: 200px; font-family: Arial;\n",
       "        position: relative; z-index: 1;\n",
       "    }\n",
       "    .black-key {\n",
       "        width: 20px; height: 80px; background: #000; color: #fff;\n",
       "        border: 1px solid #333; position: absolute; z-index: 2;\n",
       "        text-align: center; line-height: 100px; font-family: Arial; font-size: 14px;\n",
       "        left: 0; top: 20px; pointer-events: none;\n",
       "    }\n",
       "    .highlight { background: #ff0 !important; color: #000 !important; }\n",
       "    .highlight-black { background: #ff0 !important; color: #000 !important; }\n",
       "    </style>\n",
       "    <div class=\"piano\" style=\"width:440px\"><div class=\"white-keys\"><div class=\"white-key\">C</div><div class=\"white-key\">D</div><div class=\"white-key\">E</div><div class=\"white-key\">F</div><div class=\"white-key\">G</div><div class=\"white-key\">A</div><div class=\"white-key\">B</div><div class=\"white-key\">C</div><div class=\"white-key\">D</div><div class=\"white-key\">E</div><div class=\"white-key\">F</div><div class=\"black-key\" style=\"left:26px\">C#</div><div class=\"black-key\" style=\"left:66px\">D#</div><div class=\"black-key\" style=\"left:146px\">F#</div><div class=\"black-key\" style=\"left:186px\">G#</div><div class=\"black-key\" style=\"left:226px\">A#</div><div class=\"black-key\" style=\"left:306px\">C#</div><div class=\"black-key\" style=\"left:346px\">D#</div><div class=\"black-key\" style=\"left:426px\">F#</div></div>"
      ],
      "text/plain": [
       "<IPython.core.display.HTML object>"
      ]
     },
     "execution_count": null,
     "metadata": {},
     "output_type": "execute_result"
    }
   ],
   "source": [
    "piano = Piano()\n",
    "piano()"
   ]
  },
  {
   "cell_type": "markdown",
   "metadata": {},
   "source": [
    "We can highlight objects on the piano by providing a list of `Note` objects.\n",
    "\n",
    "For example, here we highlight the `C#` notes on the piano."
   ]
  },
  {
   "cell_type": "code",
   "execution_count": null,
   "metadata": {},
   "outputs": [
    {
     "data": {
      "text/html": [
       "\n",
       "    <style>\n",
       "    .piano { background: #222; padding: 20px 0; position: relative; width: 480px; }\n",
       "    .white-keys { display: flex; }\n",
       "    .white-key {\n",
       "        width: 40px; height: 125px; background: #fff;\n",
       "        border: 1px solid #000;\n",
       "        color: #111; font-size: 18px; text-align: center; line-height: 200px; font-family: Arial;\n",
       "        position: relative; z-index: 1;\n",
       "    }\n",
       "    .black-key {\n",
       "        width: 20px; height: 80px; background: #000; color: #fff;\n",
       "        border: 1px solid #333; position: absolute; z-index: 2;\n",
       "        text-align: center; line-height: 100px; font-family: Arial; font-size: 14px;\n",
       "        left: 0; top: 20px; pointer-events: none;\n",
       "    }\n",
       "    .highlight { background: #ff0 !important; color: #000 !important; }\n",
       "    .highlight-black { background: #ff0 !important; color: #000 !important; }\n",
       "    </style>\n",
       "    <div class=\"piano\" style=\"width:440px\"><div class=\"white-keys\"><div class=\"white-key\">C</div><div class=\"white-key\">D</div><div class=\"white-key\">E</div><div class=\"white-key\">F</div><div class=\"white-key\">G</div><div class=\"white-key\">A</div><div class=\"white-key\">B</div><div class=\"white-key\">C</div><div class=\"white-key\">D</div><div class=\"white-key\">E</div><div class=\"white-key\">F</div><div class=\"black-key highlight-black\" style=\"left:26px\">C#</div><div class=\"black-key\" style=\"left:66px\">D#</div><div class=\"black-key\" style=\"left:146px\">F#</div><div class=\"black-key\" style=\"left:186px\">G#</div><div class=\"black-key\" style=\"left:226px\">A#</div><div class=\"black-key highlight-black\" style=\"left:306px\">C#</div><div class=\"black-key\" style=\"left:346px\">D#</div><div class=\"black-key\" style=\"left:426px\">F#</div></div>"
      ],
      "text/plain": [
       "<IPython.core.display.HTML object>"
      ]
     },
     "execution_count": null,
     "metadata": {},
     "output_type": "execute_result"
    }
   ],
   "source": [
    "piano(Note(\"C#\"))"
   ]
  },
  {
   "cell_type": "markdown",
   "metadata": {},
   "source": [
    "`Chord` objects can be visualized on the piano by providing the underlying `Note` objects. We can provide `Note.notes` to the rendering method."
   ]
  },
  {
   "cell_type": "code",
   "execution_count": null,
   "metadata": {},
   "outputs": [
    {
     "data": {
      "text/plain": [
       "[musy.core.Note(note='C', oct=4),\n",
       " musy.core.Note(note='E', oct=4),\n",
       " musy.core.Note(note='G', oct=4),\n",
       " musy.core.Note(note='B', oct=4)]"
      ]
     },
     "execution_count": null,
     "metadata": {},
     "output_type": "execute_result"
    }
   ],
   "source": [
    "# Notes for a Cmaj7 chord\n",
    "chord = Chord.from_short(\"Cmaj7\")\n",
    "chord.notes"
   ]
  },
  {
   "cell_type": "code",
   "execution_count": null,
   "metadata": {},
   "outputs": [
    {
     "data": {
      "text/html": [
       "\n",
       "    <style>\n",
       "    .piano { background: #222; padding: 20px 0; position: relative; width: 480px; }\n",
       "    .white-keys { display: flex; }\n",
       "    .white-key {\n",
       "        width: 40px; height: 125px; background: #fff;\n",
       "        border: 1px solid #000;\n",
       "        color: #111; font-size: 18px; text-align: center; line-height: 200px; font-family: Arial;\n",
       "        position: relative; z-index: 1;\n",
       "    }\n",
       "    .black-key {\n",
       "        width: 20px; height: 80px; background: #000; color: #fff;\n",
       "        border: 1px solid #333; position: absolute; z-index: 2;\n",
       "        text-align: center; line-height: 100px; font-family: Arial; font-size: 14px;\n",
       "        left: 0; top: 20px; pointer-events: none;\n",
       "    }\n",
       "    .highlight { background: #ff0 !important; color: #000 !important; }\n",
       "    .highlight-black { background: #ff0 !important; color: #000 !important; }\n",
       "    </style>\n",
       "    <div class=\"piano\" style=\"width:440px\"><div class=\"white-keys\"><div class=\"white-key highlight\">C</div><div class=\"white-key\">D</div><div class=\"white-key highlight\">E</div><div class=\"white-key\">F</div><div class=\"white-key highlight\">G</div><div class=\"white-key\">A</div><div class=\"white-key highlight\">B</div><div class=\"white-key highlight\">C</div><div class=\"white-key\">D</div><div class=\"white-key highlight\">E</div><div class=\"white-key\">F</div><div class=\"black-key\" style=\"left:26px\">C#</div><div class=\"black-key\" style=\"left:66px\">D#</div><div class=\"black-key\" style=\"left:146px\">F#</div><div class=\"black-key\" style=\"left:186px\">G#</div><div class=\"black-key\" style=\"left:226px\">A#</div><div class=\"black-key\" style=\"left:306px\">C#</div><div class=\"black-key\" style=\"left:346px\">D#</div><div class=\"black-key\" style=\"left:426px\">F#</div></div>"
      ],
      "text/plain": [
       "<IPython.core.display.HTML object>"
      ]
     },
     "execution_count": null,
     "metadata": {},
     "output_type": "execute_result"
    }
   ],
   "source": [
    "piano(chord.notes)"
   ]
  },
  {
   "cell_type": "markdown",
   "metadata": {},
   "source": [
    "A scale can be highlighted by calling the `get_notes` method on a `Scale` object. This will return a list of `Note` objects for a given root note which the rendering method accepts."
   ]
  },
  {
   "cell_type": "code",
   "execution_count": null,
   "metadata": {},
   "outputs": [
    {
     "data": {
      "text/plain": [
       "[musy.core.Note(note='D', oct=4),\n",
       " musy.core.Note(note='E', oct=4),\n",
       " musy.core.Note(note='F#', oct=4),\n",
       " musy.core.Note(note='G', oct=4),\n",
       " musy.core.Note(note='A', oct=4),\n",
       " musy.core.Note(note='B', oct=4),\n",
       " musy.core.Note(note='C#', oct=5)]"
      ]
     },
     "execution_count": null,
     "metadata": {},
     "output_type": "execute_result"
    }
   ],
   "source": [
    "scale_notes = Scale('major').get_notes(\"D\")\n",
    "scale_notes"
   ]
  },
  {
   "cell_type": "code",
   "execution_count": null,
   "metadata": {},
   "outputs": [
    {
     "data": {
      "text/html": [
       "\n",
       "    <style>\n",
       "    .piano { background: #222; padding: 20px 0; position: relative; width: 480px; }\n",
       "    .white-keys { display: flex; }\n",
       "    .white-key {\n",
       "        width: 40px; height: 125px; background: #fff;\n",
       "        border: 1px solid #000;\n",
       "        color: #111; font-size: 18px; text-align: center; line-height: 200px; font-family: Arial;\n",
       "        position: relative; z-index: 1;\n",
       "    }\n",
       "    .black-key {\n",
       "        width: 20px; height: 80px; background: #000; color: #fff;\n",
       "        border: 1px solid #333; position: absolute; z-index: 2;\n",
       "        text-align: center; line-height: 100px; font-family: Arial; font-size: 14px;\n",
       "        left: 0; top: 20px; pointer-events: none;\n",
       "    }\n",
       "    .highlight { background: #ff0 !important; color: #000 !important; }\n",
       "    .highlight-black { background: #ff0 !important; color: #000 !important; }\n",
       "    </style>\n",
       "    <div class=\"piano\" style=\"width:440px\"><div class=\"white-keys\"><div class=\"white-key\">C</div><div class=\"white-key highlight\">D</div><div class=\"white-key highlight\">E</div><div class=\"white-key\">F</div><div class=\"white-key highlight\">G</div><div class=\"white-key highlight\">A</div><div class=\"white-key highlight\">B</div><div class=\"white-key\">C</div><div class=\"white-key highlight\">D</div><div class=\"white-key highlight\">E</div><div class=\"white-key\">F</div><div class=\"black-key highlight-black\" style=\"left:26px\">C#</div><div class=\"black-key\" style=\"left:66px\">D#</div><div class=\"black-key highlight-black\" style=\"left:146px\">F#</div><div class=\"black-key\" style=\"left:186px\">G#</div><div class=\"black-key\" style=\"left:226px\">A#</div><div class=\"black-key highlight-black\" style=\"left:306px\">C#</div><div class=\"black-key\" style=\"left:346px\">D#</div><div class=\"black-key highlight-black\" style=\"left:426px\">F#</div></div>"
      ],
      "text/plain": [
       "<IPython.core.display.HTML object>"
      ]
     },
     "execution_count": null,
     "metadata": {},
     "output_type": "execute_result"
    }
   ],
   "source": [
    "piano(scale_notes)"
   ]
  },
  {
   "cell_type": "code",
   "execution_count": null,
   "metadata": {},
   "outputs": [
    {
     "data": {
      "text/plain": [
       "[musy.core.Note(note='D', oct=4),\n",
       " musy.core.Note(note='Eb', oct=4),\n",
       " musy.core.Note(note='F#', oct=4),\n",
       " musy.core.Note(note='G', oct=4),\n",
       " musy.core.Note(note='A', oct=4),\n",
       " musy.core.Note(note='Bb', oct=4),\n",
       " musy.core.Note(note='C', oct=5)]"
      ]
     },
     "execution_count": null,
     "metadata": {},
     "output_type": "execute_result"
    }
   ],
   "source": [
    "phry_dom_notes = Scale(\"phrygian dominant\").get_notes(\"D\")\n",
    "phry_dom_notes"
   ]
  },
  {
   "cell_type": "code",
   "execution_count": null,
   "metadata": {},
   "outputs": [
    {
     "data": {
      "text/html": [
       "\n",
       "    <style>\n",
       "    .piano { background: #222; padding: 20px 0; position: relative; width: 480px; }\n",
       "    .white-keys { display: flex; }\n",
       "    .white-key {\n",
       "        width: 40px; height: 125px; background: #fff;\n",
       "        border: 1px solid #000;\n",
       "        color: #111; font-size: 18px; text-align: center; line-height: 200px; font-family: Arial;\n",
       "        position: relative; z-index: 1;\n",
       "    }\n",
       "    .black-key {\n",
       "        width: 20px; height: 80px; background: #000; color: #fff;\n",
       "        border: 1px solid #333; position: absolute; z-index: 2;\n",
       "        text-align: center; line-height: 100px; font-family: Arial; font-size: 14px;\n",
       "        left: 0; top: 20px; pointer-events: none;\n",
       "    }\n",
       "    .highlight { background: #ff0 !important; color: #000 !important; }\n",
       "    .highlight-black { background: #ff0 !important; color: #000 !important; }\n",
       "    </style>\n",
       "    <div class=\"piano\" style=\"width:440px\"><div class=\"white-keys\"><div class=\"white-key highlight\">C</div><div class=\"white-key highlight\">D</div><div class=\"white-key\">E</div><div class=\"white-key\">F</div><div class=\"white-key highlight\">G</div><div class=\"white-key highlight\">A</div><div class=\"white-key\">B</div><div class=\"white-key highlight\">C</div><div class=\"white-key highlight\">D</div><div class=\"white-key\">E</div><div class=\"white-key\">F</div><div class=\"black-key\" style=\"left:26px\">C#</div><div class=\"black-key highlight-black\" style=\"left:66px\">D#</div><div class=\"black-key highlight-black\" style=\"left:146px\">F#</div><div class=\"black-key\" style=\"left:186px\">G#</div><div class=\"black-key highlight-black\" style=\"left:226px\">A#</div><div class=\"black-key\" style=\"left:306px\">C#</div><div class=\"black-key highlight-black\" style=\"left:346px\">D#</div><div class=\"black-key highlight-black\" style=\"left:426px\">F#</div></div>"
      ],
      "text/plain": [
       "<IPython.core.display.HTML object>"
      ]
     },
     "execution_count": null,
     "metadata": {},
     "output_type": "execute_result"
    }
   ],
   "source": [
    "piano(phry_dom_notes)"
   ]
  },
  {
   "cell_type": "markdown",
   "metadata": {},
   "source": [
    "# Guitar"
   ]
  },
  {
   "cell_type": "code",
   "execution_count": null,
   "metadata": {},
   "outputs": [],
   "source": [
    "#|export\n",
    "class Guitar:\n",
    "    def __ft__(self, highlight: list[Note] = None):\n",
    "        ..."
   ]
  },
  {
   "cell_type": "code",
   "execution_count": null,
   "metadata": {},
   "outputs": [],
   "source": [
    "#| hide\n",
    "import nbdev; nbdev.nbdev_export()"
   ]
  }
 ],
 "metadata": {
  "kernelspec": {
   "display_name": "python3",
   "language": "python",
   "name": "python3"
  }
 },
 "nbformat": 4,
 "nbformat_minor": 2
}
