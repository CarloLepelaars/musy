{
 "cells": [
  {
   "cell_type": "markdown",
   "metadata": {},
   "source": [
    "# Visualization\n",
    "\n",
    "> Visualization tools such as piano keys and guitar fretboards."
   ]
  },
  {
   "cell_type": "code",
   "execution_count": null,
   "metadata": {},
   "outputs": [],
   "source": [
    "#|default_exp viz"
   ]
  },
  {
   "cell_type": "code",
   "execution_count": null,
   "metadata": {},
   "outputs": [],
   "source": [
    "#|hide\n",
    "from nbdev.showdoc import *"
   ]
  },
  {
   "cell_type": "code",
   "execution_count": null,
   "metadata": {},
   "outputs": [],
   "source": [
    "#|export\n",
    "from fasthtml import *\n",
    "from fastcore.all import *\n",
    "from fasthtml.jupyter import render_ft\n",
    "from IPython.display import HTML\n",
    "\n",
    "from musy import Note, Chord, Scale\n",
    "\n",
    "render_ft()"
   ]
  },
  {
   "cell_type": "markdown",
   "metadata": {},
   "source": [
    "# Base"
   ]
  },
  {
   "cell_type": "markdown",
   "metadata": {},
   "source": [
    "Here we will create an Instrument base class to for code reusability."
   ]
  },
  {
   "cell_type": "code",
   "execution_count": null,
   "metadata": {},
   "outputs": [],
   "source": [
    "#|export\n",
    "class Instrument:\n",
    "    def __ft__(self, midi_notes: list[int] = []):\n",
    "        \"\"\"Base class for instrument visualizations. Override this method in subclasses.\"\"\"\n",
    "        raise NotImplementedError(\"Subclasses must implement __ft__\")\n",
    "    \n",
    "    def visualize_note(self, note: Note):\n",
    "        \"\"\"Visualize a single note on the instrument.\"\"\"\n",
    "        return self.__ft__([note.midi])\n",
    "    \n",
    "    def visualize_notes(self, notes: list[Note]):\n",
    "        \"\"\"Visualize multiple notes on the instrument.\"\"\"\n",
    "        return self.__ft__([n.midi for n in notes])\n",
    "    \n",
    "    def visualize_chord(self, chord: Chord):\n",
    "        \"\"\"Visualize a chord on the instrument.\"\"\"\n",
    "        return self.__ft__([n.midi for n in chord.notes])\n",
    "    \n",
    "    def visualize_scale(self, scale: Scale, root: str = \"C\", octs = 2):\n",
    "        \"\"\"Visualize a scale on the instrument across multiple octaves.\"\"\"\n",
    "        return self.__ft__([n.midi for oct in range(1, octs+1) for n in scale.get_notes(root, oct=oct)])\n",
    "    \n",
    "    def __call__(self, highlight = None):\n",
    "        \"\"\"Main entry point for visualization. Handles different input types.\"\"\"\n",
    "        if not highlight:\n",
    "            return self.__ft__([])\n",
    "        elif isinstance(highlight, Note):\n",
    "            return self.visualize_note(highlight)\n",
    "        elif isinstance(highlight, Chord):\n",
    "            return self.visualize_chord(highlight)\n",
    "        elif isinstance(highlight, Scale):\n",
    "            return self.visualize_scale(highlight)\n",
    "        elif isinstance(highlight, list):\n",
    "            return self.__ft__([n.midi for n in highlight])\n",
    "        else:\n",
    "            raise ValueError(f\"Unsupported type: {type(highlight)}\")"
   ]
  },
  {
   "cell_type": "markdown",
   "metadata": {},
   "source": [
    "# Piano"
   ]
  },
  {
   "cell_type": "markdown",
   "metadata": {},
   "source": [
    "The `Piano` object is the basic piano visualization on which we can place `Note`, `Interval`, `Chord` and `Scale` objects."
   ]
  },
  {
   "cell_type": "code",
   "execution_count": null,
   "metadata": {},
   "outputs": [],
   "source": [
    "#|export\n",
    "class Piano(Instrument):\n",
    "    def __ft__(self, midi_notes: list[int] = []):\n",
    "        midi_range = range(min(midi_notes or [60]), max(midi_notes or [60]) + 1)\n",
    "        octaves = range(min(midi_range) // 12, max(midi_range) // 12 + 1)\n",
    "        white_keys = [(note, Note(note, oct).midi) for oct in octaves for note in ['C', 'D', 'E', 'F', 'G', 'A', 'B']]\n",
    "        black_keys = [(sharp, Note(sharp, oct).midi, i + (oct - min(octaves)) * 7) \n",
    "                     for oct in octaves for i, sharp in enumerate(['C#', 'D#', 'F#', 'G#', 'A#'])]\n",
    "        \n",
    "        css = Style(\"\"\"\n",
    ".piano { background: #222; padding: 20px 0; position: relative; }\n",
    ".white-keys { display: flex; }\n",
    ".white-key, .black-key { text-align: center; font-family: Arial; position: relative; }\n",
    ".white-key { width: 40px; height: 125px; background: #fff; border: 1px solid #000; \n",
    "    color: #111; font-size: 18px; line-height: 200px; z-index: 1; }\n",
    ".black-key { width: 20px; height: 80px; background: #000; color: #fff; border: 1px solid #333;\n",
    "    position: absolute; z-index: 2; line-height: 100px; font-size: 14px; top: 20px; }\n",
    ".highlight { background: #ff0 !important; color: #000 !important; }\n",
    "\"\"\")\n",
    "        white_divs = [Div(note, cls=f\"white-key{' highlight' if midi in midi_notes else ''}\") for note, midi in white_keys]\n",
    "        black_divs = [Div(note, cls=f\"black-key{' highlight' if midi in midi_notes else ''}\", style=f\"left:{(idx + 1) * 40 - 11}px\") \n",
    "                     for note, midi, idx in black_keys]\n",
    "        return HTML(css + Div(Div(*white_divs, cls=\"white-keys\"), *black_divs, cls=\"piano\", style=f\"width:{len(white_keys)*40}px\"))"
   ]
  },
  {
   "cell_type": "markdown",
   "metadata": {},
   "source": [
    "## Initialization\n",
    "\n",
    "To get an empty piano, just call on an initialized `Piano` object without arguments."
   ]
  },
  {
   "cell_type": "code",
   "execution_count": null,
   "metadata": {},
   "outputs": [
    {
     "data": {
      "text/html": [
       "<style>\n",
       ".piano { background: #222; padding: 20px 0; position: relative; }\n",
       ".white-keys { display: flex; }\n",
       ".white-key, .black-key { text-align: center; font-family: Arial; position: relative; }\n",
       ".white-key { width: 40px; height: 125px; background: #fff; border: 1px solid #000; \n",
       "    color: #111; font-size: 18px; line-height: 200px; z-index: 1; }\n",
       ".black-key { width: 20px; height: 80px; background: #000; color: #fff; border: 1px solid #333;\n",
       "    position: absolute; z-index: 2; line-height: 100px; font-size: 14px; top: 20px; }\n",
       ".highlight { background: #ff0 !important; color: #000 !important; }\n",
       "</style><div class=\"piano\" style=\"width:280px\"><div class=\"white-keys\"><div class=\"white-key\">C</div><div class=\"white-key\">D</div><div class=\"white-key\">E</div><div class=\"white-key\">F</div><div class=\"white-key\">G</div><div class=\"white-key\">A</div><div class=\"white-key\">B</div></div><div class=\"black-key\" style=\"left:29px\">C#</div><div class=\"black-key\" style=\"left:69px\">D#</div><div class=\"black-key\" style=\"left:109px\">F#</div><div class=\"black-key\" style=\"left:149px\">G#</div><div class=\"black-key\" style=\"left:189px\">A#</div></div>"
      ],
      "text/plain": [
       "<IPython.core.display.HTML object>"
      ]
     },
     "execution_count": null,
     "metadata": {},
     "output_type": "execute_result"
    }
   ],
   "source": [
    "piano = Piano()\n",
    "piano()"
   ]
  },
  {
   "cell_type": "markdown",
   "metadata": {},
   "source": [
    "## Highlighting\n",
    "\n",
    "We can highlight single `Note` objects with the `visualize_note` method.\n",
    "\n",
    "For example, here we highlight the `C#` notes on the piano."
   ]
  },
  {
   "cell_type": "code",
   "execution_count": null,
   "metadata": {},
   "outputs": [
    {
     "data": {
      "text/html": [
       "<style>\n",
       ".piano { background: #222; padding: 20px 0; position: relative; }\n",
       ".white-keys { display: flex; }\n",
       ".white-key, .black-key { text-align: center; font-family: Arial; position: relative; }\n",
       ".white-key { width: 40px; height: 125px; background: #fff; border: 1px solid #000; \n",
       "    color: #111; font-size: 18px; line-height: 200px; z-index: 1; }\n",
       ".black-key { width: 20px; height: 80px; background: #000; color: #fff; border: 1px solid #333;\n",
       "    position: absolute; z-index: 2; line-height: 100px; font-size: 14px; top: 20px; }\n",
       ".highlight { background: #ff0 !important; color: #000 !important; }\n",
       "</style><div class=\"piano\" style=\"width:280px\"><div class=\"white-keys\"><div class=\"white-key\">C</div><div class=\"white-key\">D</div><div class=\"white-key\">E</div><div class=\"white-key\">F</div><div class=\"white-key\">G</div><div class=\"white-key\">A</div><div class=\"white-key\">B</div></div><div class=\"black-key highlight\" style=\"left:29px\">C#</div><div class=\"black-key\" style=\"left:69px\">D#</div><div class=\"black-key\" style=\"left:109px\">F#</div><div class=\"black-key\" style=\"left:149px\">G#</div><div class=\"black-key\" style=\"left:189px\">A#</div></div>"
      ],
      "text/plain": [
       "<IPython.core.display.HTML object>"
      ]
     },
     "execution_count": null,
     "metadata": {},
     "output_type": "execute_result"
    }
   ],
   "source": [
    "piano.visualize_note(Note(\"C#\"))"
   ]
  },
  {
   "cell_type": "markdown",
   "metadata": {},
   "source": [
    "`Chord` objects can be visualized on the piano by passing a chord to `visualize_chord`."
   ]
  },
  {
   "cell_type": "code",
   "execution_count": null,
   "metadata": {},
   "outputs": [
    {
     "data": {
      "text/plain": [
       "[C4, E4, G4, B4]"
      ]
     },
     "execution_count": null,
     "metadata": {},
     "output_type": "execute_result"
    }
   ],
   "source": [
    "# Notes for a Cmaj7 chord\n",
    "chord = Chord.from_short(\"Cmaj7\")\n",
    "chord.notes"
   ]
  },
  {
   "cell_type": "code",
   "execution_count": null,
   "metadata": {},
   "outputs": [
    {
     "data": {
      "text/html": [
       "<style>\n",
       ".piano { background: #222; padding: 20px 0; position: relative; }\n",
       ".white-keys { display: flex; }\n",
       ".white-key, .black-key { text-align: center; font-family: Arial; position: relative; }\n",
       ".white-key { width: 40px; height: 125px; background: #fff; border: 1px solid #000; \n",
       "    color: #111; font-size: 18px; line-height: 200px; z-index: 1; }\n",
       ".black-key { width: 20px; height: 80px; background: #000; color: #fff; border: 1px solid #333;\n",
       "    position: absolute; z-index: 2; line-height: 100px; font-size: 14px; top: 20px; }\n",
       ".highlight { background: #ff0 !important; color: #000 !important; }\n",
       "</style><div class=\"piano\" style=\"width:280px\"><div class=\"white-keys\"><div class=\"white-key highlight\">C</div><div class=\"white-key\">D</div><div class=\"white-key highlight\">E</div><div class=\"white-key\">F</div><div class=\"white-key highlight\">G</div><div class=\"white-key\">A</div><div class=\"white-key highlight\">B</div></div><div class=\"black-key\" style=\"left:29px\">C#</div><div class=\"black-key\" style=\"left:69px\">D#</div><div class=\"black-key\" style=\"left:109px\">F#</div><div class=\"black-key\" style=\"left:149px\">G#</div><div class=\"black-key\" style=\"left:189px\">A#</div></div>"
      ],
      "text/plain": [
       "<IPython.core.display.HTML object>"
      ]
     },
     "execution_count": null,
     "metadata": {},
     "output_type": "execute_result"
    }
   ],
   "source": [
    "piano.visualize_chord(chord)"
   ]
  },
  {
   "cell_type": "markdown",
   "metadata": {},
   "source": [
    "A scale can be highlighted by calling `visualize_scale` with a `Scale` object and a root note."
   ]
  },
  {
   "cell_type": "code",
   "execution_count": null,
   "metadata": {},
   "outputs": [
    {
     "data": {
      "text/html": [
       "<style>\n",
       ".piano { background: #222; padding: 20px 0; position: relative; }\n",
       ".white-keys { display: flex; }\n",
       ".white-key, .black-key { text-align: center; font-family: Arial; position: relative; }\n",
       ".white-key { width: 40px; height: 125px; background: #fff; border: 1px solid #000; \n",
       "    color: #111; font-size: 18px; line-height: 200px; z-index: 1; }\n",
       ".black-key { width: 20px; height: 80px; background: #000; color: #fff; border: 1px solid #333;\n",
       "    position: absolute; z-index: 2; line-height: 100px; font-size: 14px; top: 20px; }\n",
       ".highlight { background: #ff0 !important; color: #000 !important; }\n",
       "</style><div class=\"piano\" style=\"width:840px\"><div class=\"white-keys\"><div class=\"white-key\">C</div><div class=\"white-key highlight\">D</div><div class=\"white-key highlight\">E</div><div class=\"white-key\">F</div><div class=\"white-key highlight\">G</div><div class=\"white-key highlight\">A</div><div class=\"white-key highlight\">B</div><div class=\"white-key\">C</div><div class=\"white-key highlight\">D</div><div class=\"white-key highlight\">E</div><div class=\"white-key\">F</div><div class=\"white-key highlight\">G</div><div class=\"white-key highlight\">A</div><div class=\"white-key highlight\">B</div><div class=\"white-key\">C</div><div class=\"white-key\">D</div><div class=\"white-key\">E</div><div class=\"white-key\">F</div><div class=\"white-key\">G</div><div class=\"white-key\">A</div><div class=\"white-key\">B</div></div><div class=\"black-key\" style=\"left:29px\">C#</div><div class=\"black-key\" style=\"left:69px\">D#</div><div class=\"black-key highlight\" style=\"left:109px\">F#</div><div class=\"black-key\" style=\"left:149px\">G#</div><div class=\"black-key\" style=\"left:189px\">A#</div><div class=\"black-key highlight\" style=\"left:309px\">C#</div><div class=\"black-key\" style=\"left:349px\">D#</div><div class=\"black-key highlight\" style=\"left:389px\">F#</div><div class=\"black-key\" style=\"left:429px\">G#</div><div class=\"black-key\" style=\"left:469px\">A#</div><div class=\"black-key highlight\" style=\"left:589px\">C#</div><div class=\"black-key\" style=\"left:629px\">D#</div><div class=\"black-key\" style=\"left:669px\">F#</div><div class=\"black-key\" style=\"left:709px\">G#</div><div class=\"black-key\" style=\"left:749px\">A#</div></div>"
      ],
      "text/plain": [
       "<IPython.core.display.HTML object>"
      ]
     },
     "execution_count": null,
     "metadata": {},
     "output_type": "execute_result"
    }
   ],
   "source": [
    "major = Scale(\"major\")\n",
    "piano.visualize_scale(major, root=\"D\")"
   ]
  },
  {
   "cell_type": "markdown",
   "metadata": {},
   "source": [
    "You can decide to visualize more octaves with the `octs` parameter."
   ]
  },
  {
   "cell_type": "code",
   "execution_count": null,
   "metadata": {},
   "outputs": [
    {
     "data": {
      "text/html": [
       "<style>\n",
       ".piano { background: #222; padding: 20px 0; position: relative; }\n",
       ".white-keys { display: flex; }\n",
       ".white-key, .black-key { text-align: center; font-family: Arial; position: relative; }\n",
       ".white-key { width: 40px; height: 125px; background: #fff; border: 1px solid #000; \n",
       "    color: #111; font-size: 18px; line-height: 200px; z-index: 1; }\n",
       ".black-key { width: 20px; height: 80px; background: #000; color: #fff; border: 1px solid #333;\n",
       "    position: absolute; z-index: 2; line-height: 100px; font-size: 14px; top: 20px; }\n",
       ".highlight { background: #ff0 !important; color: #000 !important; }\n",
       "</style><div class=\"piano\" style=\"width:840px\"><div class=\"white-keys\"><div class=\"white-key highlight\">C</div><div class=\"white-key\">D</div><div class=\"white-key highlight\">E</div><div class=\"white-key highlight\">F</div><div class=\"white-key highlight\">G</div><div class=\"white-key\">A</div><div class=\"white-key highlight\">B</div><div class=\"white-key highlight\">C</div><div class=\"white-key\">D</div><div class=\"white-key highlight\">E</div><div class=\"white-key highlight\">F</div><div class=\"white-key highlight\">G</div><div class=\"white-key\">A</div><div class=\"white-key highlight\">B</div><div class=\"white-key highlight\">C</div><div class=\"white-key\">D</div><div class=\"white-key highlight\">E</div><div class=\"white-key highlight\">F</div><div class=\"white-key highlight\">G</div><div class=\"white-key\">A</div><div class=\"white-key highlight\">B</div></div><div class=\"black-key highlight\" style=\"left:29px\">C#</div><div class=\"black-key\" style=\"left:69px\">D#</div><div class=\"black-key\" style=\"left:109px\">F#</div><div class=\"black-key highlight\" style=\"left:149px\">G#</div><div class=\"black-key\" style=\"left:189px\">A#</div><div class=\"black-key highlight\" style=\"left:309px\">C#</div><div class=\"black-key\" style=\"left:349px\">D#</div><div class=\"black-key\" style=\"left:389px\">F#</div><div class=\"black-key highlight\" style=\"left:429px\">G#</div><div class=\"black-key\" style=\"left:469px\">A#</div><div class=\"black-key highlight\" style=\"left:589px\">C#</div><div class=\"black-key\" style=\"left:629px\">D#</div><div class=\"black-key\" style=\"left:669px\">F#</div><div class=\"black-key highlight\" style=\"left:709px\">G#</div><div class=\"black-key\" style=\"left:749px\">A#</div></div>"
      ],
      "text/plain": [
       "<IPython.core.display.HTML object>"
      ]
     },
     "execution_count": null,
     "metadata": {},
     "output_type": "execute_result"
    }
   ],
   "source": [
    "double_harmonic_major = Scale(\"double harmonic major\")\n",
    "piano.visualize_scale(double_harmonic_major, root=\"C\", octs=3)"
   ]
  },
  {
   "cell_type": "markdown",
   "metadata": {},
   "source": [
    "# Guitar"
   ]
  },
  {
   "cell_type": "markdown",
   "metadata": {},
   "source": [
    "Just like with `Piano` we can visualize `Note`, `Chord` and `Scale` objects on a guitar fretboard."
   ]
  },
  {
   "cell_type": "code",
   "execution_count": null,
   "metadata": {},
   "outputs": [],
   "source": [
    "#|export\n",
    "class Guitar(Instrument):\n",
    "    def __ft__(self, midi_notes: list[int] = []):\n",
    "        num_frets = 22\n",
    "        string_names = ['E', 'B', 'G', 'D', 'A', 'E']\n",
    "        standard_tuning = [64, 59, 55, 50, 45, 40]\n",
    "\n",
    "        # Fret numbers row\n",
    "        fret_nums = [Div(str(fret), cls=\"guitar-fret-num\") for fret in range(num_frets+1)]\n",
    "        fret_nums = Div(Div(\"\", cls=\"guitar-string-name\"), *fret_nums, cls=\"guitar-fret-nums\")\n",
    "\n",
    "        # Fretboard grid\n",
    "        rows = []\n",
    "        for name, open_midi in zip(string_names, standard_tuning):\n",
    "            cells = []\n",
    "            for fret in range(num_frets+1):\n",
    "                midi = open_midi + fret\n",
    "                if midi in midi_notes:\n",
    "                    cells.append(Div(str(Note.from_midi(midi)), cls=\"guitar-note\"))\n",
    "                else:\n",
    "                    cells.append(Div(\"\", cls=\"guitar-cell\"))\n",
    "            rows.append(Div(Div(name, cls=\"guitar-string-name\"), *cells, cls=\"guitar-row\"))\n",
    "\n",
    "        # CSS\n",
    "        css = Style(\"\"\"\n",
    ".guitar-fretboard { background: #c49e60; border-radius: 8px; padding: 8px; display: inline-block; }\n",
    ".guitar-fret-nums { display: flex; font-size: 12px; color: #333; margin-bottom: 2px; }\n",
    ".guitar-fret-num { width: 32px; text-align: center; font-weight: bold; border-right: 2.5px solid #888; }\n",
    ".guitar-dot { height: 6px; text-align: center; color: #444; font-size: 10px; }\n",
    ".guitar-row { display: flex; align-items: center; position: relative; }\n",
    ".guitar-string-name { width: 24px; text-align: right; margin-right: 0px; font-weight: bold; color: #444; }\n",
    ".guitar-cell, .guitar-note { width: 32px; height: 32px; display: flex; align-items: center; justify-content: center; border-right: 2.5px solid #888; position: relative; }\n",
    ".guitar-cell { border-bottom: 1.2px solid #bbb; background: none; }\n",
    ".guitar-note { background: rgba(255, 255, 0, 0.7); color: #222; \n",
    "\"\"\")\n",
    "        board = Div(\n",
    "            fret_nums,\n",
    "            *rows,\n",
    "            cls=\"guitar-fretboard\"\n",
    "        )\n",
    "        return HTML(css + board)\n",
    "    \n",
    "    def visualize_chord(self, chord: Chord):\n",
    "        return self.__ft__([Note(str(n), oct).midi for oct in range(1, 8) for n in list(chord)])\n",
    "    \n",
    "    def visualize_scale(self, scale: Scale, root: str = \"C\"):\n",
    "        return self.__ft__([n.midi for oct in range(1, 8) for n in scale.get_notes(root, oct=oct)])"
   ]
  },
  {
   "cell_type": "code",
   "execution_count": null,
   "metadata": {},
   "outputs": [
    {
     "data": {
      "text/html": [
       "<style>\n",
       ".guitar-fretboard { background: #c49e60; border-radius: 8px; padding: 8px; display: inline-block; }\n",
       ".guitar-fret-nums { display: flex; font-size: 12px; color: #333; margin-bottom: 2px; }\n",
       ".guitar-fret-num { width: 32px; text-align: center; font-weight: bold; border-right: 2.5px solid #888; }\n",
       ".guitar-dot { height: 6px; text-align: center; color: #444; font-size: 10px; }\n",
       ".guitar-row { display: flex; align-items: center; position: relative; }\n",
       ".guitar-string-name { width: 24px; text-align: right; margin-right: 0px; font-weight: bold; color: #444; }\n",
       ".guitar-cell, .guitar-note { width: 32px; height: 32px; display: flex; align-items: center; justify-content: center; border-right: 2.5px solid #888; position: relative; }\n",
       ".guitar-cell { border-bottom: 1.2px solid #bbb; background: none; }\n",
       ".guitar-note { background: rgba(255, 255, 0, 0.7); color: #222; \n",
       "</style><div class=\"guitar-fretboard\"><div class=\"guitar-fret-nums\"><div class=\"guitar-string-name\"></div><div class=\"guitar-fret-num\">0</div><div class=\"guitar-fret-num\">1</div><div class=\"guitar-fret-num\">2</div><div class=\"guitar-fret-num\">3</div><div class=\"guitar-fret-num\">4</div><div class=\"guitar-fret-num\">5</div><div class=\"guitar-fret-num\">6</div><div class=\"guitar-fret-num\">7</div><div class=\"guitar-fret-num\">8</div><div class=\"guitar-fret-num\">9</div><div class=\"guitar-fret-num\">10</div><div class=\"guitar-fret-num\">11</div><div class=\"guitar-fret-num\">12</div><div class=\"guitar-fret-num\">13</div><div class=\"guitar-fret-num\">14</div><div class=\"guitar-fret-num\">15</div><div class=\"guitar-fret-num\">16</div><div class=\"guitar-fret-num\">17</div><div class=\"guitar-fret-num\">18</div><div class=\"guitar-fret-num\">19</div><div class=\"guitar-fret-num\">20</div><div class=\"guitar-fret-num\">21</div><div class=\"guitar-fret-num\">22</div></div><div class=\"guitar-row\"><div class=\"guitar-string-name\">E</div><div class=\"guitar-cell\"></div><div class=\"guitar-cell\"></div><div class=\"guitar-cell\"></div><div class=\"guitar-cell\"></div><div class=\"guitar-cell\"></div><div class=\"guitar-cell\"></div><div class=\"guitar-cell\"></div><div class=\"guitar-cell\"></div><div class=\"guitar-cell\"></div><div class=\"guitar-cell\"></div><div class=\"guitar-cell\"></div><div class=\"guitar-cell\"></div><div class=\"guitar-cell\"></div><div class=\"guitar-cell\"></div><div class=\"guitar-cell\"></div><div class=\"guitar-cell\"></div><div class=\"guitar-cell\"></div><div class=\"guitar-cell\"></div><div class=\"guitar-cell\"></div><div class=\"guitar-cell\"></div><div class=\"guitar-cell\"></div><div class=\"guitar-cell\"></div><div class=\"guitar-cell\"></div></div><div class=\"guitar-row\"><div class=\"guitar-string-name\">B</div><div class=\"guitar-cell\"></div><div class=\"guitar-note\">C</div><div class=\"guitar-cell\"></div><div class=\"guitar-cell\"></div><div class=\"guitar-cell\"></div><div class=\"guitar-cell\"></div><div class=\"guitar-cell\"></div><div class=\"guitar-cell\"></div><div class=\"guitar-cell\"></div><div class=\"guitar-cell\"></div><div class=\"guitar-cell\"></div><div class=\"guitar-cell\"></div><div class=\"guitar-cell\"></div><div class=\"guitar-cell\"></div><div class=\"guitar-cell\"></div><div class=\"guitar-cell\"></div><div class=\"guitar-cell\"></div><div class=\"guitar-cell\"></div><div class=\"guitar-cell\"></div><div class=\"guitar-cell\"></div><div class=\"guitar-cell\"></div><div class=\"guitar-cell\"></div><div class=\"guitar-cell\"></div></div><div class=\"guitar-row\"><div class=\"guitar-string-name\">G</div><div class=\"guitar-cell\"></div><div class=\"guitar-cell\"></div><div class=\"guitar-cell\"></div><div class=\"guitar-cell\"></div><div class=\"guitar-cell\"></div><div class=\"guitar-note\">C</div><div class=\"guitar-cell\"></div><div class=\"guitar-cell\"></div><div class=\"guitar-cell\"></div><div class=\"guitar-cell\"></div><div class=\"guitar-cell\"></div><div class=\"guitar-cell\"></div><div class=\"guitar-cell\"></div><div class=\"guitar-cell\"></div><div class=\"guitar-cell\"></div><div class=\"guitar-cell\"></div><div class=\"guitar-cell\"></div><div class=\"guitar-cell\"></div><div class=\"guitar-cell\"></div><div class=\"guitar-cell\"></div><div class=\"guitar-cell\"></div><div class=\"guitar-cell\"></div><div class=\"guitar-cell\"></div></div><div class=\"guitar-row\"><div class=\"guitar-string-name\">D</div><div class=\"guitar-cell\"></div><div class=\"guitar-cell\"></div><div class=\"guitar-cell\"></div><div class=\"guitar-cell\"></div><div class=\"guitar-cell\"></div><div class=\"guitar-cell\"></div><div class=\"guitar-cell\"></div><div class=\"guitar-cell\"></div><div class=\"guitar-cell\"></div><div class=\"guitar-cell\"></div><div class=\"guitar-note\">C</div><div class=\"guitar-cell\"></div><div class=\"guitar-cell\"></div><div class=\"guitar-cell\"></div><div class=\"guitar-cell\"></div><div class=\"guitar-cell\"></div><div class=\"guitar-cell\"></div><div class=\"guitar-cell\"></div><div class=\"guitar-cell\"></div><div class=\"guitar-cell\"></div><div class=\"guitar-cell\"></div><div class=\"guitar-cell\"></div><div class=\"guitar-cell\"></div></div><div class=\"guitar-row\"><div class=\"guitar-string-name\">A</div><div class=\"guitar-cell\"></div><div class=\"guitar-cell\"></div><div class=\"guitar-cell\"></div><div class=\"guitar-cell\"></div><div class=\"guitar-cell\"></div><div class=\"guitar-cell\"></div><div class=\"guitar-cell\"></div><div class=\"guitar-cell\"></div><div class=\"guitar-cell\"></div><div class=\"guitar-cell\"></div><div class=\"guitar-cell\"></div><div class=\"guitar-cell\"></div><div class=\"guitar-cell\"></div><div class=\"guitar-cell\"></div><div class=\"guitar-cell\"></div><div class=\"guitar-note\">C</div><div class=\"guitar-cell\"></div><div class=\"guitar-cell\"></div><div class=\"guitar-cell\"></div><div class=\"guitar-cell\"></div><div class=\"guitar-cell\"></div><div class=\"guitar-cell\"></div><div class=\"guitar-cell\"></div></div><div class=\"guitar-row\"><div class=\"guitar-string-name\">E</div><div class=\"guitar-cell\"></div><div class=\"guitar-cell\"></div><div class=\"guitar-cell\"></div><div class=\"guitar-cell\"></div><div class=\"guitar-cell\"></div><div class=\"guitar-cell\"></div><div class=\"guitar-cell\"></div><div class=\"guitar-cell\"></div><div class=\"guitar-cell\"></div><div class=\"guitar-cell\"></div><div class=\"guitar-cell\"></div><div class=\"guitar-cell\"></div><div class=\"guitar-cell\"></div><div class=\"guitar-cell\"></div><div class=\"guitar-cell\"></div><div class=\"guitar-cell\"></div><div class=\"guitar-cell\"></div><div class=\"guitar-cell\"></div><div class=\"guitar-cell\"></div><div class=\"guitar-cell\"></div><div class=\"guitar-note\">C</div><div class=\"guitar-cell\"></div><div class=\"guitar-cell\"></div></div></div>"
      ],
      "text/plain": [
       "<IPython.core.display.HTML object>"
      ]
     },
     "execution_count": null,
     "metadata": {},
     "output_type": "execute_result"
    }
   ],
   "source": [
    "guitar = Guitar()\n",
    "guitar.visualize_note(Note(\"C\", oct=5))"
   ]
  },
  {
   "cell_type": "code",
   "execution_count": null,
   "metadata": {},
   "outputs": [
    {
     "data": {
      "text/html": [
       "<style>\n",
       ".guitar-fretboard { background: #c49e60; border-radius: 8px; padding: 8px; display: inline-block; }\n",
       ".guitar-fret-nums { display: flex; font-size: 12px; color: #333; margin-bottom: 2px; }\n",
       ".guitar-fret-num { width: 32px; text-align: center; font-weight: bold; border-right: 2.5px solid #888; }\n",
       ".guitar-dot { height: 6px; text-align: center; color: #444; font-size: 10px; }\n",
       ".guitar-row { display: flex; align-items: center; position: relative; }\n",
       ".guitar-string-name { width: 24px; text-align: right; margin-right: 0px; font-weight: bold; color: #444; }\n",
       ".guitar-cell, .guitar-note { width: 32px; height: 32px; display: flex; align-items: center; justify-content: center; border-right: 2.5px solid #888; position: relative; }\n",
       ".guitar-cell { border-bottom: 1.2px solid #bbb; background: none; }\n",
       ".guitar-note { background: rgba(255, 255, 0, 0.7); color: #222; \n",
       "</style><div class=\"guitar-fretboard\"><div class=\"guitar-fret-nums\"><div class=\"guitar-string-name\"></div><div class=\"guitar-fret-num\">0</div><div class=\"guitar-fret-num\">1</div><div class=\"guitar-fret-num\">2</div><div class=\"guitar-fret-num\">3</div><div class=\"guitar-fret-num\">4</div><div class=\"guitar-fret-num\">5</div><div class=\"guitar-fret-num\">6</div><div class=\"guitar-fret-num\">7</div><div class=\"guitar-fret-num\">8</div><div class=\"guitar-fret-num\">9</div><div class=\"guitar-fret-num\">10</div><div class=\"guitar-fret-num\">11</div><div class=\"guitar-fret-num\">12</div><div class=\"guitar-fret-num\">13</div><div class=\"guitar-fret-num\">14</div><div class=\"guitar-fret-num\">15</div><div class=\"guitar-fret-num\">16</div><div class=\"guitar-fret-num\">17</div><div class=\"guitar-fret-num\">18</div><div class=\"guitar-fret-num\">19</div><div class=\"guitar-fret-num\">20</div><div class=\"guitar-fret-num\">21</div><div class=\"guitar-fret-num\">22</div></div><div class=\"guitar-row\"><div class=\"guitar-string-name\">E</div><div class=\"guitar-note\">E</div><div class=\"guitar-cell\"></div><div class=\"guitar-cell\"></div><div class=\"guitar-note\">G</div><div class=\"guitar-cell\"></div><div class=\"guitar-cell\"></div><div class=\"guitar-cell\"></div><div class=\"guitar-note\">B</div><div class=\"guitar-note\">C</div><div class=\"guitar-cell\"></div><div class=\"guitar-cell\"></div><div class=\"guitar-cell\"></div><div class=\"guitar-note\">E</div><div class=\"guitar-cell\"></div><div class=\"guitar-cell\"></div><div class=\"guitar-note\">G</div><div class=\"guitar-cell\"></div><div class=\"guitar-cell\"></div><div class=\"guitar-cell\"></div><div class=\"guitar-note\">B</div><div class=\"guitar-note\">C</div><div class=\"guitar-cell\"></div><div class=\"guitar-cell\"></div></div><div class=\"guitar-row\"><div class=\"guitar-string-name\">B</div><div class=\"guitar-note\">B</div><div class=\"guitar-note\">C</div><div class=\"guitar-cell\"></div><div class=\"guitar-cell\"></div><div class=\"guitar-cell\"></div><div class=\"guitar-note\">E</div><div class=\"guitar-cell\"></div><div class=\"guitar-cell\"></div><div class=\"guitar-note\">G</div><div class=\"guitar-cell\"></div><div class=\"guitar-cell\"></div><div class=\"guitar-cell\"></div><div class=\"guitar-note\">B</div><div class=\"guitar-note\">C</div><div class=\"guitar-cell\"></div><div class=\"guitar-cell\"></div><div class=\"guitar-cell\"></div><div class=\"guitar-note\">E</div><div class=\"guitar-cell\"></div><div class=\"guitar-cell\"></div><div class=\"guitar-note\">G</div><div class=\"guitar-cell\"></div><div class=\"guitar-cell\"></div></div><div class=\"guitar-row\"><div class=\"guitar-string-name\">G</div><div class=\"guitar-note\">G</div><div class=\"guitar-cell\"></div><div class=\"guitar-cell\"></div><div class=\"guitar-cell\"></div><div class=\"guitar-note\">B</div><div class=\"guitar-note\">C</div><div class=\"guitar-cell\"></div><div class=\"guitar-cell\"></div><div class=\"guitar-cell\"></div><div class=\"guitar-note\">E</div><div class=\"guitar-cell\"></div><div class=\"guitar-cell\"></div><div class=\"guitar-note\">G</div><div class=\"guitar-cell\"></div><div class=\"guitar-cell\"></div><div class=\"guitar-cell\"></div><div class=\"guitar-note\">B</div><div class=\"guitar-note\">C</div><div class=\"guitar-cell\"></div><div class=\"guitar-cell\"></div><div class=\"guitar-cell\"></div><div class=\"guitar-note\">E</div><div class=\"guitar-cell\"></div></div><div class=\"guitar-row\"><div class=\"guitar-string-name\">D</div><div class=\"guitar-cell\"></div><div class=\"guitar-cell\"></div><div class=\"guitar-note\">E</div><div class=\"guitar-cell\"></div><div class=\"guitar-cell\"></div><div class=\"guitar-note\">G</div><div class=\"guitar-cell\"></div><div class=\"guitar-cell\"></div><div class=\"guitar-cell\"></div><div class=\"guitar-note\">B</div><div class=\"guitar-note\">C</div><div class=\"guitar-cell\"></div><div class=\"guitar-cell\"></div><div class=\"guitar-cell\"></div><div class=\"guitar-note\">E</div><div class=\"guitar-cell\"></div><div class=\"guitar-cell\"></div><div class=\"guitar-note\">G</div><div class=\"guitar-cell\"></div><div class=\"guitar-cell\"></div><div class=\"guitar-cell\"></div><div class=\"guitar-note\">B</div><div class=\"guitar-note\">C</div></div><div class=\"guitar-row\"><div class=\"guitar-string-name\">A</div><div class=\"guitar-cell\"></div><div class=\"guitar-cell\"></div><div class=\"guitar-note\">B</div><div class=\"guitar-note\">C</div><div class=\"guitar-cell\"></div><div class=\"guitar-cell\"></div><div class=\"guitar-cell\"></div><div class=\"guitar-note\">E</div><div class=\"guitar-cell\"></div><div class=\"guitar-cell\"></div><div class=\"guitar-note\">G</div><div class=\"guitar-cell\"></div><div class=\"guitar-cell\"></div><div class=\"guitar-cell\"></div><div class=\"guitar-note\">B</div><div class=\"guitar-note\">C</div><div class=\"guitar-cell\"></div><div class=\"guitar-cell\"></div><div class=\"guitar-cell\"></div><div class=\"guitar-note\">E</div><div class=\"guitar-cell\"></div><div class=\"guitar-cell\"></div><div class=\"guitar-note\">G</div></div><div class=\"guitar-row\"><div class=\"guitar-string-name\">E</div><div class=\"guitar-note\">E</div><div class=\"guitar-cell\"></div><div class=\"guitar-cell\"></div><div class=\"guitar-note\">G</div><div class=\"guitar-cell\"></div><div class=\"guitar-cell\"></div><div class=\"guitar-cell\"></div><div class=\"guitar-note\">B</div><div class=\"guitar-note\">C</div><div class=\"guitar-cell\"></div><div class=\"guitar-cell\"></div><div class=\"guitar-cell\"></div><div class=\"guitar-note\">E</div><div class=\"guitar-cell\"></div><div class=\"guitar-cell\"></div><div class=\"guitar-note\">G</div><div class=\"guitar-cell\"></div><div class=\"guitar-cell\"></div><div class=\"guitar-cell\"></div><div class=\"guitar-note\">B</div><div class=\"guitar-note\">C</div><div class=\"guitar-cell\"></div><div class=\"guitar-cell\"></div></div></div>"
      ],
      "text/plain": [
       "<IPython.core.display.HTML object>"
      ]
     },
     "execution_count": null,
     "metadata": {},
     "output_type": "execute_result"
    }
   ],
   "source": [
    "guitar.visualize_chord(Chord.from_short(\"Cmaj7\"))"
   ]
  },
  {
   "cell_type": "code",
   "execution_count": null,
   "metadata": {},
   "outputs": [
    {
     "data": {
      "text/html": [
       "<style>\n",
       ".guitar-fretboard { background: #c49e60; border-radius: 8px; padding: 8px; display: inline-block; }\n",
       ".guitar-fret-nums { display: flex; font-size: 12px; color: #333; margin-bottom: 2px; }\n",
       ".guitar-fret-num { width: 32px; text-align: center; font-weight: bold; border-right: 2.5px solid #888; }\n",
       ".guitar-dot { height: 6px; text-align: center; color: #444; font-size: 10px; }\n",
       ".guitar-row { display: flex; align-items: center; position: relative; }\n",
       ".guitar-string-name { width: 24px; text-align: right; margin-right: 0px; font-weight: bold; color: #444; }\n",
       ".guitar-cell, .guitar-note { width: 32px; height: 32px; display: flex; align-items: center; justify-content: center; border-right: 2.5px solid #888; position: relative; }\n",
       ".guitar-cell { border-bottom: 1.2px solid #bbb; background: none; }\n",
       ".guitar-note { background: rgba(255, 255, 0, 0.7); color: #222; \n",
       "</style><div class=\"guitar-fretboard\"><div class=\"guitar-fret-nums\"><div class=\"guitar-string-name\"></div><div class=\"guitar-fret-num\">0</div><div class=\"guitar-fret-num\">1</div><div class=\"guitar-fret-num\">2</div><div class=\"guitar-fret-num\">3</div><div class=\"guitar-fret-num\">4</div><div class=\"guitar-fret-num\">5</div><div class=\"guitar-fret-num\">6</div><div class=\"guitar-fret-num\">7</div><div class=\"guitar-fret-num\">8</div><div class=\"guitar-fret-num\">9</div><div class=\"guitar-fret-num\">10</div><div class=\"guitar-fret-num\">11</div><div class=\"guitar-fret-num\">12</div><div class=\"guitar-fret-num\">13</div><div class=\"guitar-fret-num\">14</div><div class=\"guitar-fret-num\">15</div><div class=\"guitar-fret-num\">16</div><div class=\"guitar-fret-num\">17</div><div class=\"guitar-fret-num\">18</div><div class=\"guitar-fret-num\">19</div><div class=\"guitar-fret-num\">20</div><div class=\"guitar-fret-num\">21</div><div class=\"guitar-fret-num\">22</div></div><div class=\"guitar-row\"><div class=\"guitar-string-name\">E</div><div class=\"guitar-note\">E</div><div class=\"guitar-note\">F</div><div class=\"guitar-cell\"></div><div class=\"guitar-note\">G</div><div class=\"guitar-cell\"></div><div class=\"guitar-note\">A</div><div class=\"guitar-cell\"></div><div class=\"guitar-note\">B</div><div class=\"guitar-note\">C</div><div class=\"guitar-cell\"></div><div class=\"guitar-note\">D</div><div class=\"guitar-cell\"></div><div class=\"guitar-note\">E</div><div class=\"guitar-note\">F</div><div class=\"guitar-cell\"></div><div class=\"guitar-note\">G</div><div class=\"guitar-cell\"></div><div class=\"guitar-note\">A</div><div class=\"guitar-cell\"></div><div class=\"guitar-note\">B</div><div class=\"guitar-note\">C</div><div class=\"guitar-cell\"></div><div class=\"guitar-note\">D</div></div><div class=\"guitar-row\"><div class=\"guitar-string-name\">B</div><div class=\"guitar-note\">B</div><div class=\"guitar-note\">C</div><div class=\"guitar-cell\"></div><div class=\"guitar-note\">D</div><div class=\"guitar-cell\"></div><div class=\"guitar-note\">E</div><div class=\"guitar-note\">F</div><div class=\"guitar-cell\"></div><div class=\"guitar-note\">G</div><div class=\"guitar-cell\"></div><div class=\"guitar-note\">A</div><div class=\"guitar-cell\"></div><div class=\"guitar-note\">B</div><div class=\"guitar-note\">C</div><div class=\"guitar-cell\"></div><div class=\"guitar-note\">D</div><div class=\"guitar-cell\"></div><div class=\"guitar-note\">E</div><div class=\"guitar-note\">F</div><div class=\"guitar-cell\"></div><div class=\"guitar-note\">G</div><div class=\"guitar-cell\"></div><div class=\"guitar-note\">A</div></div><div class=\"guitar-row\"><div class=\"guitar-string-name\">G</div><div class=\"guitar-note\">G</div><div class=\"guitar-cell\"></div><div class=\"guitar-note\">A</div><div class=\"guitar-cell\"></div><div class=\"guitar-note\">B</div><div class=\"guitar-note\">C</div><div class=\"guitar-cell\"></div><div class=\"guitar-note\">D</div><div class=\"guitar-cell\"></div><div class=\"guitar-note\">E</div><div class=\"guitar-note\">F</div><div class=\"guitar-cell\"></div><div class=\"guitar-note\">G</div><div class=\"guitar-cell\"></div><div class=\"guitar-note\">A</div><div class=\"guitar-cell\"></div><div class=\"guitar-note\">B</div><div class=\"guitar-note\">C</div><div class=\"guitar-cell\"></div><div class=\"guitar-note\">D</div><div class=\"guitar-cell\"></div><div class=\"guitar-note\">E</div><div class=\"guitar-note\">F</div></div><div class=\"guitar-row\"><div class=\"guitar-string-name\">D</div><div class=\"guitar-note\">D</div><div class=\"guitar-cell\"></div><div class=\"guitar-note\">E</div><div class=\"guitar-note\">F</div><div class=\"guitar-cell\"></div><div class=\"guitar-note\">G</div><div class=\"guitar-cell\"></div><div class=\"guitar-note\">A</div><div class=\"guitar-cell\"></div><div class=\"guitar-note\">B</div><div class=\"guitar-note\">C</div><div class=\"guitar-cell\"></div><div class=\"guitar-note\">D</div><div class=\"guitar-cell\"></div><div class=\"guitar-note\">E</div><div class=\"guitar-note\">F</div><div class=\"guitar-cell\"></div><div class=\"guitar-note\">G</div><div class=\"guitar-cell\"></div><div class=\"guitar-note\">A</div><div class=\"guitar-cell\"></div><div class=\"guitar-note\">B</div><div class=\"guitar-note\">C</div></div><div class=\"guitar-row\"><div class=\"guitar-string-name\">A</div><div class=\"guitar-note\">A</div><div class=\"guitar-cell\"></div><div class=\"guitar-note\">B</div><div class=\"guitar-note\">C</div><div class=\"guitar-cell\"></div><div class=\"guitar-note\">D</div><div class=\"guitar-cell\"></div><div class=\"guitar-note\">E</div><div class=\"guitar-note\">F</div><div class=\"guitar-cell\"></div><div class=\"guitar-note\">G</div><div class=\"guitar-cell\"></div><div class=\"guitar-note\">A</div><div class=\"guitar-cell\"></div><div class=\"guitar-note\">B</div><div class=\"guitar-note\">C</div><div class=\"guitar-cell\"></div><div class=\"guitar-note\">D</div><div class=\"guitar-cell\"></div><div class=\"guitar-note\">E</div><div class=\"guitar-note\">F</div><div class=\"guitar-cell\"></div><div class=\"guitar-note\">G</div></div><div class=\"guitar-row\"><div class=\"guitar-string-name\">E</div><div class=\"guitar-note\">E</div><div class=\"guitar-note\">F</div><div class=\"guitar-cell\"></div><div class=\"guitar-note\">G</div><div class=\"guitar-cell\"></div><div class=\"guitar-note\">A</div><div class=\"guitar-cell\"></div><div class=\"guitar-note\">B</div><div class=\"guitar-note\">C</div><div class=\"guitar-cell\"></div><div class=\"guitar-note\">D</div><div class=\"guitar-cell\"></div><div class=\"guitar-note\">E</div><div class=\"guitar-note\">F</div><div class=\"guitar-cell\"></div><div class=\"guitar-note\">G</div><div class=\"guitar-cell\"></div><div class=\"guitar-note\">A</div><div class=\"guitar-cell\"></div><div class=\"guitar-note\">B</div><div class=\"guitar-note\">C</div><div class=\"guitar-cell\"></div><div class=\"guitar-note\">D</div></div></div>"
      ],
      "text/plain": [
       "<IPython.core.display.HTML object>"
      ]
     },
     "execution_count": null,
     "metadata": {},
     "output_type": "execute_result"
    }
   ],
   "source": [
    "guitar.visualize_scale(Scale(\"major\"), root=\"C\")"
   ]
  },
  {
   "cell_type": "markdown",
   "metadata": {},
   "source": [
    "----------------"
   ]
  },
  {
   "cell_type": "code",
   "execution_count": null,
   "metadata": {},
   "outputs": [],
   "source": [
    "#| hide\n",
    "import nbdev; nbdev.nbdev_export()"
   ]
  }
 ],
 "metadata": {
  "kernelspec": {
   "display_name": "python3",
   "language": "python",
   "name": "python3"
  }
 },
 "nbformat": 4,
 "nbformat_minor": 2
}
