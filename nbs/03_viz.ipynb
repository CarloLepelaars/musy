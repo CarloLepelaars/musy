{
 "cells": [
  {
   "cell_type": "markdown",
   "metadata": {},
   "source": [
    "# Visualization\n",
    "\n",
    "> Visualization tools such as piano keys and guitar fretboards."
   ]
  },
  {
   "cell_type": "code",
   "execution_count": null,
   "metadata": {},
   "outputs": [],
   "source": [
    "#|default_exp viz"
   ]
  },
  {
   "cell_type": "code",
   "execution_count": null,
   "metadata": {},
   "outputs": [],
   "source": [
    "#|hide\n",
    "from nbdev.showdoc import *"
   ]
  },
  {
   "cell_type": "code",
   "execution_count": null,
   "metadata": {},
   "outputs": [],
   "source": [
    "#|export\n",
    "from fasthtml import *\n",
    "from fastcore.all import *\n",
    "from fasthtml.jupyter import render_ft\n",
    "from IPython.display import HTML\n",
    "\n",
    "from musy import Note, Chord, Scale\n",
    "\n",
    "render_ft()"
   ]
  },
  {
   "cell_type": "markdown",
   "metadata": {},
   "source": [
    "# Piano"
   ]
  },
  {
   "cell_type": "markdown",
   "metadata": {},
   "source": [
    "The `Piano` object is the basic piano visualization on which we can place `Note`, `Interval`, `Chord` and `Scale` objects."
   ]
  },
  {
   "cell_type": "code",
   "execution_count": null,
   "metadata": {},
   "outputs": [],
   "source": [
    "#|export\n",
    "class Piano:\n",
    "    def __ft__(self, midi_notes: list[int] = []):\n",
    "        css = \"\"\"\n",
    "    <style>\n",
    "    .piano { background: #222; padding: 20px 0; position: relative; width: 480px; }\n",
    "    .white-keys { display: flex; }\n",
    "    .white-key {\n",
    "        width: 40px; height: 125px; background: #fff;\n",
    "        border: 1px solid #000;\n",
    "        color: #111; font-size: 18px; text-align: center; line-height: 200px; font-family: Arial;\n",
    "        position: relative; z-index: 1;\n",
    "    }\n",
    "    .black-key {\n",
    "        width: 20px; height: 80px; background: #000; color: #fff;\n",
    "        border: 1px solid #333; position: absolute; z-index: 2;\n",
    "        text-align: center; line-height: 100px; font-family: Arial; font-size: 14px;\n",
    "        left: 0; top: 20px; pointer-events: none;\n",
    "    }\n",
    "    .highlight { background: #ff0 !important; color: #000 !important; }\n",
    "    .highlight-black { background: #ff0 !important; color: #000 !important; }\n",
    "    </style>\n",
    "    \"\"\"\n",
    "        max_midi = max(midi_notes) if midi_notes else 60 \n",
    "        min_midi = min(midi_notes) if midi_notes else 60\n",
    "        start_octave = (min_midi // 12)\n",
    "        end_octave = (max_midi // 12)\n",
    "        \n",
    "        # Generate white notes for all octaves\n",
    "        white_notes = []\n",
    "        for oct in range(start_octave, end_octave + 1):\n",
    "            for note in ['C', 'D', 'E', 'F', 'G', 'A', 'B']:\n",
    "                midi = Note(f\"{note}\", oct).midi\n",
    "                white_notes.append((note, midi))\n",
    "        \n",
    "        # Generate black keys for all octaves\n",
    "        black_keys = []\n",
    "        for oct in range(start_octave, end_octave + 1):\n",
    "            black_pattern = [\n",
    "                (0, ('C#', 'Db')), (1, ('D#', 'Eb')), (3, ('F#', 'Gb')), \n",
    "                (4, ('G#', 'Ab')), (5, ('A#', 'Bb'))\n",
    "            ]\n",
    "            for idx, (sharp, flat) in black_pattern:\n",
    "                midi = Note(f\"{sharp}\", oct=oct).midi\n",
    "                black_keys.append((idx + (oct - start_octave) * 7, (sharp, midi)))\n",
    "        \n",
    "        html = f'<div class=\"piano\" style=\"width:{len(white_notes)*40}px\">'\n",
    "        html += '<div class=\"white-keys\">'\n",
    "        \n",
    "        # Render white keys\n",
    "        for note, midi in white_notes:\n",
    "            cls = \"white-key\"\n",
    "            if midi in midi_notes:\n",
    "                cls += \" highlight\"\n",
    "            html += f'<div class=\"{cls}\">{note}</div>'\n",
    "        \n",
    "        # Render black keys\n",
    "        for idx, (sharp, midi) in black_keys:\n",
    "            cls = \"black-key\"\n",
    "            if midi in midi_notes:\n",
    "                cls += \" highlight-black\"\n",
    "            left = (idx + 1) * 40 - 11\n",
    "            html += f'<div class=\"{cls}\" style=\"left:{left}px\">{sharp}</div>'\n",
    "        \n",
    "        html += '</div>'\n",
    "        return HTML(css + html)\n",
    "    \n",
    "    def visualize_note(self, note: Note):\n",
    "        return self.__ft__([note.midi])\n",
    "    \n",
    "    def visualize_notes(self, notes: list[Note]):\n",
    "        return self.__ft__([n.midi for n in notes])\n",
    "    \n",
    "    def visualize_chord(self, chord: Chord):\n",
    "        return self.__ft__([n.midi for n in chord.notes])\n",
    "    \n",
    "    def visualize_scale(self, scale: Scale, root: str = \"C\", octs = 2):\n",
    "        return self.__ft__([n.midi for oct in range(1, octs+1) for n in scale.get_notes(root, oct=oct)])\n",
    "    \n",
    "    def __call__(self, highlight = None):\n",
    "        if not highlight:\n",
    "            return self.__ft__([])\n",
    "        elif isinstance(highlight, Note):\n",
    "            return self.visualize_note(highlight)\n",
    "        elif isinstance(highlight, Chord):\n",
    "            return self.visualize_chord(highlight)\n",
    "        elif isinstance(highlight, Scale):\n",
    "            return self.visualize_scale(highlight)\n",
    "        elif isinstance(highlight, list):\n",
    "            return self.__ft__([n.midi for n in highlight])\n",
    "        else:\n",
    "            raise ValueError(f\"Unsupported type: {type(highlight)}\")"
   ]
  },
  {
   "cell_type": "markdown",
   "metadata": {},
   "source": [
    "## Initialization\n",
    "\n",
    "To get an empty piano, just call on an initialized `Piano` object without arguments."
   ]
  },
  {
   "cell_type": "code",
   "execution_count": null,
   "metadata": {},
   "outputs": [
    {
     "data": {
      "text/html": [
       "\n",
       "    <style>\n",
       "    .piano { background: #222; padding: 20px 0; position: relative; width: 480px; }\n",
       "    .white-keys { display: flex; }\n",
       "    .white-key {\n",
       "        width: 40px; height: 125px; background: #fff;\n",
       "        border: 1px solid #000;\n",
       "        color: #111; font-size: 18px; text-align: center; line-height: 200px; font-family: Arial;\n",
       "        position: relative; z-index: 1;\n",
       "    }\n",
       "    .black-key {\n",
       "        width: 20px; height: 80px; background: #000; color: #fff;\n",
       "        border: 1px solid #333; position: absolute; z-index: 2;\n",
       "        text-align: center; line-height: 100px; font-family: Arial; font-size: 14px;\n",
       "        left: 0; top: 20px; pointer-events: none;\n",
       "    }\n",
       "    .highlight { background: #ff0 !important; color: #000 !important; }\n",
       "    .highlight-black { background: #ff0 !important; color: #000 !important; }\n",
       "    </style>\n",
       "    <div class=\"piano\" style=\"width:280px\"><div class=\"white-keys\"><div class=\"white-key\">C</div><div class=\"white-key\">D</div><div class=\"white-key\">E</div><div class=\"white-key\">F</div><div class=\"white-key\">G</div><div class=\"white-key\">A</div><div class=\"white-key\">B</div><div class=\"black-key\" style=\"left:29px\">C#</div><div class=\"black-key\" style=\"left:69px\">D#</div><div class=\"black-key\" style=\"left:149px\">F#</div><div class=\"black-key\" style=\"left:189px\">G#</div><div class=\"black-key\" style=\"left:229px\">A#</div></div>"
      ],
      "text/plain": [
       "<IPython.core.display.HTML object>"
      ]
     },
     "execution_count": null,
     "metadata": {},
     "output_type": "execute_result"
    }
   ],
   "source": [
    "piano = Piano()\n",
    "piano()"
   ]
  },
  {
   "cell_type": "markdown",
   "metadata": {},
   "source": [
    "## Highlighting\n",
    "\n",
    "We can highlight single `Note` objects with the `visualize_note` method.\n",
    "\n",
    "For example, here we highlight the `C#` notes on the piano."
   ]
  },
  {
   "cell_type": "code",
   "execution_count": null,
   "metadata": {},
   "outputs": [
    {
     "data": {
      "text/html": [
       "\n",
       "    <style>\n",
       "    .piano { background: #222; padding: 20px 0; position: relative; width: 480px; }\n",
       "    .white-keys { display: flex; }\n",
       "    .white-key {\n",
       "        width: 40px; height: 125px; background: #fff;\n",
       "        border: 1px solid #000;\n",
       "        color: #111; font-size: 18px; text-align: center; line-height: 200px; font-family: Arial;\n",
       "        position: relative; z-index: 1;\n",
       "    }\n",
       "    .black-key {\n",
       "        width: 20px; height: 80px; background: #000; color: #fff;\n",
       "        border: 1px solid #333; position: absolute; z-index: 2;\n",
       "        text-align: center; line-height: 100px; font-family: Arial; font-size: 14px;\n",
       "        left: 0; top: 20px; pointer-events: none;\n",
       "    }\n",
       "    .highlight { background: #ff0 !important; color: #000 !important; }\n",
       "    .highlight-black { background: #ff0 !important; color: #000 !important; }\n",
       "    </style>\n",
       "    <div class=\"piano\" style=\"width:280px\"><div class=\"white-keys\"><div class=\"white-key\">C</div><div class=\"white-key\">D</div><div class=\"white-key\">E</div><div class=\"white-key\">F</div><div class=\"white-key\">G</div><div class=\"white-key\">A</div><div class=\"white-key\">B</div><div class=\"black-key highlight-black\" style=\"left:29px\">C#</div><div class=\"black-key\" style=\"left:69px\">D#</div><div class=\"black-key\" style=\"left:149px\">F#</div><div class=\"black-key\" style=\"left:189px\">G#</div><div class=\"black-key\" style=\"left:229px\">A#</div></div>"
      ],
      "text/plain": [
       "<IPython.core.display.HTML object>"
      ]
     },
     "execution_count": null,
     "metadata": {},
     "output_type": "execute_result"
    }
   ],
   "source": [
    "piano.visualize_note(Note(\"C#\"))"
   ]
  },
  {
   "cell_type": "markdown",
   "metadata": {},
   "source": [
    "`Chord` objects can be visualized on the piano by passing a chord to `visualize_chord`."
   ]
  },
  {
   "cell_type": "code",
   "execution_count": null,
   "metadata": {},
   "outputs": [
    {
     "data": {
      "text/plain": [
       "[C4, E4, G4, B4]"
      ]
     },
     "execution_count": null,
     "metadata": {},
     "output_type": "execute_result"
    }
   ],
   "source": [
    "# Notes for a Cmaj7 chord\n",
    "chord = Chord.from_short(\"Cmaj7\")\n",
    "chord.notes"
   ]
  },
  {
   "cell_type": "code",
   "execution_count": null,
   "metadata": {},
   "outputs": [
    {
     "data": {
      "text/html": [
       "\n",
       "    <style>\n",
       "    .piano { background: #222; padding: 20px 0; position: relative; width: 480px; }\n",
       "    .white-keys { display: flex; }\n",
       "    .white-key {\n",
       "        width: 40px; height: 125px; background: #fff;\n",
       "        border: 1px solid #000;\n",
       "        color: #111; font-size: 18px; text-align: center; line-height: 200px; font-family: Arial;\n",
       "        position: relative; z-index: 1;\n",
       "    }\n",
       "    .black-key {\n",
       "        width: 20px; height: 80px; background: #000; color: #fff;\n",
       "        border: 1px solid #333; position: absolute; z-index: 2;\n",
       "        text-align: center; line-height: 100px; font-family: Arial; font-size: 14px;\n",
       "        left: 0; top: 20px; pointer-events: none;\n",
       "    }\n",
       "    .highlight { background: #ff0 !important; color: #000 !important; }\n",
       "    .highlight-black { background: #ff0 !important; color: #000 !important; }\n",
       "    </style>\n",
       "    <div class=\"piano\" style=\"width:280px\"><div class=\"white-keys\"><div class=\"white-key highlight\">C</div><div class=\"white-key\">D</div><div class=\"white-key highlight\">E</div><div class=\"white-key\">F</div><div class=\"white-key highlight\">G</div><div class=\"white-key\">A</div><div class=\"white-key highlight\">B</div><div class=\"black-key\" style=\"left:29px\">C#</div><div class=\"black-key\" style=\"left:69px\">D#</div><div class=\"black-key\" style=\"left:149px\">F#</div><div class=\"black-key\" style=\"left:189px\">G#</div><div class=\"black-key\" style=\"left:229px\">A#</div></div>"
      ],
      "text/plain": [
       "<IPython.core.display.HTML object>"
      ]
     },
     "execution_count": null,
     "metadata": {},
     "output_type": "execute_result"
    }
   ],
   "source": [
    "piano.visualize_chord(chord)"
   ]
  },
  {
   "cell_type": "markdown",
   "metadata": {},
   "source": [
    "A scale can be highlighted by calling `visualize_scale` with a `Scale` object and a root note."
   ]
  },
  {
   "cell_type": "code",
   "execution_count": null,
   "metadata": {},
   "outputs": [
    {
     "data": {
      "text/html": [
       "\n",
       "    <style>\n",
       "    .piano { background: #222; padding: 20px 0; position: relative; width: 480px; }\n",
       "    .white-keys { display: flex; }\n",
       "    .white-key {\n",
       "        width: 40px; height: 125px; background: #fff;\n",
       "        border: 1px solid #000;\n",
       "        color: #111; font-size: 18px; text-align: center; line-height: 200px; font-family: Arial;\n",
       "        position: relative; z-index: 1;\n",
       "    }\n",
       "    .black-key {\n",
       "        width: 20px; height: 80px; background: #000; color: #fff;\n",
       "        border: 1px solid #333; position: absolute; z-index: 2;\n",
       "        text-align: center; line-height: 100px; font-family: Arial; font-size: 14px;\n",
       "        left: 0; top: 20px; pointer-events: none;\n",
       "    }\n",
       "    .highlight { background: #ff0 !important; color: #000 !important; }\n",
       "    .highlight-black { background: #ff0 !important; color: #000 !important; }\n",
       "    </style>\n",
       "    <div class=\"piano\" style=\"width:840px\"><div class=\"white-keys\"><div class=\"white-key\">C</div><div class=\"white-key highlight\">D</div><div class=\"white-key highlight\">E</div><div class=\"white-key\">F</div><div class=\"white-key highlight\">G</div><div class=\"white-key highlight\">A</div><div class=\"white-key highlight\">B</div><div class=\"white-key\">C</div><div class=\"white-key highlight\">D</div><div class=\"white-key highlight\">E</div><div class=\"white-key\">F</div><div class=\"white-key highlight\">G</div><div class=\"white-key highlight\">A</div><div class=\"white-key highlight\">B</div><div class=\"white-key\">C</div><div class=\"white-key\">D</div><div class=\"white-key\">E</div><div class=\"white-key\">F</div><div class=\"white-key\">G</div><div class=\"white-key\">A</div><div class=\"white-key\">B</div><div class=\"black-key\" style=\"left:29px\">C#</div><div class=\"black-key\" style=\"left:69px\">D#</div><div class=\"black-key highlight-black\" style=\"left:149px\">F#</div><div class=\"black-key\" style=\"left:189px\">G#</div><div class=\"black-key\" style=\"left:229px\">A#</div><div class=\"black-key highlight-black\" style=\"left:309px\">C#</div><div class=\"black-key\" style=\"left:349px\">D#</div><div class=\"black-key highlight-black\" style=\"left:429px\">F#</div><div class=\"black-key\" style=\"left:469px\">G#</div><div class=\"black-key\" style=\"left:509px\">A#</div><div class=\"black-key highlight-black\" style=\"left:589px\">C#</div><div class=\"black-key\" style=\"left:629px\">D#</div><div class=\"black-key\" style=\"left:709px\">F#</div><div class=\"black-key\" style=\"left:749px\">G#</div><div class=\"black-key\" style=\"left:789px\">A#</div></div>"
      ],
      "text/plain": [
       "<IPython.core.display.HTML object>"
      ]
     },
     "execution_count": null,
     "metadata": {},
     "output_type": "execute_result"
    }
   ],
   "source": [
    "major = Scale(\"major\")\n",
    "piano.visualize_scale(major, root=\"D\")"
   ]
  },
  {
   "cell_type": "markdown",
   "metadata": {},
   "source": [
    "You can decide to visualize more octaves with the `octs` parameter."
   ]
  },
  {
   "cell_type": "code",
   "execution_count": null,
   "metadata": {},
   "outputs": [
    {
     "data": {
      "text/html": [
       "\n",
       "    <style>\n",
       "    .piano { background: #222; padding: 20px 0; position: relative; width: 480px; }\n",
       "    .white-keys { display: flex; }\n",
       "    .white-key {\n",
       "        width: 40px; height: 125px; background: #fff;\n",
       "        border: 1px solid #000;\n",
       "        color: #111; font-size: 18px; text-align: center; line-height: 200px; font-family: Arial;\n",
       "        position: relative; z-index: 1;\n",
       "    }\n",
       "    .black-key {\n",
       "        width: 20px; height: 80px; background: #000; color: #fff;\n",
       "        border: 1px solid #333; position: absolute; z-index: 2;\n",
       "        text-align: center; line-height: 100px; font-family: Arial; font-size: 14px;\n",
       "        left: 0; top: 20px; pointer-events: none;\n",
       "    }\n",
       "    .highlight { background: #ff0 !important; color: #000 !important; }\n",
       "    .highlight-black { background: #ff0 !important; color: #000 !important; }\n",
       "    </style>\n",
       "    <div class=\"piano\" style=\"width:840px\"><div class=\"white-keys\"><div class=\"white-key highlight\">C</div><div class=\"white-key\">D</div><div class=\"white-key highlight\">E</div><div class=\"white-key highlight\">F</div><div class=\"white-key highlight\">G</div><div class=\"white-key\">A</div><div class=\"white-key highlight\">B</div><div class=\"white-key highlight\">C</div><div class=\"white-key\">D</div><div class=\"white-key highlight\">E</div><div class=\"white-key highlight\">F</div><div class=\"white-key highlight\">G</div><div class=\"white-key\">A</div><div class=\"white-key highlight\">B</div><div class=\"white-key highlight\">C</div><div class=\"white-key\">D</div><div class=\"white-key highlight\">E</div><div class=\"white-key highlight\">F</div><div class=\"white-key highlight\">G</div><div class=\"white-key\">A</div><div class=\"white-key highlight\">B</div><div class=\"black-key highlight-black\" style=\"left:29px\">C#</div><div class=\"black-key\" style=\"left:69px\">D#</div><div class=\"black-key\" style=\"left:149px\">F#</div><div class=\"black-key highlight-black\" style=\"left:189px\">G#</div><div class=\"black-key\" style=\"left:229px\">A#</div><div class=\"black-key highlight-black\" style=\"left:309px\">C#</div><div class=\"black-key\" style=\"left:349px\">D#</div><div class=\"black-key\" style=\"left:429px\">F#</div><div class=\"black-key highlight-black\" style=\"left:469px\">G#</div><div class=\"black-key\" style=\"left:509px\">A#</div><div class=\"black-key highlight-black\" style=\"left:589px\">C#</div><div class=\"black-key\" style=\"left:629px\">D#</div><div class=\"black-key\" style=\"left:709px\">F#</div><div class=\"black-key highlight-black\" style=\"left:749px\">G#</div><div class=\"black-key\" style=\"left:789px\">A#</div></div>"
      ],
      "text/plain": [
       "<IPython.core.display.HTML object>"
      ]
     },
     "execution_count": null,
     "metadata": {},
     "output_type": "execute_result"
    }
   ],
   "source": [
    "double_harmonic_major = Scale(\"double harmonic major\")\n",
    "piano.visualize_scale(double_harmonic_major, root=\"C\", octs=3)"
   ]
  },
  {
   "cell_type": "markdown",
   "metadata": {},
   "source": [
    "# Guitar"
   ]
  },
  {
   "cell_type": "code",
   "execution_count": null,
   "metadata": {},
   "outputs": [],
   "source": [
    "#|export\n",
    "class Guitar:\n",
    "    def __ft__(self, highlight: list[Note] = None):\n",
    "        ..."
   ]
  },
  {
   "cell_type": "code",
   "execution_count": null,
   "metadata": {},
   "outputs": [],
   "source": [
    "#| hide\n",
    "import nbdev; nbdev.nbdev_export()"
   ]
  }
 ],
 "metadata": {
  "kernelspec": {
   "display_name": "python3",
   "language": "python",
   "name": "python3"
  }
 },
 "nbformat": 4,
 "nbformat_minor": 2
}
