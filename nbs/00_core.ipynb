{
 "cells": [
  {
   "cell_type": "markdown",
   "metadata": {},
   "source": [
    "# core\n",
    "\n",
    "> Basic musy building blocks"
   ]
  },
  {
   "cell_type": "code",
   "execution_count": null,
   "metadata": {},
   "outputs": [],
   "source": [
    "#|default_exp core"
   ]
  },
  {
   "cell_type": "code",
   "execution_count": null,
   "metadata": {},
   "outputs": [],
   "source": [
    "#|hide\n",
    "from nbdev.showdoc import *"
   ]
  },
  {
   "cell_type": "code",
   "execution_count": null,
   "metadata": {},
   "outputs": [],
   "source": [
    "#|export\n",
    "from fastcore.all import *\n",
    "from mingus.core import chords, notes, intervals"
   ]
  },
  {
   "cell_type": "markdown",
   "metadata": {},
   "source": [
    "# Base Variables"
   ]
  },
  {
   "cell_type": "markdown",
   "metadata": {},
   "source": [
    "These variables contain the basic orderings for Western music theory."
   ]
  },
  {
   "cell_type": "code",
   "execution_count": null,
   "metadata": {},
   "outputs": [],
   "source": [
    "#|export\n",
    "BASE_NOTES = [\"C\", \"D\", \"E\", \"F\", \"G\", \"A\", \"B\"]\n",
    "CHROMATIC_NOTES = [\"C\", \"C#\", \"D\", \"D#\", \"E\", \"F\", \"F#\", \"G\", \"G#\", \"A\", \"A#\", \"B\"]\n",
    "ENHARMONIC_NOTES = [\"C\", \"C#\", \"Db\", \"D\", \"D#\", \"Eb\", \"E\", \"Fb\", \"E#\", \"F\", \"F#\", \"Gb\",\n",
    "                    \"G\", \"G#\", \"Ab\", \"A\", \"A#\", \"Bb\", \"B\", \"Cb\", \"B#\"]\n",
    "INTERVALS = [\"1\", \"b2\", \"2\", \"b3\", \"3\", \"4\", \"#4\", \"5\", \"b6\", \"6\", \"b7\", \"7\"]"
   ]
  },
  {
   "cell_type": "markdown",
   "metadata": {},
   "source": [
    "# Note"
   ]
  },
  {
   "cell_type": "markdown",
   "metadata": {},
   "source": [
    "The `Note` is the basic atomic unit in music. Combinations of notes will form chords and scales. Notes and chords together will form songs."
   ]
  },
  {
   "cell_type": "code",
   "execution_count": null,
   "metadata": {},
   "outputs": [],
   "source": [
    "#|export\n",
    "class Note(BasicRepr):\n",
    "    def __init__(self, note: str):\n",
    "        # Transform note to uppercase\n",
    "        note = note[0].upper() + note[1:]\n",
    "        assert notes.is_valid_note(note), f\"Note '{note}' is not valid\"\n",
    "        self.note = self.postprocess_note(notes.remove_redundant_accidentals(note))\n",
    "\n",
    "    @staticmethod\n",
    "    def postprocess_note(note: str):\n",
    "        \"\"\" Get rid of unnecessary accidentals.\"\"\"\n",
    "        if note == \"B#\": note = \"C\"\n",
    "        elif note == \"E#\": note = \"F\"\n",
    "        elif note == \"Cb\": note = \"B\"\n",
    "        elif note == \"Fb\": note = \"E\"\n",
    "        elif note.endswith(\"##\"):\n",
    "            note = BASE_NOTES[BASE_NOTES.index(note[0])+1]\n",
    "        elif note.endswith(\"bb\"):\n",
    "            note = BASE_NOTES[BASE_NOTES.index(note[0])-1]\n",
    "        return str(note)\n",
    "    \n",
    "    def __str__(self): return self.note\n",
    "    def __eq__(self, other): return str(self) == str(other)\n",
    "    def __ne__(self, other): return not str(self) == str(other) "
   ]
  },
  {
   "cell_type": "code",
   "execution_count": null,
   "metadata": {},
   "outputs": [
    {
     "data": {
      "text/plain": [
       "Note(note='A#')"
      ]
     },
     "execution_count": null,
     "metadata": {},
     "output_type": "execute_result"
    }
   ],
   "source": [
    "a_sharp = Note(\"A#\")\n",
    "a_sharp"
   ]
  },
  {
   "cell_type": "code",
   "execution_count": null,
   "metadata": {},
   "outputs": [
    {
     "data": {
      "text/plain": [
       "'A#'"
      ]
     },
     "execution_count": null,
     "metadata": {},
     "output_type": "execute_result"
    }
   ],
   "source": [
    "assert str(a_sharp) == \"A#\"\n",
    "a_sharp.note"
   ]
  },
  {
   "cell_type": "code",
   "execution_count": null,
   "metadata": {},
   "outputs": [
    {
     "data": {
      "text/plain": [
       "Note(note='C#')"
      ]
     },
     "execution_count": null,
     "metadata": {},
     "output_type": "execute_result"
    }
   ],
   "source": [
    "c_sharp = Note(\"C#\")\n",
    "c_sharp"
   ]
  },
  {
   "cell_type": "code",
   "execution_count": null,
   "metadata": {},
   "outputs": [],
   "source": [
    "assert Note(\"E#\") == \"F\"\n",
    "assert Note(\"B#\") == \"C\"\n",
    "assert Note(\"C##\") == \"D\"\n",
    "assert Note(\"Fb\") == \"E\"\n",
    "assert Note(\"Abb\") == \"G\"\n",
    "assert Note(\"Bbb\") == \"A\"\n",
    "assert Note(\"Cb\") == \"B\"\n",
    "assert Note(\"C\") == Note(\"C\")\n",
    "assert Note(\"E#\") == Note(\"F\")\n",
    "assert Note(\"A#\") != Note(\"B\")"
   ]
  },
  {
   "cell_type": "markdown",
   "metadata": {},
   "source": [
    "## Adding to Note\n",
    "\n",
    "Adding semitones to a note will return a new note with n semitones added above the original note.\n",
    "\n",
    "For example, adding 1 semitone to A# will return B."
   ]
  },
  {
   "cell_type": "code",
   "execution_count": null,
   "metadata": {},
   "outputs": [],
   "source": [
    "#|export\n",
    "@patch\n",
    "def __add__(self:Note, semitones: int):\n",
    "    \"\"\"Add n semitones to a note.\"\"\"\n",
    "    return Note(intervals.from_shorthand(str(self), INTERVALS[(semitones)%12]))"
   ]
  },
  {
   "cell_type": "code",
   "execution_count": null,
   "metadata": {},
   "outputs": [
    {
     "name": "stdout",
     "output_type": "stream",
     "text": [
      "B\n",
      "C\n",
      "C#\n",
      "D\n",
      "D#\n",
      "E\n",
      "F\n",
      "F#\n",
      "G\n",
      "G#\n",
      "A\n",
      "A#\n"
     ]
    }
   ],
   "source": [
    "for i in range(1, 13):\n",
    "    print(a_sharp+i)"
   ]
  },
  {
   "cell_type": "code",
   "execution_count": null,
   "metadata": {},
   "outputs": [],
   "source": [
    "assert str(a_sharp+1) == \"B\"\n",
    "assert str(a_sharp+11) == \"A\"\n",
    "assert str(a_sharp+12) == \"A#\"\n",
    "assert str(a_sharp+13) == \"B\""
   ]
  },
  {
   "cell_type": "markdown",
   "metadata": {},
   "source": [
    "## Subtracting from Note\n",
    "\n",
    "Subtracting semitones from a note will return a new note with `n` semitones subtracted from the original note.\n",
    "\n",
    "For example, subtracting 1 semitone from C will return B. subtracting 1 semitone from A# will return A.\n"
   ]
  },
  {
   "cell_type": "code",
   "execution_count": null,
   "metadata": {},
   "outputs": [],
   "source": [
    "#|export\n",
    "@patch\n",
    "def __sub__(self:Note, semitones: int):\n",
    "    return Note(intervals.from_shorthand(str(self), INTERVALS[(semitones)%12], False))"
   ]
  },
  {
   "cell_type": "code",
   "execution_count": null,
   "metadata": {},
   "outputs": [
    {
     "name": "stdout",
     "output_type": "stream",
     "text": [
      "A\n",
      "G#\n",
      "G\n",
      "F#\n",
      "F\n",
      "E\n",
      "D#\n",
      "D\n",
      "C#\n",
      "C\n",
      "B\n",
      "A#\n"
     ]
    }
   ],
   "source": [
    "for i in range(1, 13):\n",
    "    print(a_sharp-i)"
   ]
  },
  {
   "cell_type": "code",
   "execution_count": null,
   "metadata": {},
   "outputs": [],
   "source": [
    "assert str(a_sharp-1) == \"A\"\n",
    "assert str(a_sharp-11) == \"B\"\n",
    "assert str(a_sharp-12) == \"A#\"\n",
    "assert str(a_sharp-13) == \"A\""
   ]
  },
  {
   "cell_type": "markdown",
   "metadata": {},
   "source": [
    "## Augment"
   ]
  },
  {
   "cell_type": "markdown",
   "metadata": {},
   "source": [
    "Augmenting adds a sharp to a note.\n",
    "\n",
    "For example, augmenting A# will return B."
   ]
  },
  {
   "cell_type": "code",
   "execution_count": null,
   "metadata": {},
   "outputs": [],
   "source": [
    "#|export\n",
    "@patch\n",
    "def augment(self:Note):\n",
    "    return Note(str(self) + \"#\" if str(self)[-1] != \"b\" else str(self)[:-1])"
   ]
  },
  {
   "cell_type": "code",
   "execution_count": null,
   "metadata": {},
   "outputs": [
    {
     "data": {
      "text/plain": [
       "Note(note='B')"
      ]
     },
     "execution_count": null,
     "metadata": {},
     "output_type": "execute_result"
    }
   ],
   "source": [
    "assert str(a_sharp.augment()) == \"B\"\n",
    "a_sharp.augment()"
   ]
  },
  {
   "cell_type": "markdown",
   "metadata": {},
   "source": [
    "`augment` operations can be chained together."
   ]
  },
  {
   "cell_type": "code",
   "execution_count": null,
   "metadata": {},
   "outputs": [
    {
     "data": {
      "text/plain": [
       "Note(note='D')"
      ]
     },
     "execution_count": null,
     "metadata": {},
     "output_type": "execute_result"
    }
   ],
   "source": [
    "assert str(a_sharp.augment().augment().augment().augment()) == \"D\"\n",
    "a_sharp.augment().augment().augment().augment()"
   ]
  },
  {
   "cell_type": "markdown",
   "metadata": {},
   "source": [
    "## Diminish\n",
    "\n",
    "Diminishing a note is the inverse of augmenting a note and removes a sharp from a note.\n",
    "\n",
    "For example, diminishing A# will return A."
   ]
  },
  {
   "cell_type": "code",
   "execution_count": null,
   "metadata": {},
   "outputs": [],
   "source": [
    "#|export\n",
    "@patch\n",
    "def diminish(self:Note):\n",
    "    return Note(str(self) + \"b\" if str(self)[-1] != \"#\" else str(self)[:-1])"
   ]
  },
  {
   "cell_type": "code",
   "execution_count": null,
   "metadata": {},
   "outputs": [
    {
     "data": {
      "text/plain": [
       "Note(note='A')"
      ]
     },
     "execution_count": null,
     "metadata": {},
     "output_type": "execute_result"
    }
   ],
   "source": [
    "assert str(a_sharp.diminish()) == \"A\"\n",
    "a_sharp.diminish()"
   ]
  },
  {
   "cell_type": "markdown",
   "metadata": {},
   "source": [
    "As with `augment`, `diminish` operations can be chained together."
   ]
  },
  {
   "cell_type": "code",
   "execution_count": null,
   "metadata": {},
   "outputs": [
    {
     "data": {
      "text/plain": [
       "Note(note='Ab')"
      ]
     },
     "execution_count": null,
     "metadata": {},
     "output_type": "execute_result"
    }
   ],
   "source": [
    "assert str(a_sharp.diminish().diminish()) == \"Ab\"\n",
    "a_sharp.diminish().diminish()"
   ]
  },
  {
   "cell_type": "markdown",
   "metadata": {},
   "source": [
    "Lastly, `augment` and `diminish` can be chained together."
   ]
  },
  {
   "cell_type": "code",
   "execution_count": null,
   "metadata": {},
   "outputs": [
    {
     "data": {
      "text/plain": [
       "Note(note='A#')"
      ]
     },
     "execution_count": null,
     "metadata": {},
     "output_type": "execute_result"
    }
   ],
   "source": [
    "assert str(a_sharp.diminish().augment()) == str(a_sharp)\n",
    "a_sharp.diminish().augment()"
   ]
  },
  {
   "cell_type": "markdown",
   "metadata": {},
   "source": [
    "## Interval\n",
    "\n",
    "Two notes can be combined to form an interval. `interval` returns the name of the interval between two notes."
   ]
  },
  {
   "cell_type": "code",
   "execution_count": null,
   "metadata": {},
   "outputs": [],
   "source": [
    "#|export\n",
    "@patch\n",
    "def interval(self:Note, other:Note, short=False):\n",
    "    return intervals.determine(str(self), str(other), short)"
   ]
  },
  {
   "cell_type": "markdown",
   "metadata": {},
   "source": [
    "The intervals between `A#` and `C#` is a minor third (b3)."
   ]
  },
  {
   "cell_type": "code",
   "execution_count": null,
   "metadata": {},
   "outputs": [
    {
     "data": {
      "text/plain": [
       "'minor third'"
      ]
     },
     "execution_count": null,
     "metadata": {},
     "output_type": "execute_result"
    }
   ],
   "source": [
    "c_sharp = Note(\"C#\")\n",
    "interval = a_sharp.interval(c_sharp)\n",
    "assert interval == \"minor third\"\n",
    "interval"
   ]
  },
  {
   "cell_type": "markdown",
   "metadata": {},
   "source": [
    "Shorthand can be retrieved from `interval` by setting `short=True`."
   ]
  },
  {
   "cell_type": "code",
   "execution_count": null,
   "metadata": {},
   "outputs": [
    {
     "data": {
      "text/plain": [
       "'b3'"
      ]
     },
     "execution_count": null,
     "metadata": {},
     "output_type": "execute_result"
    }
   ],
   "source": [
    "short_interval = a_sharp.interval(c_sharp, short=True)\n",
    "assert short_interval == \"b3\"\n",
    "short_interval"
   ]
  },
  {
   "cell_type": "markdown",
   "metadata": {},
   "source": [
    "## Convert to Major or Minor\n",
    "\n",
    "A note can be converted to its relative major or minor. How this is converted can be visualized on the circle of fifths.\n",
    "\n",
    "<img src=\"https://upload.wikimedia.org/wikipedia/commons/3/33/Circle_of_fifths_deluxe_4.svg\" width=\"40%\" alt=\"Circle of Fifths\">\n",
    "\n",
    "For example, the relative minor of C is A. The relative major of C# is E."
   ]
  },
  {
   "cell_type": "markdown",
   "metadata": {},
   "source": [
    "`minor` converts an arbitrary note to its relative minor. This is done by subtracting 3 semitones from the note."
   ]
  },
  {
   "cell_type": "code",
   "execution_count": null,
   "metadata": {},
   "outputs": [],
   "source": [
    "#|export\n",
    "@patch\n",
    "def minor(self:Note): return self - 3"
   ]
  },
  {
   "cell_type": "code",
   "execution_count": null,
   "metadata": {},
   "outputs": [
    {
     "data": {
      "text/plain": [
       "Note(note='A')"
      ]
     },
     "execution_count": null,
     "metadata": {},
     "output_type": "execute_result"
    }
   ],
   "source": [
    "c = Note(\"C\")\n",
    "assert str(c.minor()) == \"A\"\n",
    "c.minor()"
   ]
  },
  {
   "cell_type": "markdown",
   "metadata": {},
   "source": [
    "`major` converts an arbitrary note to its relative major. We add 3 semitones to the note."
   ]
  },
  {
   "cell_type": "code",
   "execution_count": null,
   "metadata": {},
   "outputs": [],
   "source": [
    "#|export\n",
    "@patch\n",
    "def major(self:Note): return self + 3"
   ]
  },
  {
   "cell_type": "code",
   "execution_count": null,
   "metadata": {},
   "outputs": [
    {
     "data": {
      "text/plain": [
       "Note(note='E')"
      ]
     },
     "execution_count": null,
     "metadata": {},
     "output_type": "execute_result"
    }
   ],
   "source": [
    "assert str(c_sharp.major()) == \"E\"\n",
    "c_sharp.major()"
   ]
  },
  {
   "cell_type": "markdown",
   "metadata": {},
   "source": [
    "# Chord"
   ]
  },
  {
   "cell_type": "code",
   "execution_count": null,
   "metadata": {},
   "outputs": [],
   "source": [
    "# TODO Implement Chord Class"
   ]
  },
  {
   "cell_type": "code",
   "execution_count": null,
   "metadata": {},
   "outputs": [],
   "source": [
    "#| hide\n",
    "import nbdev; nbdev.nbdev_export()"
   ]
  }
 ],
 "metadata": {
  "kernelspec": {
   "display_name": "python3",
   "language": "python",
   "name": "python3"
  }
 },
 "nbformat": 4,
 "nbformat_minor": 4
}
